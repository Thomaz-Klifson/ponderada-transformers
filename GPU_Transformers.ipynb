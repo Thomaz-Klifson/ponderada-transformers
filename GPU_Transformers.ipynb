{
  "cells": [
    {
      "cell_type": "code",
      "execution_count": 1,
      "metadata": {
        "colab": {
          "base_uri": "https://localhost:8080/"
        },
        "collapsed": true,
        "id": "x0Hz1OenvTKn",
        "outputId": "dcbd85f3-745f-4fe2-d3d0-6d4c62526bc1"
      },
      "outputs": [
        {
          "name": "stdout",
          "output_type": "stream",
          "text": [
            "Requirement already satisfied: tensorflow_datasets in /usr/local/lib/python3.11/dist-packages (4.9.7)\n",
            "Requirement already satisfied: absl-py in /usr/local/lib/python3.11/dist-packages (from tensorflow_datasets) (1.4.0)\n",
            "Requirement already satisfied: click in /usr/local/lib/python3.11/dist-packages (from tensorflow_datasets) (8.1.8)\n",
            "Requirement already satisfied: dm-tree in /usr/local/lib/python3.11/dist-packages (from tensorflow_datasets) (0.1.9)\n",
            "Requirement already satisfied: immutabledict in /usr/local/lib/python3.11/dist-packages (from tensorflow_datasets) (4.2.1)\n",
            "Requirement already satisfied: numpy in /usr/local/lib/python3.11/dist-packages (from tensorflow_datasets) (1.26.4)\n",
            "Requirement already satisfied: promise in /usr/local/lib/python3.11/dist-packages (from tensorflow_datasets) (2.3)\n",
            "Requirement already satisfied: protobuf>=3.20 in /usr/local/lib/python3.11/dist-packages (from tensorflow_datasets) (4.25.6)\n",
            "Requirement already satisfied: psutil in /usr/local/lib/python3.11/dist-packages (from tensorflow_datasets) (5.9.5)\n",
            "Requirement already satisfied: pyarrow in /usr/local/lib/python3.11/dist-packages (from tensorflow_datasets) (17.0.0)\n",
            "Requirement already satisfied: requests>=2.19.0 in /usr/local/lib/python3.11/dist-packages (from tensorflow_datasets) (2.32.3)\n",
            "Requirement already satisfied: simple-parsing in /usr/local/lib/python3.11/dist-packages (from tensorflow_datasets) (0.1.7)\n",
            "Requirement already satisfied: tensorflow-metadata in /usr/local/lib/python3.11/dist-packages (from tensorflow_datasets) (1.16.1)\n",
            "Requirement already satisfied: termcolor in /usr/local/lib/python3.11/dist-packages (from tensorflow_datasets) (2.5.0)\n",
            "Requirement already satisfied: toml in /usr/local/lib/python3.11/dist-packages (from tensorflow_datasets) (0.10.2)\n",
            "Requirement already satisfied: tqdm in /usr/local/lib/python3.11/dist-packages (from tensorflow_datasets) (4.67.1)\n",
            "Requirement already satisfied: wrapt in /usr/local/lib/python3.11/dist-packages (from tensorflow_datasets) (1.17.2)\n",
            "Requirement already satisfied: array-record>=0.5.0 in /usr/local/lib/python3.11/dist-packages (from tensorflow_datasets) (0.6.0)\n",
            "Requirement already satisfied: etils>=1.9.1 in /usr/local/lib/python3.11/dist-packages (from etils[edc,enp,epath,epy,etree]>=1.9.1; python_version >= \"3.11\"->tensorflow_datasets) (1.12.0)\n",
            "Requirement already satisfied: fsspec in /usr/local/lib/python3.11/dist-packages (from etils[edc,enp,epath,epy,etree]>=1.9.1; python_version >= \"3.11\"->tensorflow_datasets) (2024.10.0)\n",
            "Requirement already satisfied: importlib_resources in /usr/local/lib/python3.11/dist-packages (from etils[edc,enp,epath,epy,etree]>=1.9.1; python_version >= \"3.11\"->tensorflow_datasets) (6.5.2)\n",
            "Requirement already satisfied: typing_extensions in /usr/local/lib/python3.11/dist-packages (from etils[edc,enp,epath,epy,etree]>=1.9.1; python_version >= \"3.11\"->tensorflow_datasets) (4.12.2)\n",
            "Requirement already satisfied: zipp in /usr/local/lib/python3.11/dist-packages (from etils[edc,enp,epath,epy,etree]>=1.9.1; python_version >= \"3.11\"->tensorflow_datasets) (3.21.0)\n",
            "Requirement already satisfied: charset-normalizer<4,>=2 in /usr/local/lib/python3.11/dist-packages (from requests>=2.19.0->tensorflow_datasets) (3.4.1)\n",
            "Requirement already satisfied: idna<4,>=2.5 in /usr/local/lib/python3.11/dist-packages (from requests>=2.19.0->tensorflow_datasets) (3.10)\n",
            "Requirement already satisfied: urllib3<3,>=1.21.1 in /usr/local/lib/python3.11/dist-packages (from requests>=2.19.0->tensorflow_datasets) (2.3.0)\n",
            "Requirement already satisfied: certifi>=2017.4.17 in /usr/local/lib/python3.11/dist-packages (from requests>=2.19.0->tensorflow_datasets) (2025.1.31)\n",
            "Requirement already satisfied: attrs>=18.2.0 in /usr/local/lib/python3.11/dist-packages (from dm-tree->tensorflow_datasets) (25.1.0)\n",
            "Requirement already satisfied: six in /usr/local/lib/python3.11/dist-packages (from promise->tensorflow_datasets) (1.17.0)\n",
            "Requirement already satisfied: docstring-parser<1.0,>=0.15 in /usr/local/lib/python3.11/dist-packages (from simple-parsing->tensorflow_datasets) (0.16)\n",
            "Requirement already satisfied: googleapis-common-protos<2,>=1.56.4 in /usr/local/lib/python3.11/dist-packages (from tensorflow-metadata->tensorflow_datasets) (1.66.0)\n",
            "Requirement already satisfied: tensorflow-text in /usr/local/lib/python3.11/dist-packages (2.18.1)\n",
            "Requirement already satisfied: tensorflow<2.19,>=2.18.0 in /usr/local/lib/python3.11/dist-packages (from tensorflow-text) (2.18.0)\n",
            "Requirement already satisfied: absl-py>=1.0.0 in /usr/local/lib/python3.11/dist-packages (from tensorflow<2.19,>=2.18.0->tensorflow-text) (1.4.0)\n",
            "Requirement already satisfied: astunparse>=1.6.0 in /usr/local/lib/python3.11/dist-packages (from tensorflow<2.19,>=2.18.0->tensorflow-text) (1.6.3)\n",
            "Requirement already satisfied: flatbuffers>=24.3.25 in /usr/local/lib/python3.11/dist-packages (from tensorflow<2.19,>=2.18.0->tensorflow-text) (25.2.10)\n",
            "Requirement already satisfied: gast!=0.5.0,!=0.5.1,!=0.5.2,>=0.2.1 in /usr/local/lib/python3.11/dist-packages (from tensorflow<2.19,>=2.18.0->tensorflow-text) (0.6.0)\n",
            "Requirement already satisfied: google-pasta>=0.1.1 in /usr/local/lib/python3.11/dist-packages (from tensorflow<2.19,>=2.18.0->tensorflow-text) (0.2.0)\n",
            "Requirement already satisfied: libclang>=13.0.0 in /usr/local/lib/python3.11/dist-packages (from tensorflow<2.19,>=2.18.0->tensorflow-text) (18.1.1)\n",
            "Requirement already satisfied: opt-einsum>=2.3.2 in /usr/local/lib/python3.11/dist-packages (from tensorflow<2.19,>=2.18.0->tensorflow-text) (3.4.0)\n",
            "Requirement already satisfied: packaging in /usr/local/lib/python3.11/dist-packages (from tensorflow<2.19,>=2.18.0->tensorflow-text) (24.2)\n",
            "Requirement already satisfied: protobuf!=4.21.0,!=4.21.1,!=4.21.2,!=4.21.3,!=4.21.4,!=4.21.5,<6.0.0dev,>=3.20.3 in /usr/local/lib/python3.11/dist-packages (from tensorflow<2.19,>=2.18.0->tensorflow-text) (4.25.6)\n",
            "Requirement already satisfied: requests<3,>=2.21.0 in /usr/local/lib/python3.11/dist-packages (from tensorflow<2.19,>=2.18.0->tensorflow-text) (2.32.3)\n",
            "Requirement already satisfied: setuptools in /usr/local/lib/python3.11/dist-packages (from tensorflow<2.19,>=2.18.0->tensorflow-text) (75.1.0)\n",
            "Requirement already satisfied: six>=1.12.0 in /usr/local/lib/python3.11/dist-packages (from tensorflow<2.19,>=2.18.0->tensorflow-text) (1.17.0)\n",
            "Requirement already satisfied: termcolor>=1.1.0 in /usr/local/lib/python3.11/dist-packages (from tensorflow<2.19,>=2.18.0->tensorflow-text) (2.5.0)\n",
            "Requirement already satisfied: typing-extensions>=3.6.6 in /usr/local/lib/python3.11/dist-packages (from tensorflow<2.19,>=2.18.0->tensorflow-text) (4.12.2)\n",
            "Requirement already satisfied: wrapt>=1.11.0 in /usr/local/lib/python3.11/dist-packages (from tensorflow<2.19,>=2.18.0->tensorflow-text) (1.17.2)\n",
            "Requirement already satisfied: grpcio<2.0,>=1.24.3 in /usr/local/lib/python3.11/dist-packages (from tensorflow<2.19,>=2.18.0->tensorflow-text) (1.70.0)\n",
            "Requirement already satisfied: tensorboard<2.19,>=2.18 in /usr/local/lib/python3.11/dist-packages (from tensorflow<2.19,>=2.18.0->tensorflow-text) (2.18.0)\n",
            "Requirement already satisfied: keras>=3.5.0 in /usr/local/lib/python3.11/dist-packages (from tensorflow<2.19,>=2.18.0->tensorflow-text) (3.8.0)\n",
            "Requirement already satisfied: numpy<2.1.0,>=1.26.0 in /usr/local/lib/python3.11/dist-packages (from tensorflow<2.19,>=2.18.0->tensorflow-text) (1.26.4)\n",
            "Requirement already satisfied: h5py>=3.11.0 in /usr/local/lib/python3.11/dist-packages (from tensorflow<2.19,>=2.18.0->tensorflow-text) (3.12.1)\n",
            "Requirement already satisfied: ml-dtypes<0.5.0,>=0.4.0 in /usr/local/lib/python3.11/dist-packages (from tensorflow<2.19,>=2.18.0->tensorflow-text) (0.4.1)\n",
            "Requirement already satisfied: tensorflow-io-gcs-filesystem>=0.23.1 in /usr/local/lib/python3.11/dist-packages (from tensorflow<2.19,>=2.18.0->tensorflow-text) (0.37.1)\n",
            "Requirement already satisfied: wheel<1.0,>=0.23.0 in /usr/local/lib/python3.11/dist-packages (from astunparse>=1.6.0->tensorflow<2.19,>=2.18.0->tensorflow-text) (0.45.1)\n",
            "Requirement already satisfied: rich in /usr/local/lib/python3.11/dist-packages (from keras>=3.5.0->tensorflow<2.19,>=2.18.0->tensorflow-text) (13.9.4)\n",
            "Requirement already satisfied: namex in /usr/local/lib/python3.11/dist-packages (from keras>=3.5.0->tensorflow<2.19,>=2.18.0->tensorflow-text) (0.0.8)\n",
            "Requirement already satisfied: optree in /usr/local/lib/python3.11/dist-packages (from keras>=3.5.0->tensorflow<2.19,>=2.18.0->tensorflow-text) (0.14.0)\n",
            "Requirement already satisfied: charset-normalizer<4,>=2 in /usr/local/lib/python3.11/dist-packages (from requests<3,>=2.21.0->tensorflow<2.19,>=2.18.0->tensorflow-text) (3.4.1)\n",
            "Requirement already satisfied: idna<4,>=2.5 in /usr/local/lib/python3.11/dist-packages (from requests<3,>=2.21.0->tensorflow<2.19,>=2.18.0->tensorflow-text) (3.10)\n",
            "Requirement already satisfied: urllib3<3,>=1.21.1 in /usr/local/lib/python3.11/dist-packages (from requests<3,>=2.21.0->tensorflow<2.19,>=2.18.0->tensorflow-text) (2.3.0)\n",
            "Requirement already satisfied: certifi>=2017.4.17 in /usr/local/lib/python3.11/dist-packages (from requests<3,>=2.21.0->tensorflow<2.19,>=2.18.0->tensorflow-text) (2025.1.31)\n",
            "Requirement already satisfied: markdown>=2.6.8 in /usr/local/lib/python3.11/dist-packages (from tensorboard<2.19,>=2.18->tensorflow<2.19,>=2.18.0->tensorflow-text) (3.7)\n",
            "Requirement already satisfied: tensorboard-data-server<0.8.0,>=0.7.0 in /usr/local/lib/python3.11/dist-packages (from tensorboard<2.19,>=2.18->tensorflow<2.19,>=2.18.0->tensorflow-text) (0.7.2)\n",
            "Requirement already satisfied: werkzeug>=1.0.1 in /usr/local/lib/python3.11/dist-packages (from tensorboard<2.19,>=2.18->tensorflow<2.19,>=2.18.0->tensorflow-text) (3.1.3)\n",
            "Requirement already satisfied: MarkupSafe>=2.1.1 in /usr/local/lib/python3.11/dist-packages (from werkzeug>=1.0.1->tensorboard<2.19,>=2.18->tensorflow<2.19,>=2.18.0->tensorflow-text) (3.0.2)\n",
            "Requirement already satisfied: markdown-it-py>=2.2.0 in /usr/local/lib/python3.11/dist-packages (from rich->keras>=3.5.0->tensorflow<2.19,>=2.18.0->tensorflow-text) (3.0.0)\n",
            "Requirement already satisfied: pygments<3.0.0,>=2.13.0 in /usr/local/lib/python3.11/dist-packages (from rich->keras>=3.5.0->tensorflow<2.19,>=2.18.0->tensorflow-text) (2.18.0)\n",
            "Requirement already satisfied: mdurl~=0.1 in /usr/local/lib/python3.11/dist-packages (from markdown-it-py>=2.2.0->rich->keras>=3.5.0->tensorflow<2.19,>=2.18.0->tensorflow-text) (0.1.2)\n"
          ]
        }
      ],
      "source": [
        "!pip install tensorflow_datasets\n",
        "!pip install -U tensorflow-text"
      ]
    },
    {
      "cell_type": "code",
      "execution_count": 2,
      "metadata": {
        "id": "IuyZWet-vcEL"
      },
      "outputs": [],
      "source": [
        "# Bibliotecas padrão do Python\n",
        "import collections  # Fornece estruturas de dados especializadas, como namedtuple, deque e Counter.\n",
        "import logging      # Facilita a geração de logs para depuração e monitoramento do código.\n",
        "import os           # Permite interagir com o sistema operacional (ex.: manipulação de arquivos e diretórios).\n",
        "import pathlib      # Fornece uma API orientada a objetos para manipulação de caminhos de arquivos.\n",
        "import re           # Permite trabalhar com expressões regulares para busca e manipulação de strings.\n",
        "import string       # Contém constantes e funções úteis para manipulação de strings (ex.: letras do alfabeto).\n",
        "import sys          # Fornece acesso a variáveis e funções do interpretador Python (ex.: sys.argv para argumentos de linha de comando).\n",
        "import time         # Permite trabalhar com medições de tempo e pausas na execução do código.\n",
        "import zipfile\n",
        "\n",
        "# Bibliotecas científicas e de visualização\n",
        "import numpy as np  # Biblioteca para computação numérica eficiente, especialmente com arrays e álgebra linear.\n",
        "import matplotlib.pyplot as plt  # Biblioteca para visualização de dados, permitindo a criação de gráficos.\n",
        "\n",
        "# Bibliotecas de aprendizado de máquina e processamento de texto\n",
        "import tensorflow_datasets as tfds  # Fornece datasets prontos para uso no TensorFlow.\n",
        "import tensorflow_text as text      # Conjunto de ferramentas para processamento de texto no TensorFlow.\n",
        "import tensorflow as tf             # Principal biblioteca para construção e treinamento de modelos de deep learning.\n",
        "#Obs.: Os comentários desta célula foram feitos com o auxílio do chat gpt para explicação de cada biblioteca"
      ]
    },
    {
      "cell_type": "markdown",
      "metadata": {},
      "source": [
        "# Conjunto de dados\n",
        "\n",
        "Este conjunto de dados contém aproximadamente 50.000 exemplos de treinamento, 1.100 exemplos de validação e 2.000 exemplos de teste."
      ]
    },
    {
      "cell_type": "code",
      "execution_count": 3,
      "metadata": {
        "colab": {
          "base_uri": "https://localhost:8080/",
          "height": 168,
          "referenced_widgets": [
            "8abb5bfa9b0742539a4879ab29059c69",
            "45bd5cf677ae475a853bf46ec570da3a",
            "dfbd5118a3c542df905ef65ef8c7166e",
            "1e17cda3563d471e8eb2376cb88190f9",
            "aebb366544e64977a72b8e2da8350619",
            "51b62bc2cc1646e39de9383ae06e1db1",
            "b7ef0e3d663845368a906616db24b5ed",
            "32b51ad9889d4524ab5e313f6c111ad2",
            "38d3ce16cfc948f19df9bf517c49d995",
            "d33ab8833b7541f8ab86e44dfdf915a4",
            "00db2c60a88f4ae882f101cd23d6a4df",
            "940e6da336104bccbd6d69bdc4b8768f",
            "d33a5232aa0e49ac8eff6a3a1c4efddb",
            "076d93893cea427fbebcf71d678ea394",
            "20193216b2aa4f7fab13bad28bcf456e",
            "1fbca50fbf61435fb5c296cdab095ae8",
            "6df2b00cb769434a9cc17de8f47a2534",
            "29490db82624444091643e8c178df432",
            "7ad4b9c30b2048d2ab15ac71b28fb330",
            "b96c7c42782c46eb974c492982e21b32",
            "3272f4dca6394eee8a3a9cefeb7ae6a2",
            "f690741afb9c49dfabb957a08624ef1f",
            "65abe5dcfad84d08b0efe460ebfce9a7",
            "bd9e888d4c024cafae275d0beca8a4ae",
            "c012ed0b17884a5582dd4462f1e17c18",
            "bbd459ffd9b646d99b2f4b94d6e965dc",
            "b1ca7212a4294348898688812e9a8802",
            "28bb0d479d3943508cea725bae1d9225",
            "abea93357e0945d5a32a800343f3d5ee",
            "4dc6317cb3e149dfb9ff57b256086cd9",
            "874bc0e4991e4122bc62ebf5ffa05fa5",
            "f4c703beef7749efa01aecb264df503f",
            "b4187526c4094889a7858e7b9d92a5d5",
            "1a69fe7af009437cb9a599db275a8357",
            "a9f7613d8dc9457889dc927ac3b90875",
            "8b8cfd033db54235bd4eecffd8141d5f",
            "931bd63bda314572b682724dcbae1a7a",
            "d1b43a688a754a89a1125aa7725818c4",
            "3d78911aef494ff89e796a0b4c5dd74a",
            "11d206ad308e434394687dea61b36387",
            "3d3390db3068471ea3ca071b864f17ad",
            "fc1a9a5e54a24d329aa303cad521fe7e",
            "d3bff6b16f394ca987bc749e6879713c",
            "ed6d29924c6446d9b88f1de63775c436",
            "1bbcdab4160d47639634ec514cd1fd34",
            "e57bf246869449f8963c61b028e398d6",
            "5340171bbf794a659c242a243f3e39c4",
            "cb2d255affdb4ee0b4109e7ce620a02c",
            "1a4945adfb5449b4a6f417b4b95eef15",
            "f12893444f19418d808f19472ae07aaa",
            "04ef0874d3714471872cfe1f4c24dd0e",
            "439dcf681d754074b0f4b32aa5195ad4",
            "68630303d1fb4d8eb8f34bbc0fcf9eac",
            "23b90445de054f66bc949f8f99d021d1",
            "1b2caead4ac74db6bc7995f8c6ae6354",
            "9a2e40f93a14456ebf641074bc34e8a0",
            "78c23bea4f09445f85b41383059ea64b",
            "40c5bf0a27e44e648c7cbb1175ecae86",
            "2ad3c9f5ecfb4eed99fe653956733c14",
            "01daf951429e4518af2593280ca51f42",
            "ad478a3092114859828cdb81f47ee33a",
            "e83e5b78fb274ec1b7f66eace494edfb",
            "efa6ecb16d9e489490e52843bc507dc9",
            "cead8c4eb0874819931dc052a9290d5a",
            "e0b16abf4b204d74b33af84aea93ce60",
            "7b51587879d8407581274fd7d2fb29b2",
            "952979221f614e9387d0a8efc7d2dbb2",
            "4d2f58d9b31843b7bd0c1d04b14edee8",
            "3c4aa63ceae541db8f9bc5f6213a9849",
            "77eb2fe97bb1460fa00c43c0621fb9ad",
            "134000a2d6f646708c09ee437806ad41",
            "0d3f123f4f6d4048b8207f515120cfb8",
            "8f929ac9c6af4fc691be623d4e05546b",
            "c936850e8a3a4010a45c193f3ffd515c",
            "fd584a166a9949a9ac4ebd09ea15cbbf",
            "012e90e1126d4e5999d2b811b4959290",
            "aa253861a8d040978fe782bf999dc7ed",
            "b62f15ffaf4249b0b77e431dc30fbb90",
            "b7b8760fbbbe490c9429bbd381fa162d",
            "6adcb515b422422182a2f86422895033",
            "dc0a491f9fe849f18f258a12aff3d8a2",
            "57664fe70ca44e9c9cabb4c9bbd4ae46",
            "47085e17888f4d4fbdcacd642eb3271f",
            "a1cd7d1ead424ae0ab40e2399b82b555",
            "07e4c2094deb4873abf4051fb4820eb9",
            "34511f5d4b3746b3993f43f2a7876c43",
            "9458859970144fb4bc942f9bc7fc7e9b",
            "a46a6ea909874c6d93c34c809dd258db",
            "61a35cc78a7b47739152af1141db5db9",
            "949a9f1495de4ed0aac21ebd8696e575",
            "174bf2d85d5b47a29512691a90faeef6",
            "4cf4590bb7664030b241fcd8be39fc17",
            "687344a35c024a6496ebbabdf52f1cc2",
            "59564687794b4d60911fdfa3ca61aa6d",
            "c3d921a298554c57a51feb8947d9ccbd",
            "0b7a21bb69ca4af494de30af11bcd60e",
            "4321367b970d4b1f8f527fe5944214f4",
            "d96dd0f82be14602981286a95c64ecb5",
            "901470e5750b4882ad84be42c9ec20c7",
            "9660248a72fa4ad9a309b0d2bdeb84b7",
            "eeae886cdb7c4fb6bcba6d97baf2555d",
            "a9b4705f2e2c4322a1a7d63d65689cab",
            "a7767dbbd2424d68908488ae7154aff9",
            "672c65c817a64be0b2ff6f3103c9efa7",
            "dc3a13130300480c862b450ba1612019",
            "2cae0dfe863144c0ac8593181dc1b0e8",
            "7218404e7fe440e8a6355d14314a347a",
            "13d1bf7c22e645c5be9ef81de4480d26",
            "080f9b9039ae4ad787fba78e347c51ff",
            "c21beeeb1da1409d8aeb0b9601011b3b"
          ]
        },
        "id": "tj_JR6aKvkig",
        "outputId": "b0cb564d-4103-4576-b027-f3df94e22c96"
      },
      "outputs": [
        {
          "name": "stdout",
          "output_type": "stream",
          "text": [
            "Downloading and preparing dataset 124.94 MiB (download: 124.94 MiB, generated: Unknown size, total: 124.94 MiB) to /root/tensorflow_datasets/ted_hrlr_translate/pt_to_en/1.0.0...\n"
          ]
        },
        {
          "data": {
            "application/vnd.jupyter.widget-view+json": {
              "model_id": "8abb5bfa9b0742539a4879ab29059c69",
              "version_major": 2,
              "version_minor": 0
            },
            "text/plain": [
              "Dl Completed...: 0 url [00:00, ? url/s]"
            ]
          },
          "metadata": {},
          "output_type": "display_data"
        },
        {
          "data": {
            "application/vnd.jupyter.widget-view+json": {
              "model_id": "940e6da336104bccbd6d69bdc4b8768f",
              "version_major": 2,
              "version_minor": 0
            },
            "text/plain": [
              "Dl Size...: 0 MiB [00:00, ? MiB/s]"
            ]
          },
          "metadata": {},
          "output_type": "display_data"
        },
        {
          "data": {
            "application/vnd.jupyter.widget-view+json": {
              "model_id": "65abe5dcfad84d08b0efe460ebfce9a7",
              "version_major": 2,
              "version_minor": 0
            },
            "text/plain": [
              "Extraction completed...: 0 file [00:00, ? file/s]"
            ]
          },
          "metadata": {},
          "output_type": "display_data"
        },
        {
          "data": {
            "application/vnd.jupyter.widget-view+json": {
              "model_id": "1a69fe7af009437cb9a599db275a8357",
              "version_major": 2,
              "version_minor": 0
            },
            "text/plain": [
              "Generating splits...:   0%|          | 0/3 [00:00<?, ? splits/s]"
            ]
          },
          "metadata": {},
          "output_type": "display_data"
        },
        {
          "data": {
            "application/vnd.jupyter.widget-view+json": {
              "model_id": "1bbcdab4160d47639634ec514cd1fd34",
              "version_major": 2,
              "version_minor": 0
            },
            "text/plain": [
              "Generating train examples...:   0%|          | 0/51785 [00:00<?, ? examples/s]"
            ]
          },
          "metadata": {},
          "output_type": "display_data"
        },
        {
          "data": {
            "application/vnd.jupyter.widget-view+json": {
              "model_id": "9a2e40f93a14456ebf641074bc34e8a0",
              "version_major": 2,
              "version_minor": 0
            },
            "text/plain": [
              "Shuffling /root/tensorflow_datasets/ted_hrlr_translate/pt_to_en/incomplete.FNTK02_1.0.0/ted_hrlr_translate-tra…"
            ]
          },
          "metadata": {},
          "output_type": "display_data"
        },
        {
          "data": {
            "application/vnd.jupyter.widget-view+json": {
              "model_id": "952979221f614e9387d0a8efc7d2dbb2",
              "version_major": 2,
              "version_minor": 0
            },
            "text/plain": [
              "Generating validation examples...:   0%|          | 0/1193 [00:00<?, ? examples/s]"
            ]
          },
          "metadata": {},
          "output_type": "display_data"
        },
        {
          "data": {
            "application/vnd.jupyter.widget-view+json": {
              "model_id": "b62f15ffaf4249b0b77e431dc30fbb90",
              "version_major": 2,
              "version_minor": 0
            },
            "text/plain": [
              "Shuffling /root/tensorflow_datasets/ted_hrlr_translate/pt_to_en/incomplete.FNTK02_1.0.0/ted_hrlr_translate-val…"
            ]
          },
          "metadata": {},
          "output_type": "display_data"
        },
        {
          "data": {
            "application/vnd.jupyter.widget-view+json": {
              "model_id": "61a35cc78a7b47739152af1141db5db9",
              "version_major": 2,
              "version_minor": 0
            },
            "text/plain": [
              "Generating test examples...:   0%|          | 0/1803 [00:00<?, ? examples/s]"
            ]
          },
          "metadata": {},
          "output_type": "display_data"
        },
        {
          "data": {
            "application/vnd.jupyter.widget-view+json": {
              "model_id": "9660248a72fa4ad9a309b0d2bdeb84b7",
              "version_major": 2,
              "version_minor": 0
            },
            "text/plain": [
              "Shuffling /root/tensorflow_datasets/ted_hrlr_translate/pt_to_en/incomplete.FNTK02_1.0.0/ted_hrlr_translate-tes…"
            ]
          },
          "metadata": {},
          "output_type": "display_data"
        },
        {
          "name": "stdout",
          "output_type": "stream",
          "text": [
            "Dataset ted_hrlr_translate downloaded and prepared to /root/tensorflow_datasets/ted_hrlr_translate/pt_to_en/1.0.0. Subsequent calls will reuse this data.\n"
          ]
        }
      ],
      "source": [
        "examples, metadata = tfds.load('ted_hrlr_translate/pt_to_en', with_info=True,\n",
        "                               as_supervised=True)\n",
        "train_examples, val_examples = examples['train'], examples['validation']"
      ]
    },
    {
      "cell_type": "code",
      "execution_count": 4,
      "metadata": {
        "colab": {
          "base_uri": "https://localhost:8080/"
        },
        "id": "soNuGTNUxde4",
        "outputId": "b29418bc-7af6-41ed-dd76-15d7680af44d"
      },
      "outputs": [
        {
          "name": "stdout",
          "output_type": "stream",
          "text": [
            "e quando melhoramos a procura , tiramos a única vantagem da impressão , que é a serendipidade .\n",
            "mas e se estes fatores fossem ativos ?\n",
            "mas eles não tinham a curiosidade de me testar .\n",
            "\n",
            "and when you improve searchability , you actually take away the one advantage of print , which is serendipity .\n",
            "but what if it were active ?\n",
            "but they did n't test for curiosity .\n"
          ]
        }
      ],
      "source": [
        "for pt_examples, en_examples in train_examples.batch(3).take(1):\n",
        "  for pt in pt_examples.numpy():\n",
        "    print(pt.decode('utf-8'))\n",
        "\n",
        "  print()\n",
        "\n",
        "  for en in en_examples.numpy():\n",
        "    print(en.decode('utf-8'))"
      ]
    },
    {
      "cell_type": "markdown",
      "metadata": {},
      "source": [
        "# Tokenização e destokenização de texto\n",
        "\n",
        "O texto precisa ser convertido em alguma representação numérica primeiro. Aqui, o texto foi convertido em sequências de IDs de token, que são usados ​​como índices em uma incorporação."
      ]
    },
    {
      "cell_type": "code",
      "execution_count": 5,
      "metadata": {
        "colab": {
          "base_uri": "https://localhost:8080/",
          "height": 90
        },
        "id": "bx2Nf3J2RNZ0",
        "outputId": "6d2f10ef-5e5d-4358-afbe-a9bd5755c0f4"
      },
      "outputs": [
        {
          "name": "stdout",
          "output_type": "stream",
          "text": [
            "Downloading data from https://storage.googleapis.com/download.tensorflow.org/models/ted_hrlr_translate_pt_en_converter.zip\n",
            "\u001b[1m184801/184801\u001b[0m \u001b[32m━━━━━━━━━━━━━━━━━━━━\u001b[0m\u001b[37m\u001b[0m \u001b[1m0s\u001b[0m 3us/step\n"
          ]
        },
        {
          "data": {
            "application/vnd.google.colaboratory.intrinsic+json": {
              "type": "string"
            },
            "text/plain": [
              "'./ted_hrlr_translate_pt_en_converter_extracted'"
            ]
          },
          "execution_count": 5,
          "metadata": {},
          "output_type": "execute_result"
        }
      ],
      "source": [
        "model_name = \"ted_hrlr_translate_pt_en_converter\"\n",
        "tf.keras.utils.get_file(\n",
        "    f\"{model_name}.zip\",\n",
        "    f\"https://storage.googleapis.com/download.tensorflow.org/models/{model_name}.zip\",\n",
        "    cache_dir='.', cache_subdir='', extract=True\n",
        ")"
      ]
    },
    {
      "cell_type": "code",
      "execution_count": 6,
      "metadata": {
        "id": "J5_jSGtQSbyD"
      },
      "outputs": [],
      "source": [
        "with zipfile.ZipFile(f\"{model_name}.zip\", 'r') as zip_ref:\n",
        "    zip_ref.extractall('.')\n"
      ]
    },
    {
      "cell_type": "code",
      "execution_count": 7,
      "metadata": {
        "id": "OoY5EL33RiSp"
      },
      "outputs": [],
      "source": [
        "tokenizers = tf.saved_model.load(model_name)"
      ]
    },
    {
      "cell_type": "code",
      "execution_count": 8,
      "metadata": {
        "colab": {
          "base_uri": "https://localhost:8080/"
        },
        "id": "7-2sa7d8Som7",
        "outputId": "7d0cc92b-5057-484c-dfad-1c1ff4584ac6"
      },
      "outputs": [
        {
          "data": {
            "text/plain": [
              "['detokenize',\n",
              " 'get_reserved_tokens',\n",
              " 'get_vocab_path',\n",
              " 'get_vocab_size',\n",
              " 'lookup',\n",
              " 'tokenize',\n",
              " 'tokenizer',\n",
              " 'vocab']"
            ]
          },
          "execution_count": 8,
          "metadata": {},
          "output_type": "execute_result"
        }
      ],
      "source": [
        "[item for item in dir(tokenizers.en) if not item.startswith('_')]"
      ]
    },
    {
      "cell_type": "markdown",
      "metadata": {},
      "source": [
        "O método tokenize converte um lote de strings em um lote preenchido de IDs de token. Este método divide pontuação, letras minúsculas e normaliza unicode a entrada antes da tokenização. Essa padronização não é visível aqui porque os dados de entrada já estão padronizados."
      ]
    },
    {
      "cell_type": "code",
      "execution_count": 9,
      "metadata": {
        "colab": {
          "base_uri": "https://localhost:8080/"
        },
        "id": "_WxoMNVmT5Zi",
        "outputId": "40f35e33-86b9-437e-d7b8-a650930964aa"
      },
      "outputs": [
        {
          "name": "stdout",
          "output_type": "stream",
          "text": [
            "and when you improve searchability , you actually take away the one advantage of print , which is serendipity .\n",
            "but what if it were active ?\n",
            "but they did n't test for curiosity .\n"
          ]
        }
      ],
      "source": [
        "for en in en_examples.numpy():\n",
        "  print(en.decode('utf-8'))"
      ]
    },
    {
      "cell_type": "code",
      "execution_count": 10,
      "metadata": {
        "colab": {
          "base_uri": "https://localhost:8080/"
        },
        "id": "Ak4BX7cIUMps",
        "outputId": "43f7c1f3-e313-4701-b919-33266745ac3b"
      },
      "outputs": [
        {
          "name": "stdout",
          "output_type": "stream",
          "text": [
            "[2, 72, 117, 79, 1259, 1491, 2362, 13, 79, 150, 184, 311, 71, 103, 2308, 74, 2679, 13, 148, 80, 55, 4840, 1434, 2423, 540, 15, 3]\n",
            "[2, 87, 90, 107, 76, 129, 1852, 30, 3]\n",
            "[2, 87, 83, 149, 50, 9, 56, 664, 85, 2512, 15, 3]\n"
          ]
        }
      ],
      "source": [
        "encoded = tokenizers.en.tokenize(en_examples)\n",
        "\n",
        "for row in encoded.to_list():\n",
        "  print(row)"
      ]
    },
    {
      "cell_type": "code",
      "execution_count": 11,
      "metadata": {
        "colab": {
          "base_uri": "https://localhost:8080/"
        },
        "id": "zqL8TJ4vUSYb",
        "outputId": "7d2f13d8-66ab-46be-8c88-b76654bc638b"
      },
      "outputs": [
        {
          "name": "stdout",
          "output_type": "stream",
          "text": [
            "and when you improve searchability , you actually take away the one advantage of print , which is serendipity .\n",
            "but what if it were active ?\n",
            "but they did n ' t test for curiosity .\n"
          ]
        }
      ],
      "source": [
        "round_trip = tokenizers.en.detokenize(encoded)\n",
        "for line in round_trip.numpy():\n",
        "  print(line.decode('utf-8'))"
      ]
    },
    {
      "cell_type": "markdown",
      "metadata": {},
      "source": [
        "O método de lookup de nível inferior converte de token-IDs em texto de token:"
      ]
    },
    {
      "cell_type": "code",
      "execution_count": 12,
      "metadata": {
        "colab": {
          "base_uri": "https://localhost:8080/"
        },
        "id": "1cjKI7bSUWmr",
        "outputId": "8dd45c23-eeb2-4bbd-8b63-73cb1e864149"
      },
      "outputs": [
        {
          "data": {
            "text/plain": [
              "<tf.RaggedTensor [[b'[START]', b'and', b'when', b'you', b'improve', b'search', b'##ability',\n",
              "  b',', b'you', b'actually', b'take', b'away', b'the', b'one', b'advantage',\n",
              "  b'of', b'print', b',', b'which', b'is', b's', b'##ere', b'##nd', b'##ip',\n",
              "  b'##ity', b'.', b'[END]']                                                 ,\n",
              " [b'[START]', b'but', b'what', b'if', b'it', b'were', b'active', b'?',\n",
              "  b'[END]']                                                           ,\n",
              " [b'[START]', b'but', b'they', b'did', b'n', b\"'\", b't', b'test', b'for',\n",
              "  b'curiosity', b'.', b'[END]']                                          ]>"
            ]
          },
          "execution_count": 12,
          "metadata": {},
          "output_type": "execute_result"
        }
      ],
      "source": [
        "tokens = tokenizers.en.lookup(encoded)\n",
        "tokens"
      ]
    },
    {
      "cell_type": "markdown",
      "metadata": {},
      "source": [
        "# Configuração da pipeline de entrada\n",
        "\n",
        "Esta função será usada para codificar os lotes de texto bruto:"
      ]
    },
    {
      "cell_type": "code",
      "execution_count": 13,
      "metadata": {
        "id": "yBMmBVCwVB04"
      },
      "outputs": [],
      "source": [
        "def tokenize_pairs(pt, en):\n",
        "    pt = tokenizers.pt.tokenize(pt)\n",
        "    # Convert from ragged to dense, padding with zeros.\n",
        "    pt = pt.to_tensor()\n",
        "\n",
        "    en = tokenizers.en.tokenize(en)\n",
        "    # Convert from ragged to dense, padding with zeros.\n",
        "    en = en.to_tensor()\n",
        "    return pt, en"
      ]
    },
    {
      "cell_type": "code",
      "execution_count": 14,
      "metadata": {
        "id": "AlKmvFQEVIu5"
      },
      "outputs": [],
      "source": [
        "BUFFER_SIZE = 20000\n",
        "BATCH_SIZE = 64"
      ]
    },
    {
      "cell_type": "code",
      "execution_count": 15,
      "metadata": {
        "id": "biPim6hQVM-p"
      },
      "outputs": [],
      "source": [
        "def make_batches(ds):\n",
        "  return (\n",
        "      ds\n",
        "      .cache()\n",
        "      .shuffle(BUFFER_SIZE)\n",
        "      .batch(BATCH_SIZE)\n",
        "      .map(tokenize_pairs, num_parallel_calls=tf.data.AUTOTUNE)\n",
        "      .prefetch(tf.data.AUTOTUNE))\n",
        "\n",
        "\n",
        "train_batches = make_batches(train_examples)\n",
        "val_batches = make_batches(val_examples)"
      ]
    },
    {
      "cell_type": "markdown",
      "metadata": {
        "id": "LZ5U0SrSYGhQ"
      },
      "source": [
        "# Codificação posicional\n",
        "\n",
        "A fórmula para calcular a codificação posicional é a seguinte:\n",
        "\n",
        "$$\\Large{PE_{(pos, 2i)} = \\sin(pos / 10000^{2i / d_{model} })}$$\n",
        "\n",
        "$$\\Large{PE_{(pos, 2i+1)} = \\cos(pos / 10000^{2i / d_{model} })}$$"
      ]
    },
    {
      "cell_type": "code",
      "execution_count": 16,
      "metadata": {
        "id": "nJpSDoWZVPYh"
      },
      "outputs": [],
      "source": [
        "def get_angles(pos, i, d_model):\n",
        "  angle_rates = 1 / np.power(10000, (2 * (i//2)) / np.float32(d_model))\n",
        "  return pos * angle_rates"
      ]
    },
    {
      "cell_type": "code",
      "execution_count": 17,
      "metadata": {
        "id": "6pviDHGxWWfQ"
      },
      "outputs": [],
      "source": [
        "def positional_encoding(position, d_model):\n",
        "  angle_rads = get_angles(np.arange(position)[:, np.newaxis],\n",
        "                          np.arange(d_model)[np.newaxis, :],\n",
        "                          d_model)\n",
        "\n",
        "  # apply sin to even indices in the array; 2i\n",
        "  angle_rads[:, 0::2] = np.sin(angle_rads[:, 0::2])\n",
        "\n",
        "  # apply cos to odd indices in the array; 2i+1\n",
        "  angle_rads[:, 1::2] = np.cos(angle_rads[:, 1::2])\n",
        "\n",
        "  pos_encoding = angle_rads[np.newaxis, ...]\n",
        "\n",
        "  return tf.cast(pos_encoding, dtype=tf.float32)"
      ]
    },
    {
      "cell_type": "code",
      "execution_count": 18,
      "metadata": {
        "colab": {
          "base_uri": "https://localhost:8080/",
          "height": 472
        },
        "id": "m53NIm9BWYjS",
        "outputId": "22cd88da-b9a9-4cd4-ab48-7906f359e75a"
      },
      "outputs": [
        {
          "name": "stdout",
          "output_type": "stream",
          "text": [
            "(1, 2048, 512)\n"
          ]
        },
        {
          "data": {
            "image/png": "[encoded data removed]",
            "text/plain": [
              "<Figure size 640x480 with 2 Axes>"
            ]
          },
          "metadata": {},
          "output_type": "display_data"
        }
      ],
      "source": [
        "n, d = 2048, 512\n",
        "pos_encoding = positional_encoding(n, d)\n",
        "print(pos_encoding.shape)\n",
        "pos_encoding = pos_encoding[0]\n",
        "\n",
        "# Juggle the dimensions for the plot\n",
        "pos_encoding = tf.reshape(pos_encoding, (n, d//2, 2))\n",
        "pos_encoding = tf.transpose(pos_encoding, (2, 1, 0))\n",
        "pos_encoding = tf.reshape(pos_encoding, (d, n))\n",
        "\n",
        "plt.pcolormesh(pos_encoding, cmap='RdBu')\n",
        "plt.ylabel('Depth')\n",
        "plt.xlabel('Position')\n",
        "plt.colorbar()\n",
        "plt.show()"
      ]
    },
    {
      "cell_type": "markdown",
      "metadata": {},
      "source": [
        "# Mascaramento\n",
        "\n",
        "A máscara indica onde o valor de pad 0 está presente: ela emite um 1 nesses locais e um 0 caso contrário."
      ]
    },
    {
      "cell_type": "code",
      "execution_count": 19,
      "metadata": {
        "id": "clCtkjB7WlGB"
      },
      "outputs": [],
      "source": [
        "def create_padding_mask(seq):\n",
        "  seq = tf.cast(tf.math.equal(seq, 0), tf.float32)\n",
        "\n",
        "  # add extra dimensions to add the padding\n",
        "  # to the attention logits.\n",
        "  return seq[:, tf.newaxis, tf.newaxis, :]  # (batch_size, 1, 1, seq_len)"
      ]
    },
    {
      "cell_type": "code",
      "execution_count": 20,
      "metadata": {
        "colab": {
          "base_uri": "https://localhost:8080/"
        },
        "id": "7loZOX9_XBW3",
        "outputId": "311e21e3-92be-4450-fa6e-7e354bf52960"
      },
      "outputs": [
        {
          "data": {
            "text/plain": [
              "<tf.Tensor: shape=(3, 1, 1, 5), dtype=float32, numpy=\n",
              "array([[[[0., 0., 1., 1., 0.]]],\n",
              "\n",
              "\n",
              "       [[[0., 0., 0., 1., 1.]]],\n",
              "\n",
              "\n",
              "       [[[1., 1., 1., 0., 0.]]]], dtype=float32)>"
            ]
          },
          "execution_count": 20,
          "metadata": {},
          "output_type": "execute_result"
        }
      ],
      "source": [
        "x = tf.constant([[7, 6, 0, 0, 1], [1, 2, 3, 0, 0], [0, 0, 0, 4, 5]])\n",
        "create_padding_mask(x)"
      ]
    },
    {
      "cell_type": "code",
      "execution_count": 21,
      "metadata": {
        "id": "fw52qz3AXDih"
      },
      "outputs": [],
      "source": [
        "def create_look_ahead_mask(size):\n",
        "  mask = 1 - tf.linalg.band_part(tf.ones((size, size)), -1, 0)\n",
        "  return mask  # (seq_len, seq_len)"
      ]
    },
    {
      "cell_type": "code",
      "execution_count": null,
      "metadata": {
        "colab": {
          "base_uri": "https://localhost:8080/"
        },
        "id": "-JnBYcVGXI-M",
        "outputId": "16a96669-ce99-4bf9-9056-e0a926bfd7e6"
      },
      "outputs": [
        {
          "data": {
            "text/plain": [
              "<tf.Tensor: shape=(3, 3), dtype=float32, numpy=\n",
              "array([[0., 1., 1.],\n",
              "       [0., 0., 1.],\n",
              "       [0., 0., 0.]], dtype=float32)>"
            ]
          },
          "execution_count": 22,
          "metadata": {},
          "output_type": "execute_result"
        }
      ],
      "source": [
        "x = tf.random.uniform((1, 3))\n",
        "temp = create_look_ahead_mask(x.shape[1])\n",
        "temp"
      ]
    },
    {
      "cell_type": "markdown",
      "metadata": {
        "id": "aN6V5kpLY7Qq"
      },
      "source": [
        "# Atenção ao produto escalado \n",
        "\n",
        "A função de atenção utilizada pelo transformador tem três entradas: Q (consulta), K (chave), V (valor). A equação usada para calcular os pesos de atenção é:\n",
        "\n",
        "$$\\Large{Attention(Q, K, V) = Softmax_k\\left(\\frac{QK^T}{\\sqrt{d_k} }\\right) V}$$"
      ]
    },
    {
      "cell_type": "code",
      "execution_count": 23,
      "metadata": {
        "id": "0lhSfsyuXMgy"
      },
      "outputs": [],
      "source": [
        "def scaled_dot_product_attention(q, k, v, mask):\n",
        "  \"\"\"Calculate the attention weights.\n",
        "  q, k, v must have matching leading dimensions.\n",
        "  k, v must have matching penultimate dimension, i.e.: seq_len_k = seq_len_v.\n",
        "  The mask has different shapes depending on its type(padding or look ahead)\n",
        "  but it must be broadcastable for addition.\n",
        "\n",
        "  Args:\n",
        "    q: query shape == (..., seq_len_q, depth)\n",
        "    k: key shape == (..., seq_len_k, depth)\n",
        "    v: value shape == (..., seq_len_v, depth_v)\n",
        "    mask: Float tensor with shape broadcastable\n",
        "          to (..., seq_len_q, seq_len_k). Defaults to None.\n",
        "\n",
        "  Returns:\n",
        "    output, attention_weights\n",
        "  \"\"\"\n",
        "\n",
        "  matmul_qk = tf.matmul(q, k, transpose_b=True)  # (..., seq_len_q, seq_len_k)\n",
        "\n",
        "  # scale matmul_qk\n",
        "  dk = tf.cast(tf.shape(k)[-1], tf.float32)\n",
        "  scaled_attention_logits = matmul_qk / tf.math.sqrt(dk)\n",
        "\n",
        "  # add the mask to the scaled tensor.\n",
        "  if mask is not None:\n",
        "    scaled_attention_logits += (mask * -1e9)\n",
        "\n",
        "  # softmax is normalized on the last axis (seq_len_k) so that the scores\n",
        "  # add up to 1.\n",
        "  attention_weights = tf.nn.softmax(scaled_attention_logits, axis=-1)  # (..., seq_len_q, seq_len_k)\n",
        "\n",
        "  output = tf.matmul(attention_weights, v)  # (..., seq_len_q, depth_v)\n",
        "\n",
        "  return output, attention_weights"
      ]
    },
    {
      "cell_type": "code",
      "execution_count": 24,
      "metadata": {
        "id": "NPEjL6yHaGKG"
      },
      "outputs": [],
      "source": [
        "def print_out(q, k, v):\n",
        "  temp_out, temp_attn = scaled_dot_product_attention(\n",
        "      q, k, v, None)\n",
        "  print('Attention weights are:')\n",
        "  print(temp_attn)\n",
        "  print('Output is:')\n",
        "  print(temp_out)"
      ]
    },
    {
      "cell_type": "code",
      "execution_count": 25,
      "metadata": {
        "colab": {
          "base_uri": "https://localhost:8080/"
        },
        "id": "T4kGV4i9aUQI",
        "outputId": "733fa64c-947a-4bab-e2fc-11816b79f602"
      },
      "outputs": [
        {
          "name": "stdout",
          "output_type": "stream",
          "text": [
            "Attention weights are:\n",
            "tf.Tensor([[0. 1. 0. 0.]], shape=(1, 4), dtype=float32)\n",
            "Output is:\n",
            "tf.Tensor([[10.  0.]], shape=(1, 2), dtype=float32)\n"
          ]
        }
      ],
      "source": [
        "np.set_printoptions(suppress=True)\n",
        "\n",
        "temp_k = tf.constant([[10, 0, 0],\n",
        "                      [0, 10, 0],\n",
        "                      [0, 0, 10],\n",
        "                      [0, 0, 10]], dtype=tf.float32)  # (4, 3)\n",
        "\n",
        "temp_v = tf.constant([[1, 0],\n",
        "                      [10, 0],\n",
        "                      [100, 5],\n",
        "                      [1000, 6]], dtype=tf.float32)  # (4, 2)\n",
        "\n",
        "# This `query` aligns with the second `key`,\n",
        "# so the second `value` is returned.\n",
        "temp_q = tf.constant([[0, 10, 0]], dtype=tf.float32)  # (1, 3)\n",
        "print_out(temp_q, temp_k, temp_v)"
      ]
    },
    {
      "cell_type": "code",
      "execution_count": 26,
      "metadata": {
        "colab": {
          "base_uri": "https://localhost:8080/"
        },
        "id": "N0wR_nElae8O",
        "outputId": "764359f3-6697-406c-d90a-b93be1e5c9a9"
      },
      "outputs": [
        {
          "name": "stdout",
          "output_type": "stream",
          "text": [
            "Attention weights are:\n",
            "tf.Tensor([[0.  0.  0.5 0.5]], shape=(1, 4), dtype=float32)\n",
            "Output is:\n",
            "tf.Tensor([[550.    5.5]], shape=(1, 2), dtype=float32)\n"
          ]
        }
      ],
      "source": [
        "# This query aligns with a repeated key (third and fourth),\n",
        "# so all associated values get averaged.\n",
        "temp_q = tf.constant([[0, 0, 10]], dtype=tf.float32)  # (1, 3)\n",
        "print_out(temp_q, temp_k, temp_v)"
      ]
    },
    {
      "cell_type": "code",
      "execution_count": 27,
      "metadata": {
        "colab": {
          "base_uri": "https://localhost:8080/"
        },
        "id": "48k6AKgUajXn",
        "outputId": "9f25b0c2-f10d-4811-ae3a-062bece5b9e2"
      },
      "outputs": [
        {
          "name": "stdout",
          "output_type": "stream",
          "text": [
            "Attention weights are:\n",
            "tf.Tensor(\n",
            "[[0.  0.  0.5 0.5]\n",
            " [0.  1.  0.  0. ]\n",
            " [0.5 0.5 0.  0. ]], shape=(3, 4), dtype=float32)\n",
            "Output is:\n",
            "tf.Tensor(\n",
            "[[550.    5.5]\n",
            " [ 10.    0. ]\n",
            " [  5.5   0. ]], shape=(3, 2), dtype=float32)\n"
          ]
        }
      ],
      "source": [
        "temp_q = tf.constant([[0, 0, 10],\n",
        "                      [0, 10, 0],\n",
        "                      [10, 10, 0]], dtype=tf.float32)  # (3, 3)\n",
        "print_out(temp_q, temp_k, temp_v)"
      ]
    },
    {
      "cell_type": "markdown",
      "metadata": {},
      "source": [
        "# Atenção de várias cabeças\n",
        "\n",
        "A atenção de várias cabeças consiste em quatro partes:\n",
        "\n",
        "Camadas lineares.\n",
        "\n",
        "Atenção de produto escalar escalado.\n",
        "\n",
        "Camada linear final.\n",
        "\n",
        "Cada bloco de atenção de várias cabeças recebe três entradas; Q (consulta), K (chave), V (valor). Estes são colocados através de camadas lineares (Densa) antes da função de atenção multi-cabeça."
      ]
    },
    {
      "cell_type": "code",
      "execution_count": 28,
      "metadata": {
        "id": "-AdwgvCyanyc"
      },
      "outputs": [],
      "source": [
        "class MultiHeadAttention(tf.keras.layers.Layer):\n",
        "  def __init__(self, d_model, num_heads):\n",
        "    super(MultiHeadAttention, self).__init__()\n",
        "    self.num_heads = num_heads\n",
        "    self.d_model = d_model\n",
        "\n",
        "    assert d_model % self.num_heads == 0\n",
        "\n",
        "    self.depth = d_model // self.num_heads\n",
        "\n",
        "    self.wq = tf.keras.layers.Dense(d_model)\n",
        "    self.wk = tf.keras.layers.Dense(d_model)\n",
        "    self.wv = tf.keras.layers.Dense(d_model)\n",
        "\n",
        "    self.dense = tf.keras.layers.Dense(d_model)\n",
        "\n",
        "  def split_heads(self, x, batch_size):\n",
        "    \"\"\"Split the last dimension into (num_heads, depth).\n",
        "    Transpose the result such that the shape is (batch_size, num_heads, seq_len, depth)\n",
        "    \"\"\"\n",
        "    x = tf.reshape(x, (batch_size, -1, self.num_heads, self.depth))\n",
        "    return tf.transpose(x, perm=[0, 2, 1, 3])\n",
        "\n",
        "  def call(self, v, k, q, mask):\n",
        "    batch_size = tf.shape(q)[0]\n",
        "\n",
        "    q = self.wq(q)  # (batch_size, seq_len, d_model)\n",
        "    k = self.wk(k)  # (batch_size, seq_len, d_model)\n",
        "    v = self.wv(v)  # (batch_size, seq_len, d_model)\n",
        "\n",
        "    q = self.split_heads(q, batch_size)  # (batch_size, num_heads, seq_len_q, depth)\n",
        "    k = self.split_heads(k, batch_size)  # (batch_size, num_heads, seq_len_k, depth)\n",
        "    v = self.split_heads(v, batch_size)  # (batch_size, num_heads, seq_len_v, depth)\n",
        "\n",
        "    # scaled_attention.shape == (batch_size, num_heads, seq_len_q, depth)\n",
        "    # attention_weights.shape == (batch_size, num_heads, seq_len_q, seq_len_k)\n",
        "    scaled_attention, attention_weights = scaled_dot_product_attention(\n",
        "        q, k, v, mask)\n",
        "\n",
        "    scaled_attention = tf.transpose(scaled_attention, perm=[0, 2, 1, 3])  # (batch_size, seq_len_q, num_heads, depth)\n",
        "\n",
        "    concat_attention = tf.reshape(scaled_attention,\n",
        "                                  (batch_size, -1, self.d_model))  # (batch_size, seq_len_q, d_model)\n",
        "\n",
        "    output = self.dense(concat_attention)  # (batch_size, seq_len_q, d_model)\n",
        "\n",
        "    return output, attention_weights"
      ]
    },
    {
      "cell_type": "code",
      "execution_count": 29,
      "metadata": {
        "colab": {
          "base_uri": "https://localhost:8080/"
        },
        "id": "1vvvL7QWbH3v",
        "outputId": "1b3b7b08-4885-4d1e-f10e-7f677548925d"
      },
      "outputs": [
        {
          "data": {
            "text/plain": [
              "(TensorShape([1, 60, 512]), TensorShape([1, 8, 60, 60]))"
            ]
          },
          "execution_count": 29,
          "metadata": {},
          "output_type": "execute_result"
        }
      ],
      "source": [
        "temp_mha = MultiHeadAttention(d_model=512, num_heads=8)\n",
        "y = tf.random.uniform((1, 60, 512))  # (batch_size, encoder_sequence, d_model)\n",
        "out, attn = temp_mha(y, k=y, q=y, mask=None)\n",
        "out.shape, attn.shape"
      ]
    },
    {
      "cell_type": "markdown",
      "metadata": {},
      "source": [
        "# Rede de feed forward pontual\n",
        "\n",
        "A rede de feed forward pontual consiste em duas camadas totalmente conectadas com uma ativação ReLU entre elas."
      ]
    },
    {
      "cell_type": "code",
      "execution_count": 30,
      "metadata": {
        "id": "nfgxscZtbMup"
      },
      "outputs": [],
      "source": [
        "def point_wise_feed_forward_network(d_model, dff):\n",
        "  return tf.keras.Sequential([\n",
        "      tf.keras.layers.Dense(dff, activation='relu'),  # (batch_size, seq_len, dff)\n",
        "      tf.keras.layers.Dense(d_model)  # (batch_size, seq_len, d_model)\n",
        "  ])"
      ]
    },
    {
      "cell_type": "code",
      "execution_count": 31,
      "metadata": {
        "colab": {
          "base_uri": "https://localhost:8080/"
        },
        "id": "RoWICCojbP15",
        "outputId": "0ef86d3d-186b-4db8-87f3-415de7b4fb5e"
      },
      "outputs": [
        {
          "data": {
            "text/plain": [
              "TensorShape([64, 50, 512])"
            ]
          },
          "execution_count": 31,
          "metadata": {},
          "output_type": "execute_result"
        }
      ],
      "source": [
        "sample_ffn = point_wise_feed_forward_network(512, 2048)\n",
        "sample_ffn(tf.random.uniform((64, 50, 512))).shape"
      ]
    },
    {
      "cell_type": "markdown",
      "metadata": {},
      "source": [
        "# Codificador e decodificador\n",
        "\n",
        "## Camada do codificador\n",
        "Cada camada do codificador consiste em subcamadas:\n",
        "\n",
        "1. Atenção multi-cabeça (com máscara de preenchimento)\n",
        "2. Redes de feed forward pontuais."
      ]
    },
    {
      "cell_type": "code",
      "execution_count": 32,
      "metadata": {
        "id": "Z0lxyfyPbR-A"
      },
      "outputs": [],
      "source": [
        "class EncoderLayer(tf.keras.layers.Layer):\n",
        "  def __init__(self, d_model, num_heads, dff, rate=0.1):\n",
        "    super(EncoderLayer, self).__init__()\n",
        "\n",
        "    self.mha = MultiHeadAttention(d_model, num_heads)\n",
        "    self.ffn = point_wise_feed_forward_network(d_model, dff)\n",
        "\n",
        "    self.layernorm1 = tf.keras.layers.LayerNormalization(epsilon=1e-6)\n",
        "    self.layernorm2 = tf.keras.layers.LayerNormalization(epsilon=1e-6)\n",
        "\n",
        "    self.dropout1 = tf.keras.layers.Dropout(rate)\n",
        "    self.dropout2 = tf.keras.layers.Dropout(rate)\n",
        "\n",
        "  def call(self, x, training, mask):\n",
        "\n",
        "    attn_output, _ = self.mha(x, x, x, mask)  # (batch_size, input_seq_len, d_model)\n",
        "    attn_output = self.dropout1(attn_output, training=training)\n",
        "    out1 = self.layernorm1(x + attn_output)  # (batch_size, input_seq_len, d_model)\n",
        "\n",
        "    ffn_output = self.ffn(out1)  # (batch_size, input_seq_len, d_model)\n",
        "    ffn_output = self.dropout2(ffn_output, training=training)\n",
        "    out2 = self.layernorm2(out1 + ffn_output)  # (batch_size, input_seq_len, d_model)\n",
        "\n",
        "    return out2"
      ]
    },
    {
      "cell_type": "code",
      "execution_count": 33,
      "metadata": {
        "colab": {
          "base_uri": "https://localhost:8080/"
        },
        "id": "EneCPDt_bVYP",
        "outputId": "6d28a052-2074-4965-f37b-356a37e29aa0"
      },
      "outputs": [
        {
          "data": {
            "text/plain": [
              "TensorShape([64, 43, 512])"
            ]
          },
          "execution_count": 33,
          "metadata": {},
          "output_type": "execute_result"
        }
      ],
      "source": [
        "sample_encoder_layer = EncoderLayer(512, 8, 2048)\n",
        "\n",
        "sample_encoder_layer_output = sample_encoder_layer(\n",
        "    tf.random.uniform((64, 43, 512)), training=False, mask=None)\n",
        "\n",
        "sample_encoder_layer_output.shape  # (batch_size, input_seq_len, d_model)"
      ]
    },
    {
      "cell_type": "markdown",
      "metadata": {},
      "source": [
        "# Camada do decodificador\n",
        "Cada camada do decodificador consiste em subcamadas:\n",
        "\n",
        "1. Atenção de várias cabeças mascaradas (com máscara de antecipação e máscara de preenchimento)\n",
        "2. Atenção multi-cabeça (com máscara de preenchimento). V (valor) e K (chave) recebem a saída do \n",
        "3. encoder como entradas. Q (consulta) recebe a saída da subcamada de atenção multi-cabeças mascarada.\n",
        "Redes de feed forward pontuais"
      ]
    },
    {
      "cell_type": "code",
      "execution_count": 34,
      "metadata": {
        "id": "m0RpJTsqbaBL"
      },
      "outputs": [],
      "source": [
        "class DecoderLayer(tf.keras.layers.Layer):\n",
        "  def __init__(self, d_model, num_heads, dff, rate=0.1):\n",
        "    super(DecoderLayer, self).__init__()\n",
        "\n",
        "    self.mha1 = MultiHeadAttention(d_model, num_heads)\n",
        "    self.mha2 = MultiHeadAttention(d_model, num_heads)\n",
        "\n",
        "    self.ffn = point_wise_feed_forward_network(d_model, dff)\n",
        "\n",
        "    self.layernorm1 = tf.keras.layers.LayerNormalization(epsilon=1e-6)\n",
        "    self.layernorm2 = tf.keras.layers.LayerNormalization(epsilon=1e-6)\n",
        "    self.layernorm3 = tf.keras.layers.LayerNormalization(epsilon=1e-6)\n",
        "\n",
        "    self.dropout1 = tf.keras.layers.Dropout(rate)\n",
        "    self.dropout2 = tf.keras.layers.Dropout(rate)\n",
        "    self.dropout3 = tf.keras.layers.Dropout(rate)\n",
        "\n",
        "  def call(self, x, enc_output, training,\n",
        "           look_ahead_mask, padding_mask):\n",
        "    # enc_output.shape == (batch_size, input_seq_len, d_model)\n",
        "\n",
        "    attn1, attn_weights_block1 = self.mha1(x, x, x, look_ahead_mask)  # (batch_size, target_seq_len, d_model)\n",
        "    attn1 = self.dropout1(attn1, training=training)\n",
        "    out1 = self.layernorm1(attn1 + x)\n",
        "\n",
        "    attn2, attn_weights_block2 = self.mha2(\n",
        "        enc_output, enc_output, out1, padding_mask)  # (batch_size, target_seq_len, d_model)\n",
        "    attn2 = self.dropout2(attn2, training=training)\n",
        "    out2 = self.layernorm2(attn2 + out1)  # (batch_size, target_seq_len, d_model)\n",
        "\n",
        "    ffn_output = self.ffn(out2)  # (batch_size, target_seq_len, d_model)\n",
        "    ffn_output = self.dropout3(ffn_output, training=training)\n",
        "    out3 = self.layernorm3(ffn_output + out2)  # (batch_size, target_seq_len, d_model)\n",
        "\n",
        "    return out3, attn_weights_block1, attn_weights_block2"
      ]
    },
    {
      "cell_type": "code",
      "execution_count": 35,
      "metadata": {
        "colab": {
          "base_uri": "https://localhost:8080/"
        },
        "id": "09l8HtO-dbx4",
        "outputId": "200c2b15-544c-4b80-adaf-ef53a09af605"
      },
      "outputs": [
        {
          "data": {
            "text/plain": [
              "TensorShape([64, 50, 512])"
            ]
          },
          "execution_count": 35,
          "metadata": {},
          "output_type": "execute_result"
        }
      ],
      "source": [
        "sample_decoder_layer = DecoderLayer(512, 8, 2048)\n",
        "\n",
        "sample_decoder_layer_output, _, _ = sample_decoder_layer(\n",
        "    tf.random.uniform((64, 50, 512)), sample_encoder_layer_output,\n",
        "    training=False, look_ahead_mask=None, padding_mask=None)\n",
        "\n",
        "sample_decoder_layer_output.shape  # (batch_size, target_seq_len, d_model)"
      ]
    },
    {
      "cell_type": "markdown",
      "metadata": {},
      "source": [
        "# Codificador\n",
        "O Encoder é composto por:\n",
        "\n",
        "1. Incorporação de entrada\n",
        "2. Codificação posicional\n",
        "3. N camadas do codificador"
      ]
    },
    {
      "cell_type": "code",
      "execution_count": 36,
      "metadata": {
        "id": "QNAlPQYRdecY"
      },
      "outputs": [],
      "source": [
        "class Encoder(tf.keras.layers.Layer):\n",
        "  def __init__(self, num_layers, d_model, num_heads, dff, input_vocab_size,\n",
        "               maximum_position_encoding, rate=0.1):\n",
        "    super(Encoder, self).__init__()\n",
        "\n",
        "    self.d_model = d_model\n",
        "    self.num_layers = num_layers\n",
        "\n",
        "    self.embedding = tf.keras.layers.Embedding(input_vocab_size, d_model)\n",
        "    self.pos_encoding = positional_encoding(maximum_position_encoding,\n",
        "                                            self.d_model)\n",
        "\n",
        "    self.enc_layers = [EncoderLayer(d_model, num_heads, dff, rate)\n",
        "                       for _ in range(num_layers)]\n",
        "\n",
        "    self.dropout = tf.keras.layers.Dropout(rate)\n",
        "\n",
        "  def call(self, x, training, mask):\n",
        "\n",
        "    seq_len = tf.shape(x)[1]\n",
        "\n",
        "    # adding embedding and position encoding.\n",
        "    x = self.embedding(x)  # (batch_size, input_seq_len, d_model)\n",
        "    x *= tf.math.sqrt(tf.cast(self.d_model, tf.float32))\n",
        "    x += self.pos_encoding[:, :seq_len, :]\n",
        "\n",
        "    x = self.dropout(x, training=training)\n",
        "\n",
        "    for i in range(self.num_layers):\n",
        "      x = self.enc_layers[i](x, training=training, mask=mask)\n",
        "\n",
        "    return x  # (batch_size, input_seq_len, d_model)"
      ]
    },
    {
      "cell_type": "code",
      "execution_count": 37,
      "metadata": {
        "colab": {
          "base_uri": "https://localhost:8080/"
        },
        "id": "cOxW3whLhxES",
        "outputId": "b723d021-4765-484c-f47f-9988d097aa69"
      },
      "outputs": [
        {
          "name": "stdout",
          "output_type": "stream",
          "text": [
            "(64, 62, 512)\n"
          ]
        }
      ],
      "source": [
        "sample_encoder = Encoder(num_layers=2, d_model=512, num_heads=8,\n",
        "                         dff=2048, input_vocab_size=8500,\n",
        "                         maximum_position_encoding=10000)\n",
        "temp_input = tf.random.uniform((64, 62), dtype=tf.int64, minval=0, maxval=200)\n",
        "\n",
        "sample_encoder_output = sample_encoder(temp_input, training=False, mask=None)\n",
        "\n",
        "print(sample_encoder_output.shape)  # (batch_size, input_seq_len, d_model)"
      ]
    },
    {
      "cell_type": "markdown",
      "metadata": {},
      "source": [
        "# Decodificador\n",
        "O Decoder é composto por:\n",
        "\n",
        "1. Incorporação de saída\n",
        "2. Codificação posicional\n",
        "3. N camadas do decodificador"
      ]
    },
    {
      "cell_type": "code",
      "execution_count": 38,
      "metadata": {
        "id": "0-3S5c79hzyB"
      },
      "outputs": [],
      "source": [
        "class Decoder(tf.keras.layers.Layer):\n",
        "  def __init__(self, num_layers, d_model, num_heads, dff, target_vocab_size,\n",
        "               maximum_position_encoding, rate=0.1):\n",
        "    super(Decoder, self).__init__()\n",
        "\n",
        "    self.d_model = d_model\n",
        "    self.num_layers = num_layers\n",
        "\n",
        "    self.embedding = tf.keras.layers.Embedding(target_vocab_size, d_model)\n",
        "    self.pos_encoding = positional_encoding(maximum_position_encoding, d_model)\n",
        "\n",
        "    self.dec_layers = [DecoderLayer(d_model, num_heads, dff, rate)\n",
        "                       for _ in range(num_layers)]\n",
        "    self.dropout = tf.keras.layers.Dropout(rate)\n",
        "\n",
        "  def call(self, x, enc_output, training,\n",
        "           look_ahead_mask, padding_mask):\n",
        "\n",
        "    seq_len = tf.shape(x)[1]\n",
        "    attention_weights = {}\n",
        "\n",
        "    x = self.embedding(x)  # (batch_size, target_seq_len, d_model)\n",
        "    x *= tf.math.sqrt(tf.cast(self.d_model, tf.float32))\n",
        "    x += self.pos_encoding[:, :seq_len, :]\n",
        "\n",
        "    x = self.dropout(x, training=training)\n",
        "\n",
        "    for i in range(self.num_layers):\n",
        "      x, block1, block2 = self.dec_layers[i](x, enc_output, training=training,\n",
        "                                             look_ahead_mask=look_ahead_mask, padding_mask=padding_mask)\n",
        "\n",
        "      attention_weights[f'decoder_layer{i+1}_block1'] = block1\n",
        "      attention_weights[f'decoder_layer{i+1}_block2'] = block2\n",
        "\n",
        "    # x.shape == (batch_size, target_seq_len, d_model)\n",
        "    return x, attention_weights"
      ]
    },
    {
      "cell_type": "code",
      "execution_count": 39,
      "metadata": {
        "colab": {
          "base_uri": "https://localhost:8080/"
        },
        "id": "LFkwVjtki5dL",
        "outputId": "cc696256-f85a-4f54-a461-13b1b6866fc7"
      },
      "outputs": [
        {
          "data": {
            "text/plain": [
              "(TensorShape([64, 26, 512]), TensorShape([64, 8, 26, 62]))"
            ]
          },
          "execution_count": 39,
          "metadata": {},
          "output_type": "execute_result"
        }
      ],
      "source": [
        "sample_decoder = Decoder(num_layers=2, d_model=512, num_heads=8,\n",
        "                         dff=2048, target_vocab_size=8000,\n",
        "                         maximum_position_encoding=5000)\n",
        "temp_input = tf.random.uniform((64, 26), dtype=tf.int64, minval=0, maxval=200)\n",
        "\n",
        "output, attn = sample_decoder(temp_input,\n",
        "                              enc_output=sample_encoder_output,\n",
        "                              training=False,\n",
        "                              look_ahead_mask=None,\n",
        "                              padding_mask=None)\n",
        "\n",
        "output.shape, attn['decoder_layer2_block2'].shape"
      ]
    },
    {
      "cell_type": "markdown",
      "metadata": {},
      "source": [
        "# Criando o transformer\n",
        "O transformer consiste no codificador, decodificador e uma camada linear final. A saída do decodificador é a entrada para a camada linear e sua saída é retornada."
      ]
    },
    {
      "cell_type": "code",
      "execution_count": 289,
      "metadata": {
        "id": "VVmAbLuRjFE9"
      },
      "outputs": [],
      "source": [
        "class Transformer(tf.keras.Model):\n",
        "  def __init__(self, num_layers, d_model, num_heads, dff, input_vocab_size,\n",
        "               target_vocab_size, pe_input, pe_target, rate=0.1):\n",
        "    super().__init__()\n",
        "    self.encoder = Encoder(num_layers, d_model, num_heads, dff,\n",
        "                             input_vocab_size, pe_input, rate)\n",
        "\n",
        "    self.decoder = Decoder(num_layers, d_model, num_heads, dff,\n",
        "                           target_vocab_size, pe_target, rate)\n",
        "\n",
        "    self.final_layer = tf.keras.layers.Dense(target_vocab_size)\n",
        "\n",
        "  def call(self, inputs, training=False):\n",
        "    # Keras models prefer if you pass all your inputs in the first argument\n",
        "    inp, tar = inputs\n",
        "\n",
        "    enc_padding_mask, look_ahead_mask, dec_padding_mask = self.create_masks(inp, tar)\n",
        "\n",
        "    enc_output = self.encoder(inp, training=training, mask=enc_padding_mask)  # (batch_size, inp_seq_len, d_model)\n",
        "\n",
        "    # dec_output.shape == (batch_size, tar_seq_len, d_model)\n",
        "    dec_output, attention_weights = self.decoder(\n",
        "        tar, enc_output, training=training, look_ahead_mask=look_ahead_mask, padding_mask=dec_padding_mask)\n",
        "\n",
        "    final_output = self.final_layer(dec_output)  # (batch_size, tar_seq_len, target_vocab_size)\n",
        "\n",
        "    return final_output, attention_weights\n",
        "\n",
        "  def create_masks(self, inp, tar):\n",
        "    # Encoder padding mask\n",
        "    enc_padding_mask = create_padding_mask(inp)\n",
        "\n",
        "    # Used in the 2nd attention block in the decoder.\n",
        "    # This padding mask is used to mask the encoder outputs.\n",
        "    dec_padding_mask = create_padding_mask(inp)\n",
        "\n",
        "    # Used in the 1st attention block in the decoder.\n",
        "    # It is used to pad and mask future tokens in the input received by\n",
        "    # the decoder.\n",
        "    look_ahead_mask = create_look_ahead_mask(tf.shape(tar)[1])\n",
        "    dec_target_padding_mask = create_padding_mask(tar)\n",
        "    look_ahead_mask = tf.maximum(dec_target_padding_mask, look_ahead_mask)\n",
        "\n",
        "    return enc_padding_mask, look_ahead_mask, dec_padding_mask"
      ]
    },
    {
      "cell_type": "code",
      "execution_count": 290,
      "metadata": {
        "colab": {
          "base_uri": "https://localhost:8080/"
        },
        "id": "S-ROppL8km1e",
        "outputId": "5052881b-ef95-41e9-9831-50bea009e076"
      },
      "outputs": [
        {
          "data": {
            "text/plain": [
              "TensorShape([64, 36, 8000])"
            ]
          },
          "execution_count": 290,
          "metadata": {},
          "output_type": "execute_result"
        }
      ],
      "source": [
        "sample_transformer = Transformer(\n",
        "    num_layers=2, d_model=512, num_heads=8, dff=2048,\n",
        "    input_vocab_size=8500, target_vocab_size=8000,\n",
        "    pe_input=10000, pe_target=6000)\n",
        "\n",
        "temp_input = tf.random.uniform((64, 38), dtype=tf.int64, minval=0, maxval=200)\n",
        "temp_target = tf.random.uniform((64, 36), dtype=tf.int64, minval=0, maxval=200)\n",
        "\n",
        "fn_out, _ = sample_transformer([temp_input, temp_target], training=False)\n",
        "\n",
        "fn_out.shape  # (batch_size, tar_seq_len, target_vocab_size)"
      ]
    },
    {
      "cell_type": "markdown",
      "metadata": {},
      "source": [
        "Definindo hiperparâmetros\n",
        "\n",
        "Para manter este exemplo pequeno e relativamente rápido, os valores para num_layers, d_model, dff foram reduzidos.\n",
        "\n",
        "O modelo base descrito no artigo utilizado: num_layers=6, d_model=512, dff=2048"
      ]
    },
    {
      "cell_type": "code",
      "execution_count": 291,
      "metadata": {
        "id": "ORvpIs1EkpAF"
      },
      "outputs": [],
      "source": [
        "num_layers = 4\n",
        "d_model = 128\n",
        "dff = 512\n",
        "num_heads = 8\n",
        "dropout_rate = 0.1"
      ]
    },
    {
      "cell_type": "markdown",
      "metadata": {
        "id": "Ylssu6EpmcE1"
      },
      "source": [
        "## Otimizador\n",
        "$$\\Large{lrate = d_{model}^{-0.5} * \\min(step{\\_}num^{-0.5}, step{\\_}num \\cdot warmup{\\_}steps^{-1.5})}$$"
      ]
    },
    {
      "cell_type": "code",
      "execution_count": 292,
      "metadata": {
        "id": "fU4dbe1CmV23"
      },
      "outputs": [],
      "source": [
        "class CustomSchedule(tf.keras.optimizers.schedules.LearningRateSchedule):\n",
        "  def __init__(self, d_model, warmup_steps=4000):\n",
        "    super(CustomSchedule, self).__init__()\n",
        "\n",
        "    self.d_model = d_model\n",
        "    self.d_model = tf.cast(self.d_model, tf.float32)\n",
        "\n",
        "    self.warmup_steps = warmup_steps\n",
        "\n",
        "  def __call__(self, step):\n",
        "    arg1 = tf.math.rsqrt(tf.cast(step, tf.float32))\n",
        "\n",
        "    arg2 = step * (self.warmup_steps ** -1.5)\n",
        "\n",
        "    return tf.math.rsqrt(self.d_model) * tf.math.minimum(arg1, arg2)"
      ]
    },
    {
      "cell_type": "code",
      "execution_count": 293,
      "metadata": {
        "id": "3FbzHJnhmjx8"
      },
      "outputs": [],
      "source": [
        "learning_rate = CustomSchedule(d_model)\n",
        "\n",
        "optimizer = tf.keras.optimizers.Adam(learning_rate, beta_1=0.9, beta_2=0.98,\n",
        "                                     epsilon=1e-9)"
      ]
    },
    {
      "cell_type": "code",
      "execution_count": 294,
      "metadata": {
        "colab": {
          "base_uri": "https://localhost:8080/",
          "height": 466
        },
        "id": "4n0mAATFmmU3",
        "outputId": "266d99a5-8bf2-48f1-8a44-f6cecbe3c43b"
      },
      "outputs": [
        {
          "data": {
            "text/plain": [
              "Text(0.5, 0, 'Train Step')"
            ]
          },
          "execution_count": 294,
          "metadata": {},
          "output_type": "execute_result"
        },
        {
          "data": {
            "image/png": "[encoded data removed]",
            "text/plain": [
              "<Figure size 640x480 with 1 Axes>"
            ]
          },
          "metadata": {},
          "output_type": "display_data"
        }
      ],
      "source": [
        "temp_learning_rate_schedule = CustomSchedule(d_model)\n",
        "\n",
        "plt.plot(temp_learning_rate_schedule(tf.range(40000, dtype=tf.float32)))\n",
        "plt.ylabel(\"Learning Rate\")\n",
        "plt.xlabel(\"Train Step\")"
      ]
    },
    {
      "cell_type": "markdown",
      "metadata": {},
      "source": [
        "# Loss e métricas"
      ]
    },
    {
      "cell_type": "code",
      "execution_count": 295,
      "metadata": {
        "id": "7BdSz_4bmpUN"
      },
      "outputs": [],
      "source": [
        "loss_object = tf.keras.losses.SparseCategoricalCrossentropy(\n",
        "    from_logits=True, reduction='none')"
      ]
    },
    {
      "cell_type": "code",
      "execution_count": 296,
      "metadata": {
        "id": "smTgjWBYmxve"
      },
      "outputs": [],
      "source": [
        "def loss_function(real, pred):\n",
        "  mask = tf.math.logical_not(tf.math.equal(real, 0))\n",
        "  loss_ = loss_object(real, pred)\n",
        "\n",
        "  mask = tf.cast(mask, dtype=loss_.dtype)\n",
        "  loss_ *= mask\n",
        "\n",
        "  return tf.reduce_sum(loss_)/tf.reduce_sum(mask)\n",
        "\n",
        "\n",
        "def accuracy_function(real, pred):\n",
        "  accuracies = tf.equal(real, tf.argmax(pred, axis=2))\n",
        "\n",
        "  mask = tf.math.logical_not(tf.math.equal(real, 0))\n",
        "  accuracies = tf.math.logical_and(mask, accuracies)\n",
        "\n",
        "  accuracies = tf.cast(accuracies, dtype=tf.float32)\n",
        "  mask = tf.cast(mask, dtype=tf.float32)\n",
        "  return tf.reduce_sum(accuracies)/tf.reduce_sum(mask)"
      ]
    },
    {
      "cell_type": "code",
      "execution_count": 297,
      "metadata": {
        "id": "DfviSR6wmzy0"
      },
      "outputs": [],
      "source": [
        "train_loss = tf.keras.metrics.Mean(name='train_loss')\n",
        "train_accuracy = tf.keras.metrics.Mean(name='train_accuracy')"
      ]
    },
    {
      "cell_type": "markdown",
      "metadata": {},
      "source": [
        "# Treinamento e checkpoint"
      ]
    },
    {
      "cell_type": "code",
      "execution_count": 298,
      "metadata": {
        "id": "NiriLrlcm3OG"
      },
      "outputs": [],
      "source": [
        "transformer = Transformer(\n",
        "    num_layers=num_layers,\n",
        "    d_model=d_model,\n",
        "    num_heads=num_heads,\n",
        "    dff=dff,\n",
        "    input_vocab_size=tokenizers.pt.get_vocab_size().numpy(),\n",
        "    target_vocab_size=tokenizers.en.get_vocab_size().numpy(),\n",
        "    pe_input=1000,\n",
        "    pe_target=1000,\n",
        "    rate=dropout_rate)"
      ]
    },
    {
      "cell_type": "code",
      "execution_count": 299,
      "metadata": {
        "colab": {
          "base_uri": "https://localhost:8080/"
        },
        "id": "dTvy7h4mm5P3",
        "outputId": "18352b10-25d7-49b6-8b17-27ddaa224f76"
      },
      "outputs": [
        {
          "name": "stdout",
          "output_type": "stream",
          "text": [
            "Latest checkpoint restored!!\n"
          ]
        }
      ],
      "source": [
        "checkpoint_path = \"./checkpoints/train\"\n",
        "\n",
        "ckpt = tf.train.Checkpoint(transformer=transformer,\n",
        "                           optimizer=optimizer)\n",
        "\n",
        "ckpt_manager = tf.train.CheckpointManager(ckpt, checkpoint_path, max_to_keep=5)\n",
        "\n",
        "# if a checkpoint exists, restore the latest checkpoint.\n",
        "if ckpt_manager.latest_checkpoint:\n",
        "  ckpt.restore(ckpt_manager.latest_checkpoint)\n",
        "  print('Latest checkpoint restored!!')"
      ]
    },
    {
      "cell_type": "code",
      "execution_count": 300,
      "metadata": {
        "id": "3sBV9sShm7t-"
      },
      "outputs": [],
      "source": [
        "EPOCHS = 20"
      ]
    },
    {
      "cell_type": "code",
      "execution_count": 301,
      "metadata": {
        "id": "HiYY4ygkm_PP"
      },
      "outputs": [],
      "source": [
        "# The @tf.function trace-compiles train_step into a TF graph for faster\n",
        "# execution. The function specializes to the precise shape of the argument\n",
        "# tensors. To avoid re-tracing due to the variable sequence lengths or variable\n",
        "# batch sizes (the last batch is smaller), use input_signature to specify\n",
        "# more generic shapes.\n",
        "\n",
        "train_step_signature = [\n",
        "    tf.TensorSpec(shape=(None, None), dtype=tf.int64),\n",
        "    tf.TensorSpec(shape=(None, None), dtype=tf.int64),\n",
        "]\n",
        "\n",
        "\n",
        "@tf.function(input_signature=train_step_signature)\n",
        "def train_step(inp, tar):\n",
        "  tar_inp = tar[:, :-1]\n",
        "  tar_real = tar[:, 1:]\n",
        "\n",
        "  with tf.GradientTape() as tape:\n",
        "    predictions, _ = transformer([inp, tar_inp],\n",
        "                                 training = True)\n",
        "    loss = loss_function(tar_real, predictions)\n",
        "\n",
        "  gradients = tape.gradient(loss, transformer.trainable_variables)\n",
        "  optimizer.apply_gradients(zip(gradients, transformer.trainable_variables))\n",
        "\n",
        "  train_loss(loss)\n",
        "  train_accuracy(accuracy_function(tar_real, predictions))"
      ]
    },
    {
      "cell_type": "code",
      "execution_count": 302,
      "metadata": {
        "colab": {
          "base_uri": "https://localhost:8080/"
        },
        "id": "Zmi2DR2DnAvW",
        "outputId": "3ca35105-a9fa-4b4e-b631-6ec08bdabee5"
      },
      "outputs": [
        {
          "name": "stderr",
          "output_type": "stream",
          "text": [
            "/usr/local/lib/python3.11/dist-packages/keras/src/layers/layer.py:1387: UserWarning: Layer 'transformer_3' looks like it has unbuilt state, but Keras is not able to trace the layer `call()` in order to build it automatically. Possible causes:\n",
            "1. The `call()` method of your layer may be crashing. Try to `__call__()` the layer eagerly on some test input first to see if it works. E.g. `x = np.random.random((3, 4)); y = layer(x)`\n",
            "2. If the `call()` method is correct, then you may need to implement the `def build(self, input_shape)` method on your layer. It should create all variables used by the layer (e.g. by calling `layer.build()` on all its children layers).\n",
            "Exception encountered: '''tensorflow.python.framework.ops.EagerTensor' object has no attribute '_serialize_to_tensors'''\n",
            "  warnings.warn(\n",
            "/usr/local/lib/python3.11/dist-packages/keras/src/layers/layer.py:393: UserWarning: `build()` was called on layer 'transformer_3', however the layer does not have a `build()` method implemented and it looks like it has unbuilt state. This will cause the layer to be marked as built, despite not being actually built, which may cause failures down the line. Make sure to implement a proper `build()` method.\n",
            "  warnings.warn(\n",
            "WARNING:tensorflow:Detecting that an object or model or tf.train.Checkpoint is being deleted with unrestored values. See the following logs for the specific values in question. To silence these warnings, use `status.expect_partial()`. See https://www.tensorflow.org/api_docs/python/tf/train/Checkpoint#restorefor details about the status object returned by the restore function.\n",
            "WARNING:tensorflow:Value in checkpoint could not be found in the restored object: (root).optimizer._trainable_variables.1\n",
            "WARNING:tensorflow:Value in checkpoint could not be found in the restored object: (root).optimizer._trainable_variables.2\n",
            "WARNING:tensorflow:Value in checkpoint could not be found in the restored object: (root).optimizer._trainable_variables.3\n",
            "WARNING:tensorflow:Value in checkpoint could not be found in the restored object: (root).optimizer._trainable_variables.4\n",
            "WARNING:tensorflow:Value in checkpoint could not be found in the restored object: (root).optimizer._trainable_variables.5\n",
            "WARNING:tensorflow:Value in checkpoint could not be found in the restored object: (root).optimizer._trainable_variables.6\n",
            "WARNING:tensorflow:Value in checkpoint could not be found in the restored object: (root).optimizer._trainable_variables.7\n",
            "WARNING:tensorflow:Value in checkpoint could not be found in the restored object: (root).optimizer._trainable_variables.8\n",
            "WARNING:tensorflow:Value in checkpoint could not be found in the restored object: (root).optimizer._trainable_variables.9\n",
            "WARNING:tensorflow:Value in checkpoint could not be found in the restored object: (root).optimizer._trainable_variables.10\n",
            "WARNING:tensorflow:Value in checkpoint could not be found in the restored object: (root).optimizer._trainable_variables.11\n",
            "WARNING:tensorflow:Value in checkpoint could not be found in the restored object: (root).optimizer._trainable_variables.12\n",
            "WARNING:tensorflow:Value in checkpoint could not be found in the restored object: (root).optimizer._trainable_variables.13\n",
            "WARNING:tensorflow:Value in checkpoint could not be found in the restored object: (root).optimizer._trainable_variables.14\n",
            "WARNING:tensorflow:Value in checkpoint could not be found in the restored object: (root).optimizer._trainable_variables.15\n",
            "WARNING:tensorflow:Value in checkpoint could not be found in the restored object: (root).optimizer._trainable_variables.16\n",
            "WARNING:tensorflow:Value in checkpoint could not be found in the restored object: (root).optimizer._trainable_variables.17\n",
            "WARNING:tensorflow:Value in checkpoint could not be found in the restored object: (root).optimizer._trainable_variables.18\n",
            "WARNING:tensorflow:Value in checkpoint could not be found in the restored object: (root).optimizer._trainable_variables.19\n",
            "WARNING:tensorflow:Value in checkpoint could not be found in the restored object: (root).optimizer._trainable_variables.20\n",
            "WARNING:tensorflow:Value in checkpoint could not be found in the restored object: (root).optimizer._trainable_variables.21\n",
            "WARNING:tensorflow:Value in checkpoint could not be found in the restored object: (root).optimizer._trainable_variables.22\n",
            "WARNING:tensorflow:Value in checkpoint could not be found in the restored object: (root).optimizer._trainable_variables.23\n",
            "WARNING:tensorflow:Value in checkpoint could not be found in the restored object: (root).optimizer._trainable_variables.24\n",
            "WARNING:tensorflow:Value in checkpoint could not be found in the restored object: (root).optimizer._trainable_variables.25\n",
            "WARNING:tensorflow:Value in checkpoint could not be found in the restored object: (root).optimizer._trainable_variables.26\n",
            "WARNING:tensorflow:Value in checkpoint could not be found in the restored object: (root).optimizer._trainable_variables.27\n",
            "WARNING:tensorflow:Value in checkpoint could not be found in the restored object: (root).optimizer._trainable_variables.28\n",
            "WARNING:tensorflow:Value in checkpoint could not be found in the restored object: (root).optimizer._trainable_variables.29\n",
            "WARNING:tensorflow:Value in checkpoint could not be found in the restored object: (root).optimizer._trainable_variables.30\n",
            "WARNING:tensorflow:Value in checkpoint could not be found in the restored object: (root).optimizer._trainable_variables.31\n",
            "WARNING:tensorflow:Value in checkpoint could not be found in the restored object: (root).optimizer._trainable_variables.32\n",
            "WARNING:tensorflow:Value in checkpoint could not be found in the restored object: (root).optimizer._trainable_variables.33\n",
            "WARNING:tensorflow:Value in checkpoint could not be found in the restored object: (root).optimizer._trainable_variables.34\n",
            "WARNING:tensorflow:Value in checkpoint could not be found in the restored object: (root).optimizer._trainable_variables.35\n",
            "WARNING:tensorflow:Value in checkpoint could not be found in the restored object: (root).optimizer._trainable_variables.36\n",
            "WARNING:tensorflow:Value in checkpoint could not be found in the restored object: (root).optimizer._trainable_variables.37\n",
            "WARNING:tensorflow:Value in checkpoint could not be found in the restored object: (root).optimizer._trainable_variables.38\n",
            "WARNING:tensorflow:Value in checkpoint could not be found in the restored object: (root).optimizer._trainable_variables.39\n",
            "WARNING:tensorflow:Value in checkpoint could not be found in the restored object: (root).optimizer._trainable_variables.40\n",
            "WARNING:tensorflow:Value in checkpoint could not be found in the restored object: (root).optimizer._trainable_variables.41\n",
            "WARNING:tensorflow:Value in checkpoint could not be found in the restored object: (root).optimizer._trainable_variables.42\n",
            "WARNING:tensorflow:Value in checkpoint could not be found in the restored object: (root).optimizer._trainable_variables.43\n",
            "WARNING:tensorflow:Value in checkpoint could not be found in the restored object: (root).optimizer._trainable_variables.44\n",
            "WARNING:tensorflow:Value in checkpoint could not be found in the restored object: (root).optimizer._trainable_variables.45\n",
            "WARNING:tensorflow:Value in checkpoint could not be found in the restored object: (root).optimizer._trainable_variables.46\n",
            "WARNING:tensorflow:Value in checkpoint could not be found in the restored object: (root).optimizer._trainable_variables.47\n",
            "WARNING:tensorflow:Value in checkpoint could not be found in the restored object: (root).optimizer._trainable_variables.48\n",
            "WARNING:tensorflow:Value in checkpoint could not be found in the restored object: (root).optimizer._trainable_variables.49\n",
            "WARNING:tensorflow:Value in checkpoint could not be found in the restored object: (root).optimizer._trainable_variables.50\n",
            "WARNING:tensorflow:Value in checkpoint could not be found in the restored object: (root).optimizer._trainable_variables.51\n",
            "WARNING:tensorflow:Value in checkpoint could not be found in the restored object: (root).optimizer._trainable_variables.52\n",
            "WARNING:tensorflow:Value in checkpoint could not be found in the restored object: (root).optimizer._trainable_variables.53\n",
            "WARNING:tensorflow:Value in checkpoint could not be found in the restored object: (root).optimizer._trainable_variables.54\n",
            "WARNING:tensorflow:Value in checkpoint could not be found in the restored object: (root).optimizer._trainable_variables.55\n",
            "WARNING:tensorflow:Value in checkpoint could not be found in the restored object: (root).optimizer._trainable_variables.56\n",
            "WARNING:tensorflow:Value in checkpoint could not be found in the restored object: (root).optimizer._trainable_variables.57\n",
            "WARNING:tensorflow:Value in checkpoint could not be found in the restored object: (root).optimizer._trainable_variables.58\n",
            "WARNING:tensorflow:Value in checkpoint could not be found in the restored object: (root).optimizer._trainable_variables.59\n",
            "WARNING:tensorflow:Value in checkpoint could not be found in the restored object: (root).optimizer._trainable_variables.60\n",
            "WARNING:tensorflow:Value in checkpoint could not be found in the restored object: (root).optimizer._trainable_variables.61\n",
            "WARNING:tensorflow:Value in checkpoint could not be found in the restored object: (root).optimizer._trainable_variables.62\n",
            "WARNING:tensorflow:Value in checkpoint could not be found in the restored object: (root).optimizer._trainable_variables.63\n",
            "WARNING:tensorflow:Value in checkpoint could not be found in the restored object: (root).optimizer._trainable_variables.64\n",
            "WARNING:tensorflow:Value in checkpoint could not be found in the restored object: (root).optimizer._trainable_variables.66\n",
            "WARNING:tensorflow:Value in checkpoint could not be found in the restored object: (root).optimizer._trainable_variables.67\n",
            "WARNING:tensorflow:Value in checkpoint could not be found in the restored object: (root).optimizer._trainable_variables.68\n",
            "WARNING:tensorflow:Value in checkpoint could not be found in the restored object: (root).optimizer._trainable_variables.69\n",
            "WARNING:tensorflow:Value in checkpoint could not be found in the restored object: (root).optimizer._trainable_variables.70\n",
            "WARNING:tensorflow:Value in checkpoint could not be found in the restored object: (root).optimizer._trainable_variables.71\n",
            "WARNING:tensorflow:Value in checkpoint could not be found in the restored object: (root).optimizer._trainable_variables.72\n",
            "WARNING:tensorflow:Value in checkpoint could not be found in the restored object: (root).optimizer._trainable_variables.73\n",
            "WARNING:tensorflow:Value in checkpoint could not be found in the restored object: (root).optimizer._trainable_variables.74\n",
            "WARNING:tensorflow:Value in checkpoint could not be found in the restored object: (root).optimizer._trainable_variables.75\n",
            "WARNING:tensorflow:Value in checkpoint could not be found in the restored object: (root).optimizer._trainable_variables.76\n",
            "WARNING:tensorflow:Value in checkpoint could not be found in the restored object: (root).optimizer._trainable_variables.77\n",
            "WARNING:tensorflow:Value in checkpoint could not be found in the restored object: (root).optimizer._trainable_variables.78\n",
            "WARNING:tensorflow:Value in checkpoint could not be found in the restored object: (root).optimizer._trainable_variables.79\n",
            "WARNING:tensorflow:Value in checkpoint could not be found in the restored object: (root).optimizer._trainable_variables.80\n",
            "WARNING:tensorflow:Value in checkpoint could not be found in the restored object: (root).optimizer._trainable_variables.81\n",
            "WARNING:tensorflow:Value in checkpoint could not be found in the restored object: (root).optimizer._trainable_variables.82\n",
            "WARNING:tensorflow:Value in checkpoint could not be found in the restored object: (root).optimizer._trainable_variables.83\n",
            "WARNING:tensorflow:Value in checkpoint could not be found in the restored object: (root).optimizer._trainable_variables.84\n",
            "WARNING:tensorflow:Value in checkpoint could not be found in the restored object: (root).optimizer._trainable_variables.85\n",
            "WARNING:tensorflow:Value in checkpoint could not be found in the restored object: (root).optimizer._trainable_variables.86\n",
            "WARNING:tensorflow:Value in checkpoint could not be found in the restored object: (root).optimizer._trainable_variables.87\n",
            "WARNING:tensorflow:Value in checkpoint could not be found in the restored object: (root).optimizer._trainable_variables.88\n",
            "WARNING:tensorflow:Value in checkpoint could not be found in the restored object: (root).optimizer._trainable_variables.89\n",
            "WARNING:tensorflow:Value in checkpoint could not be found in the restored object: (root).optimizer._trainable_variables.90\n",
            "WARNING:tensorflow:Value in checkpoint could not be found in the restored object: (root).optimizer._trainable_variables.91\n",
            "WARNING:tensorflow:Value in checkpoint could not be found in the restored object: (root).optimizer._trainable_variables.92\n",
            "WARNING:tensorflow:Value in checkpoint could not be found in the restored object: (root).optimizer._trainable_variables.93\n",
            "WARNING:tensorflow:Value in checkpoint could not be found in the restored object: (root).optimizer._trainable_variables.94\n",
            "WARNING:tensorflow:Value in checkpoint could not be found in the restored object: (root).optimizer._trainable_variables.95\n",
            "WARNING:tensorflow:Value in checkpoint could not be found in the restored object: (root).optimizer._trainable_variables.96\n",
            "WARNING:tensorflow:Value in checkpoint could not be found in the restored object: (root).optimizer._trainable_variables.97\n",
            "WARNING:tensorflow:Value in checkpoint could not be found in the restored object: (root).optimizer._trainable_variables.98\n",
            "WARNING:tensorflow:Value in checkpoint could not be found in the restored object: (root).optimizer._trainable_variables.99\n",
            "WARNING:tensorflow:Value in checkpoint could not be found in the restored object: (root).optimizer._trainable_variables.100\n",
            "WARNING:tensorflow:Value in checkpoint could not be found in the restored object: (root).optimizer._trainable_variables.101\n",
            "WARNING:tensorflow:Value in checkpoint could not be found in the restored object: (root).optimizer._trainable_variables.102\n",
            "WARNING:tensorflow:Value in checkpoint could not be found in the restored object: (root).optimizer._trainable_variables.103\n",
            "WARNING:tensorflow:Value in checkpoint could not be found in the restored object: (root).optimizer._trainable_variables.104\n",
            "WARNING:tensorflow:Value in checkpoint could not be found in the restored object: (root).optimizer._trainable_variables.105\n",
            "WARNING:tensorflow:Value in checkpoint could not be found in the restored object: (root).optimizer._trainable_variables.106\n",
            "WARNING:tensorflow:Value in checkpoint could not be found in the restored object: (root).optimizer._trainable_variables.107\n",
            "WARNING:tensorflow:Value in checkpoint could not be found in the restored object: (root).optimizer._trainable_variables.108\n",
            "WARNING:tensorflow:Value in checkpoint could not be found in the restored object: (root).optimizer._trainable_variables.109\n",
            "WARNING:tensorflow:Value in checkpoint could not be found in the restored object: (root).optimizer._trainable_variables.110\n",
            "WARNING:tensorflow:Value in checkpoint could not be found in the restored object: (root).optimizer._trainable_variables.111\n",
            "WARNING:tensorflow:Value in checkpoint could not be found in the restored object: (root).optimizer._trainable_variables.112\n",
            "WARNING:tensorflow:Value in checkpoint could not be found in the restored object: (root).optimizer._trainable_variables.113\n",
            "WARNING:tensorflow:Value in checkpoint could not be found in the restored object: (root).optimizer._trainable_variables.114\n",
            "WARNING:tensorflow:Value in checkpoint could not be found in the restored object: (root).optimizer._trainable_variables.115\n",
            "WARNING:tensorflow:Value in checkpoint could not be found in the restored object: (root).optimizer._trainable_variables.116\n",
            "WARNING:tensorflow:Value in checkpoint could not be found in the restored object: (root).optimizer._trainable_variables.117\n",
            "WARNING:tensorflow:Value in checkpoint could not be found in the restored object: (root).optimizer._trainable_variables.118\n",
            "WARNING:tensorflow:Value in checkpoint could not be found in the restored object: (root).optimizer._trainable_variables.119\n",
            "WARNING:tensorflow:Value in checkpoint could not be found in the restored object: (root).optimizer._trainable_variables.120\n",
            "WARNING:tensorflow:Value in checkpoint could not be found in the restored object: (root).optimizer._trainable_variables.121\n",
            "WARNING:tensorflow:Value in checkpoint could not be found in the restored object: (root).optimizer._trainable_variables.122\n",
            "WARNING:tensorflow:Value in checkpoint could not be found in the restored object: (root).optimizer._trainable_variables.123\n",
            "WARNING:tensorflow:Value in checkpoint could not be found in the restored object: (root).optimizer._trainable_variables.124\n",
            "WARNING:tensorflow:Value in checkpoint could not be found in the restored object: (root).optimizer._trainable_variables.125\n",
            "WARNING:tensorflow:Value in checkpoint could not be found in the restored object: (root).optimizer._trainable_variables.126\n",
            "WARNING:tensorflow:Value in checkpoint could not be found in the restored object: (root).optimizer._trainable_variables.127\n",
            "WARNING:tensorflow:Value in checkpoint could not be found in the restored object: (root).optimizer._trainable_variables.128\n",
            "WARNING:tensorflow:Value in checkpoint could not be found in the restored object: (root).optimizer._trainable_variables.129\n",
            "WARNING:tensorflow:Value in checkpoint could not be found in the restored object: (root).optimizer._trainable_variables.130\n",
            "WARNING:tensorflow:Value in checkpoint could not be found in the restored object: (root).optimizer._trainable_variables.131\n",
            "WARNING:tensorflow:Value in checkpoint could not be found in the restored object: (root).optimizer._trainable_variables.132\n",
            "WARNING:tensorflow:Value in checkpoint could not be found in the restored object: (root).optimizer._trainable_variables.133\n",
            "WARNING:tensorflow:Value in checkpoint could not be found in the restored object: (root).optimizer._trainable_variables.134\n",
            "WARNING:tensorflow:Value in checkpoint could not be found in the restored object: (root).optimizer._trainable_variables.135\n",
            "WARNING:tensorflow:Value in checkpoint could not be found in the restored object: (root).optimizer._trainable_variables.136\n",
            "WARNING:tensorflow:Value in checkpoint could not be found in the restored object: (root).optimizer._trainable_variables.137\n",
            "WARNING:tensorflow:Value in checkpoint could not be found in the restored object: (root).optimizer._trainable_variables.138\n",
            "WARNING:tensorflow:Value in checkpoint could not be found in the restored object: (root).optimizer._trainable_variables.139\n",
            "WARNING:tensorflow:Value in checkpoint could not be found in the restored object: (root).optimizer._trainable_variables.140\n",
            "WARNING:tensorflow:Value in checkpoint could not be found in the restored object: (root).optimizer._trainable_variables.141\n",
            "WARNING:tensorflow:Value in checkpoint could not be found in the restored object: (root).optimizer._trainable_variables.142\n",
            "WARNING:tensorflow:Value in checkpoint could not be found in the restored object: (root).optimizer._trainable_variables.143\n",
            "WARNING:tensorflow:Value in checkpoint could not be found in the restored object: (root).optimizer._trainable_variables.144\n",
            "WARNING:tensorflow:Value in checkpoint could not be found in the restored object: (root).optimizer._trainable_variables.145\n",
            "WARNING:tensorflow:Value in checkpoint could not be found in the restored object: (root).optimizer._trainable_variables.146\n",
            "WARNING:tensorflow:Value in checkpoint could not be found in the restored object: (root).optimizer._trainable_variables.147\n",
            "WARNING:tensorflow:Value in checkpoint could not be found in the restored object: (root).optimizer._trainable_variables.148\n",
            "WARNING:tensorflow:Value in checkpoint could not be found in the restored object: (root).optimizer._trainable_variables.149\n",
            "WARNING:tensorflow:Value in checkpoint could not be found in the restored object: (root).optimizer._trainable_variables.150\n",
            "WARNING:tensorflow:Value in checkpoint could not be found in the restored object: (root).optimizer._trainable_variables.151\n",
            "WARNING:tensorflow:Value in checkpoint could not be found in the restored object: (root).optimizer._trainable_variables.152\n",
            "WARNING:tensorflow:Value in checkpoint could not be found in the restored object: (root).optimizer._trainable_variables.153\n",
            "WARNING:tensorflow:Value in checkpoint could not be found in the restored object: (root).optimizer._trainable_variables.154\n",
            "WARNING:tensorflow:Value in checkpoint could not be found in the restored object: (root).optimizer._trainable_variables.155\n",
            "WARNING:tensorflow:Value in checkpoint could not be found in the restored object: (root).optimizer._trainable_variables.156\n",
            "WARNING:tensorflow:Value in checkpoint could not be found in the restored object: (root).optimizer._trainable_variables.157\n",
            "WARNING:tensorflow:Value in checkpoint could not be found in the restored object: (root).optimizer._trainable_variables.158\n",
            "WARNING:tensorflow:Value in checkpoint could not be found in the restored object: (root).optimizer._trainable_variables.159\n",
            "WARNING:tensorflow:Value in checkpoint could not be found in the restored object: (root).optimizer._trainable_variables.160\n",
            "WARNING:tensorflow:Value in checkpoint could not be found in the restored object: (root).optimizer._trainable_variables.161\n",
            "WARNING:tensorflow:Value in checkpoint could not be found in the restored object: (root).optimizer._trainable_variables.162\n",
            "WARNING:tensorflow:Value in checkpoint could not be found in the restored object: (root).optimizer._trainable_variables.163\n",
            "WARNING:tensorflow:Value in checkpoint could not be found in the restored object: (root).optimizer._trainable_variables.164\n",
            "WARNING:tensorflow:Value in checkpoint could not be found in the restored object: (root).optimizer._trainable_variables.165\n",
            "WARNING:tensorflow:Value in checkpoint could not be found in the restored object: (root).optimizer._trainable_variables.166\n",
            "WARNING:tensorflow:Value in checkpoint could not be found in the restored object: (root).optimizer._trainable_variables.167\n",
            "WARNING:tensorflow:Value in checkpoint could not be found in the restored object: (root).optimizer._trainable_variables.168\n",
            "WARNING:tensorflow:Value in checkpoint could not be found in the restored object: (root).optimizer._trainable_variables.169\n",
            "/usr/local/lib/python3.11/dist-packages/keras/src/optimizers/base_optimizer.py:774: UserWarning: Gradients do not exist for variables ['transformer_3/encoder_4/embedding_8/embeddings', 'transformer_3/decoder_4/embedding_9/embeddings', 'transformer_3/dense_249/kernel'] when minimizing the loss. If using `model.compile()`, did you forget to provide a `loss` argument?\n",
            "  warnings.warn(\n"
          ]
        },
        {
          "name": "stdout",
          "output_type": "stream",
          "text": [
            "Epoch 1 Batch 0 Loss 8.3423 Accuracy 0.0492\n",
            "Epoch 1 Batch 50 Loss 6.7100 Accuracy 0.0524\n",
            "Epoch 1 Batch 100 Loss 6.3954 Accuracy 0.0815\n",
            "Epoch 1 Batch 150 Loss 6.1570 Accuracy 0.1091\n",
            "Epoch 1 Batch 200 Loss 5.9736 Accuracy 0.1291\n",
            "Epoch 1 Batch 250 Loss 5.8337 Accuracy 0.1434\n",
            "Epoch 1 Batch 300 Loss 5.7229 Accuracy 0.1551\n",
            "Epoch 1 Batch 350 Loss 5.6323 Accuracy 0.1641\n",
            "Epoch 1 Batch 400 Loss 5.5568 Accuracy 0.1719\n",
            "Epoch 1 Batch 450 Loss 5.4865 Accuracy 0.1790\n",
            "Epoch 1 Batch 500 Loss 5.4287 Accuracy 0.1850\n",
            "Epoch 1 Batch 550 Loss 5.3799 Accuracy 0.1894\n",
            "Epoch 1 Batch 600 Loss 5.3331 Accuracy 0.1939\n",
            "Epoch 1 Batch 650 Loss 5.2907 Accuracy 0.1981\n",
            "Epoch 1 Batch 700 Loss 5.2532 Accuracy 0.2017\n",
            "Epoch 1 Batch 750 Loss 5.2191 Accuracy 0.2049\n",
            "Epoch 1 Batch 800 Loss 5.1891 Accuracy 0.2078\n",
            "Epoch 1 Loss 5.1835 Accuracy 0.2083\n",
            "Time taken for 1 epoch: 139.63 secs\n",
            "\n",
            "Epoch 2 Batch 0 Loss 4.6132 Accuracy 0.2524\n",
            "Epoch 2 Batch 50 Loss 4.6665 Accuracy 0.2539\n",
            "Epoch 2 Batch 100 Loss 4.6544 Accuracy 0.2549\n",
            "Epoch 2 Batch 150 Loss 4.6401 Accuracy 0.2565\n",
            "Epoch 2 Batch 200 Loss 4.6257 Accuracy 0.2588\n",
            "Epoch 2 Batch 250 Loss 4.6090 Accuracy 0.2597\n",
            "Epoch 2 Batch 300 Loss 4.5947 Accuracy 0.2614\n",
            "Epoch 2 Batch 350 Loss 4.5868 Accuracy 0.2622\n",
            "Epoch 2 Batch 400 Loss 4.5808 Accuracy 0.2629\n",
            "Epoch 2 Batch 450 Loss 4.5723 Accuracy 0.2639\n",
            "Epoch 2 Batch 500 Loss 4.5608 Accuracy 0.2651\n",
            "Epoch 2 Batch 550 Loss 4.5512 Accuracy 0.2660\n",
            "Epoch 2 Batch 600 Loss 4.5423 Accuracy 0.2669\n",
            "Epoch 2 Batch 650 Loss 4.5337 Accuracy 0.2678\n",
            "Epoch 2 Batch 700 Loss 4.5267 Accuracy 0.2684\n",
            "Epoch 2 Batch 750 Loss 4.5187 Accuracy 0.2693\n",
            "Epoch 2 Batch 800 Loss 4.5114 Accuracy 0.2699\n",
            "Epoch 2 Loss 4.5099 Accuracy 0.2700\n",
            "Time taken for 1 epoch: 103.97 secs\n",
            "\n",
            "Epoch 3 Batch 0 Loss 4.3316 Accuracy 0.2822\n",
            "Epoch 3 Batch 50 Loss 4.3211 Accuracy 0.2845\n",
            "Epoch 3 Batch 100 Loss 4.3199 Accuracy 0.2838\n",
            "Epoch 3 Batch 150 Loss 4.3127 Accuracy 0.2865\n",
            "Epoch 3 Batch 200 Loss 4.3001 Accuracy 0.2879\n",
            "Epoch 3 Batch 250 Loss 4.2969 Accuracy 0.2883\n",
            "Epoch 3 Batch 300 Loss 4.2926 Accuracy 0.2891\n",
            "Epoch 3 Batch 350 Loss 4.2880 Accuracy 0.2895\n",
            "Epoch 3 Batch 400 Loss 4.2826 Accuracy 0.2899\n",
            "Epoch 3 Batch 450 Loss 4.2746 Accuracy 0.2908\n",
            "Epoch 3 Batch 500 Loss 4.2693 Accuracy 0.2913\n",
            "Epoch 3 Batch 550 Loss 4.2634 Accuracy 0.2921\n",
            "Epoch 3 Batch 600 Loss 4.2561 Accuracy 0.2929\n",
            "Epoch 3 Batch 650 Loss 4.2541 Accuracy 0.2931\n",
            "Epoch 3 Batch 700 Loss 4.2517 Accuracy 0.2934\n",
            "Epoch 3 Batch 750 Loss 4.2467 Accuracy 0.2937\n",
            "Epoch 3 Batch 800 Loss 4.2421 Accuracy 0.2943\n",
            "Epoch 3 Loss 4.2416 Accuracy 0.2943\n",
            "Time taken for 1 epoch: 104.16 secs\n",
            "\n",
            "Epoch 4 Batch 0 Loss 3.9923 Accuracy 0.2951\n",
            "Epoch 4 Batch 50 Loss 4.0928 Accuracy 0.3085\n",
            "Epoch 4 Batch 100 Loss 4.0815 Accuracy 0.3100\n",
            "Epoch 4 Batch 150 Loss 4.0831 Accuracy 0.3089\n",
            "Epoch 4 Batch 200 Loss 4.0843 Accuracy 0.3078\n",
            "Epoch 4 Batch 250 Loss 4.0772 Accuracy 0.3087\n",
            "Epoch 4 Batch 300 Loss 4.0725 Accuracy 0.3094\n",
            "Epoch 4 Batch 350 Loss 4.0693 Accuracy 0.3096\n",
            "Epoch 4 Batch 400 Loss 4.0659 Accuracy 0.3098\n",
            "Epoch 4 Batch 450 Loss 4.0644 Accuracy 0.3100\n",
            "Epoch 4 Batch 500 Loss 4.0581 Accuracy 0.3107\n",
            "Epoch 4 Batch 550 Loss 4.0545 Accuracy 0.3110\n",
            "Epoch 4 Batch 600 Loss 4.0510 Accuracy 0.3113\n",
            "Epoch 4 Batch 650 Loss 4.0479 Accuracy 0.3116\n",
            "Epoch 4 Batch 700 Loss 4.0438 Accuracy 0.3123\n",
            "Epoch 4 Batch 750 Loss 4.0405 Accuracy 0.3128\n",
            "Epoch 4 Batch 800 Loss 4.0380 Accuracy 0.3131\n",
            "Epoch 4 Loss 4.0387 Accuracy 0.3130\n",
            "Time taken for 1 epoch: 104.05 secs\n",
            "\n",
            "Epoch 5 Batch 0 Loss 4.1006 Accuracy 0.3133\n",
            "Epoch 5 Batch 50 Loss 3.9026 Accuracy 0.3239\n",
            "Epoch 5 Batch 100 Loss 3.8947 Accuracy 0.3254\n",
            "Epoch 5 Batch 150 Loss 3.8991 Accuracy 0.3262\n",
            "Epoch 5 Batch 200 Loss 3.8975 Accuracy 0.3260\n",
            "Epoch 5 Batch 250 Loss 3.8917 Accuracy 0.3268\n",
            "Epoch 5 Batch 300 Loss 3.8912 Accuracy 0.3267\n",
            "Epoch 5 Batch 350 Loss 3.8829 Accuracy 0.3274\n",
            "Epoch 5 Batch 400 Loss 3.8811 Accuracy 0.3277\n",
            "Epoch 5 Batch 450 Loss 3.8796 Accuracy 0.3277\n",
            "Epoch 5 Batch 500 Loss 3.8759 Accuracy 0.3281\n",
            "Epoch 5 Batch 550 Loss 3.8721 Accuracy 0.3286\n",
            "Epoch 5 Batch 600 Loss 3.8698 Accuracy 0.3289\n",
            "Epoch 5 Batch 650 Loss 3.8695 Accuracy 0.3289\n",
            "Epoch 5 Batch 700 Loss 3.8697 Accuracy 0.3289\n",
            "Epoch 5 Batch 750 Loss 3.8666 Accuracy 0.3292\n",
            "Epoch 5 Batch 800 Loss 3.8643 Accuracy 0.3296\n",
            "Saving checkpoint for epoch 5 at ./checkpoints/train/ckpt-5\n",
            "Epoch 5 Loss 3.8643 Accuracy 0.3295\n",
            "Time taken for 1 epoch: 103.81 secs\n",
            "\n",
            "Epoch 6 Batch 0 Loss 3.8236 Accuracy 0.3465\n",
            "Epoch 6 Batch 50 Loss 3.7521 Accuracy 0.3392\n",
            "Epoch 6 Batch 100 Loss 3.7546 Accuracy 0.3392\n",
            "Epoch 6 Batch 150 Loss 3.7435 Accuracy 0.3394\n",
            "Epoch 6 Batch 200 Loss 3.7390 Accuracy 0.3400\n",
            "Epoch 6 Batch 250 Loss 3.7376 Accuracy 0.3399\n",
            "Epoch 6 Batch 300 Loss 3.7319 Accuracy 0.3402\n",
            "Epoch 6 Batch 350 Loss 3.7289 Accuracy 0.3407\n",
            "Epoch 6 Batch 400 Loss 3.7247 Accuracy 0.3414\n",
            "Epoch 6 Batch 450 Loss 3.7225 Accuracy 0.3416\n",
            "Epoch 6 Batch 500 Loss 3.7217 Accuracy 0.3416\n",
            "Epoch 6 Batch 550 Loss 3.7213 Accuracy 0.3418\n",
            "Epoch 6 Batch 600 Loss 3.7173 Accuracy 0.3421\n",
            "Epoch 6 Batch 650 Loss 3.7160 Accuracy 0.3425\n",
            "Epoch 6 Batch 700 Loss 3.7143 Accuracy 0.3427\n",
            "Epoch 6 Batch 750 Loss 3.7123 Accuracy 0.3432\n",
            "Epoch 6 Batch 800 Loss 3.7139 Accuracy 0.3431\n",
            "Epoch 6 Loss 3.7141 Accuracy 0.3431\n",
            "Time taken for 1 epoch: 102.74 secs\n",
            "\n",
            "Epoch 7 Batch 0 Loss 3.5440 Accuracy 0.3624\n",
            "Epoch 7 Batch 50 Loss 3.6148 Accuracy 0.3502\n",
            "Epoch 7 Batch 100 Loss 3.5997 Accuracy 0.3527\n",
            "Epoch 7 Batch 150 Loss 3.5861 Accuracy 0.3544\n",
            "Epoch 7 Batch 200 Loss 3.5896 Accuracy 0.3540\n",
            "Epoch 7 Batch 250 Loss 3.5890 Accuracy 0.3543\n",
            "Epoch 7 Batch 300 Loss 3.5896 Accuracy 0.3542\n",
            "Epoch 7 Batch 350 Loss 3.5891 Accuracy 0.3543\n",
            "Epoch 7 Batch 400 Loss 3.5872 Accuracy 0.3544\n",
            "Epoch 7 Batch 450 Loss 3.5851 Accuracy 0.3546\n",
            "Epoch 7 Batch 500 Loss 3.5845 Accuracy 0.3549\n",
            "Epoch 7 Batch 550 Loss 3.5830 Accuracy 0.3552\n",
            "Epoch 7 Batch 600 Loss 3.5822 Accuracy 0.3553\n",
            "Epoch 7 Batch 650 Loss 3.5818 Accuracy 0.3553\n",
            "Epoch 7 Batch 700 Loss 3.5808 Accuracy 0.3556\n",
            "Epoch 7 Batch 750 Loss 3.5790 Accuracy 0.3561\n",
            "Epoch 7 Batch 800 Loss 3.5759 Accuracy 0.3567\n",
            "Epoch 7 Loss 3.5754 Accuracy 0.3568\n",
            "Time taken for 1 epoch: 102.49 secs\n",
            "\n",
            "Epoch 8 Batch 0 Loss 3.4574 Accuracy 0.3680\n",
            "Epoch 8 Batch 50 Loss 3.4037 Accuracy 0.3763\n",
            "Epoch 8 Batch 100 Loss 3.4208 Accuracy 0.3740\n",
            "Epoch 8 Batch 150 Loss 3.4215 Accuracy 0.3737\n",
            "Epoch 8 Batch 200 Loss 3.4222 Accuracy 0.3739\n",
            "Epoch 8 Batch 250 Loss 3.4219 Accuracy 0.3739\n",
            "Epoch 8 Batch 300 Loss 3.4162 Accuracy 0.3749\n",
            "Epoch 8 Batch 350 Loss 3.4097 Accuracy 0.3759\n",
            "Epoch 8 Batch 400 Loss 3.4031 Accuracy 0.3769\n",
            "Epoch 8 Batch 450 Loss 3.3998 Accuracy 0.3772\n",
            "Epoch 8 Batch 500 Loss 3.3971 Accuracy 0.3778\n",
            "Epoch 8 Batch 550 Loss 3.3919 Accuracy 0.3787\n",
            "Epoch 8 Batch 600 Loss 3.3881 Accuracy 0.3795\n",
            "Epoch 8 Batch 650 Loss 3.3872 Accuracy 0.3798\n",
            "Epoch 8 Batch 700 Loss 3.3845 Accuracy 0.3802\n",
            "Epoch 8 Batch 750 Loss 3.3794 Accuracy 0.3811\n",
            "Epoch 8 Batch 800 Loss 3.3758 Accuracy 0.3817\n",
            "Epoch 8 Loss 3.3743 Accuracy 0.3819\n",
            "Time taken for 1 epoch: 102.12 secs\n",
            "\n",
            "Epoch 9 Batch 0 Loss 3.1258 Accuracy 0.4286\n",
            "Epoch 9 Batch 50 Loss 3.1904 Accuracy 0.4055\n",
            "Epoch 9 Batch 100 Loss 3.1849 Accuracy 0.4057\n",
            "Epoch 9 Batch 150 Loss 3.1825 Accuracy 0.4059\n",
            "Epoch 9 Batch 200 Loss 3.1759 Accuracy 0.4071\n",
            "Epoch 9 Batch 250 Loss 3.1795 Accuracy 0.4066\n",
            "Epoch 9 Batch 300 Loss 3.1754 Accuracy 0.4076\n",
            "Epoch 9 Batch 350 Loss 3.1687 Accuracy 0.4087\n",
            "Epoch 9 Batch 400 Loss 3.1642 Accuracy 0.4095\n",
            "Epoch 9 Batch 450 Loss 3.1604 Accuracy 0.4103\n",
            "Epoch 9 Batch 500 Loss 3.1596 Accuracy 0.4104\n",
            "Epoch 9 Batch 550 Loss 3.1562 Accuracy 0.4110\n",
            "Epoch 9 Batch 600 Loss 3.1511 Accuracy 0.4117\n",
            "Epoch 9 Batch 650 Loss 3.1473 Accuracy 0.4123\n",
            "Epoch 9 Batch 700 Loss 3.1431 Accuracy 0.4130\n",
            "Epoch 9 Batch 750 Loss 3.1407 Accuracy 0.4135\n",
            "Epoch 9 Batch 800 Loss 3.1373 Accuracy 0.4141\n",
            "Epoch 9 Loss 3.1367 Accuracy 0.4142\n",
            "Time taken for 1 epoch: 102.34 secs\n",
            "\n",
            "Epoch 10 Batch 0 Loss 3.0030 Accuracy 0.4300\n",
            "Epoch 10 Batch 50 Loss 2.9354 Accuracy 0.4440\n",
            "Epoch 10 Batch 100 Loss 2.9437 Accuracy 0.4425\n",
            "Epoch 10 Batch 150 Loss 2.9405 Accuracy 0.4422\n",
            "Epoch 10 Batch 200 Loss 2.9453 Accuracy 0.4411\n",
            "Epoch 10 Batch 250 Loss 2.9396 Accuracy 0.4416\n",
            "Epoch 10 Batch 300 Loss 2.9321 Accuracy 0.4431\n",
            "Epoch 10 Batch 350 Loss 2.9325 Accuracy 0.4431\n",
            "Epoch 10 Batch 400 Loss 2.9288 Accuracy 0.4437\n",
            "Epoch 10 Batch 450 Loss 2.9247 Accuracy 0.4446\n",
            "Epoch 10 Batch 500 Loss 2.9192 Accuracy 0.4457\n",
            "Epoch 10 Batch 550 Loss 2.9175 Accuracy 0.4462\n",
            "Epoch 10 Batch 600 Loss 2.9129 Accuracy 0.4470\n",
            "Epoch 10 Batch 650 Loss 2.9134 Accuracy 0.4469\n",
            "Epoch 10 Batch 700 Loss 2.9096 Accuracy 0.4476\n",
            "Epoch 10 Batch 750 Loss 2.9076 Accuracy 0.4481\n",
            "Epoch 10 Batch 800 Loss 2.9049 Accuracy 0.4488\n",
            "Saving checkpoint for epoch 10 at ./checkpoints/train/ckpt-6\n",
            "Epoch 10 Loss 2.9039 Accuracy 0.4490\n",
            "Time taken for 1 epoch: 103.69 secs\n",
            "\n",
            "Epoch 11 Batch 0 Loss 2.6288 Accuracy 0.4938\n",
            "Epoch 11 Batch 50 Loss 2.7253 Accuracy 0.4716\n",
            "Epoch 11 Batch 100 Loss 2.7225 Accuracy 0.4726\n",
            "Epoch 11 Batch 150 Loss 2.7339 Accuracy 0.4718\n",
            "Epoch 11 Batch 200 Loss 2.7260 Accuracy 0.4731\n",
            "Epoch 11 Batch 250 Loss 2.7229 Accuracy 0.4739\n",
            "Epoch 11 Batch 300 Loss 2.7257 Accuracy 0.4734\n",
            "Epoch 11 Batch 350 Loss 2.7258 Accuracy 0.4736\n",
            "Epoch 11 Batch 400 Loss 2.7201 Accuracy 0.4749\n",
            "Epoch 11 Batch 450 Loss 2.7169 Accuracy 0.4755\n",
            "Epoch 11 Batch 500 Loss 2.7142 Accuracy 0.4762\n",
            "Epoch 11 Batch 550 Loss 2.7129 Accuracy 0.4768\n",
            "Epoch 11 Batch 600 Loss 2.7108 Accuracy 0.4774\n",
            "Epoch 11 Batch 650 Loss 2.7086 Accuracy 0.4780\n",
            "Epoch 11 Batch 700 Loss 2.7078 Accuracy 0.4783\n",
            "Epoch 11 Batch 750 Loss 2.7080 Accuracy 0.4784\n",
            "Epoch 11 Batch 800 Loss 2.7047 Accuracy 0.4789\n",
            "Epoch 11 Loss 2.7035 Accuracy 0.4792\n",
            "Time taken for 1 epoch: 102.58 secs\n",
            "\n",
            "Epoch 12 Batch 0 Loss 2.5250 Accuracy 0.5100\n",
            "Epoch 12 Batch 50 Loss 2.5425 Accuracy 0.5033\n",
            "Epoch 12 Batch 100 Loss 2.5452 Accuracy 0.5027\n",
            "Epoch 12 Batch 150 Loss 2.5516 Accuracy 0.5011\n",
            "Epoch 12 Batch 200 Loss 2.5483 Accuracy 0.5021\n",
            "Epoch 12 Batch 250 Loss 2.5483 Accuracy 0.5022\n",
            "Epoch 12 Batch 300 Loss 2.5485 Accuracy 0.5020\n",
            "Epoch 12 Batch 350 Loss 2.5505 Accuracy 0.5017\n",
            "Epoch 12 Batch 400 Loss 2.5480 Accuracy 0.5021\n",
            "Epoch 12 Batch 450 Loss 2.5422 Accuracy 0.5031\n",
            "Epoch 12 Batch 500 Loss 2.5390 Accuracy 0.5039\n",
            "Epoch 12 Batch 550 Loss 2.5385 Accuracy 0.5040\n",
            "Epoch 12 Batch 600 Loss 2.5385 Accuracy 0.5041\n",
            "Epoch 12 Batch 650 Loss 2.5382 Accuracy 0.5044\n",
            "Epoch 12 Batch 700 Loss 2.5372 Accuracy 0.5048\n",
            "Epoch 12 Batch 750 Loss 2.5384 Accuracy 0.5047\n",
            "Epoch 12 Batch 800 Loss 2.5368 Accuracy 0.5052\n",
            "Epoch 12 Loss 2.5357 Accuracy 0.5053\n",
            "Time taken for 1 epoch: 102.39 secs\n",
            "\n",
            "Epoch 13 Batch 0 Loss 2.3557 Accuracy 0.5307\n",
            "Epoch 13 Batch 50 Loss 2.3678 Accuracy 0.5284\n",
            "Epoch 13 Batch 100 Loss 2.3802 Accuracy 0.5274\n",
            "Epoch 13 Batch 150 Loss 2.3939 Accuracy 0.5251\n",
            "Epoch 13 Batch 200 Loss 2.3949 Accuracy 0.5255\n",
            "Epoch 13 Batch 250 Loss 2.3977 Accuracy 0.5251\n",
            "Epoch 13 Batch 300 Loss 2.3968 Accuracy 0.5257\n",
            "Epoch 13 Batch 350 Loss 2.3922 Accuracy 0.5265\n",
            "Epoch 13 Batch 400 Loss 2.3928 Accuracy 0.5267\n",
            "Epoch 13 Batch 450 Loss 2.3920 Accuracy 0.5269\n",
            "Epoch 13 Batch 500 Loss 2.3923 Accuracy 0.5270\n",
            "Epoch 13 Batch 550 Loss 2.3932 Accuracy 0.5271\n",
            "Epoch 13 Batch 600 Loss 2.3912 Accuracy 0.5274\n",
            "Epoch 13 Batch 650 Loss 2.3897 Accuracy 0.5278\n",
            "Epoch 13 Batch 700 Loss 2.3892 Accuracy 0.5280\n",
            "Epoch 13 Batch 750 Loss 2.3901 Accuracy 0.5280\n",
            "Epoch 13 Batch 800 Loss 2.3934 Accuracy 0.5277\n",
            "Epoch 13 Loss 2.3935 Accuracy 0.5277\n",
            "Time taken for 1 epoch: 102.50 secs\n",
            "\n",
            "Epoch 14 Batch 0 Loss 2.2756 Accuracy 0.5414\n",
            "Epoch 14 Batch 50 Loss 2.2841 Accuracy 0.5434\n",
            "Epoch 14 Batch 100 Loss 2.2768 Accuracy 0.5447\n",
            "Epoch 14 Batch 150 Loss 2.2730 Accuracy 0.5455\n",
            "Epoch 14 Batch 200 Loss 2.2670 Accuracy 0.5461\n",
            "Epoch 14 Batch 250 Loss 2.2725 Accuracy 0.5449\n",
            "Epoch 14 Batch 300 Loss 2.2721 Accuracy 0.5448\n",
            "Epoch 14 Batch 350 Loss 2.2700 Accuracy 0.5450\n",
            "Epoch 14 Batch 400 Loss 2.2712 Accuracy 0.5453\n",
            "Epoch 14 Batch 450 Loss 2.2729 Accuracy 0.5450\n",
            "Epoch 14 Batch 500 Loss 2.2714 Accuracy 0.5455\n",
            "Epoch 14 Batch 550 Loss 2.2702 Accuracy 0.5458\n",
            "Epoch 14 Batch 600 Loss 2.2715 Accuracy 0.5458\n",
            "Epoch 14 Batch 650 Loss 2.2724 Accuracy 0.5459\n",
            "Epoch 14 Batch 700 Loss 2.2736 Accuracy 0.5457\n",
            "Epoch 14 Batch 750 Loss 2.2738 Accuracy 0.5458\n",
            "Epoch 14 Batch 800 Loss 2.2740 Accuracy 0.5460\n",
            "Epoch 14 Loss 2.2735 Accuracy 0.5461\n",
            "Time taken for 1 epoch: 102.55 secs\n",
            "\n",
            "Epoch 15 Batch 0 Loss 2.2524 Accuracy 0.5383\n",
            "Epoch 15 Batch 50 Loss 2.1982 Accuracy 0.5561\n",
            "Epoch 15 Batch 100 Loss 2.1679 Accuracy 0.5627\n",
            "Epoch 15 Batch 150 Loss 2.1735 Accuracy 0.5623\n",
            "Epoch 15 Batch 200 Loss 2.1676 Accuracy 0.5624\n",
            "Epoch 15 Batch 250 Loss 2.1714 Accuracy 0.5616\n",
            "Epoch 15 Batch 300 Loss 2.1659 Accuracy 0.5622\n",
            "Epoch 15 Batch 350 Loss 2.1653 Accuracy 0.5623\n",
            "Epoch 15 Batch 400 Loss 2.1633 Accuracy 0.5624\n",
            "Epoch 15 Batch 450 Loss 2.1636 Accuracy 0.5623\n",
            "Epoch 15 Batch 500 Loss 2.1625 Accuracy 0.5628\n",
            "Epoch 15 Batch 550 Loss 2.1625 Accuracy 0.5628\n",
            "Epoch 15 Batch 600 Loss 2.1640 Accuracy 0.5628\n",
            "Epoch 15 Batch 650 Loss 2.1683 Accuracy 0.5623\n",
            "Epoch 15 Batch 700 Loss 2.1699 Accuracy 0.5621\n",
            "Epoch 15 Batch 750 Loss 2.1716 Accuracy 0.5620\n",
            "Epoch 15 Batch 800 Loss 2.1721 Accuracy 0.5620\n",
            "Saving checkpoint for epoch 15 at ./checkpoints/train/ckpt-7\n",
            "Epoch 15 Loss 2.1720 Accuracy 0.5620\n",
            "Time taken for 1 epoch: 103.79 secs\n",
            "\n",
            "Epoch 16 Batch 0 Loss 2.0151 Accuracy 0.5873\n",
            "Epoch 16 Batch 50 Loss 2.0563 Accuracy 0.5788\n",
            "Epoch 16 Batch 100 Loss 2.0520 Accuracy 0.5798\n",
            "Epoch 16 Batch 150 Loss 2.0665 Accuracy 0.5771\n",
            "Epoch 16 Batch 200 Loss 2.0711 Accuracy 0.5757\n",
            "Epoch 16 Batch 250 Loss 2.0639 Accuracy 0.5771\n",
            "Epoch 16 Batch 300 Loss 2.0690 Accuracy 0.5762\n",
            "Epoch 16 Batch 350 Loss 2.0662 Accuracy 0.5768\n",
            "Epoch 16 Batch 400 Loss 2.0655 Accuracy 0.5770\n",
            "Epoch 16 Batch 450 Loss 2.0711 Accuracy 0.5760\n",
            "Epoch 16 Batch 500 Loss 2.0719 Accuracy 0.5763\n",
            "Epoch 16 Batch 550 Loss 2.0739 Accuracy 0.5762\n",
            "Epoch 16 Batch 600 Loss 2.0740 Accuracy 0.5764\n",
            "Epoch 16 Batch 650 Loss 2.0742 Accuracy 0.5764\n",
            "Epoch 16 Batch 700 Loss 2.0757 Accuracy 0.5764\n",
            "Epoch 16 Batch 750 Loss 2.0776 Accuracy 0.5761\n",
            "Epoch 16 Batch 800 Loss 2.0795 Accuracy 0.5760\n",
            "Epoch 16 Loss 2.0797 Accuracy 0.5760\n",
            "Time taken for 1 epoch: 102.95 secs\n",
            "\n",
            "Epoch 17 Batch 0 Loss 2.0498 Accuracy 0.5751\n",
            "Epoch 17 Batch 50 Loss 1.9923 Accuracy 0.5886\n",
            "Epoch 17 Batch 100 Loss 1.9860 Accuracy 0.5895\n",
            "Epoch 17 Batch 150 Loss 1.9877 Accuracy 0.5901\n",
            "Epoch 17 Batch 200 Loss 1.9834 Accuracy 0.5908\n",
            "Epoch 17 Batch 250 Loss 1.9881 Accuracy 0.5901\n",
            "Epoch 17 Batch 300 Loss 1.9864 Accuracy 0.5903\n",
            "Epoch 17 Batch 350 Loss 1.9905 Accuracy 0.5897\n",
            "Epoch 17 Batch 400 Loss 1.9910 Accuracy 0.5897\n",
            "Epoch 17 Batch 450 Loss 1.9917 Accuracy 0.5898\n",
            "Epoch 17 Batch 500 Loss 1.9914 Accuracy 0.5899\n",
            "Epoch 17 Batch 550 Loss 1.9918 Accuracy 0.5900\n",
            "Epoch 17 Batch 600 Loss 1.9915 Accuracy 0.5901\n",
            "Epoch 17 Batch 650 Loss 1.9957 Accuracy 0.5896\n",
            "Epoch 17 Batch 700 Loss 1.9987 Accuracy 0.5893\n",
            "Epoch 17 Batch 750 Loss 2.0005 Accuracy 0.5890\n",
            "Epoch 17 Batch 800 Loss 2.0026 Accuracy 0.5888\n",
            "Epoch 17 Loss 2.0021 Accuracy 0.5889\n",
            "Time taken for 1 epoch: 102.91 secs\n",
            "\n",
            "Epoch 18 Batch 0 Loss 1.9695 Accuracy 0.5948\n",
            "Epoch 18 Batch 50 Loss 1.8750 Accuracy 0.6080\n",
            "Epoch 18 Batch 100 Loss 1.8952 Accuracy 0.6047\n",
            "Epoch 18 Batch 150 Loss 1.8958 Accuracy 0.6047\n",
            "Epoch 18 Batch 200 Loss 1.8973 Accuracy 0.6047\n",
            "Epoch 18 Batch 250 Loss 1.9030 Accuracy 0.6034\n",
            "Epoch 18 Batch 300 Loss 1.9120 Accuracy 0.6016\n",
            "Epoch 18 Batch 350 Loss 1.9139 Accuracy 0.6016\n",
            "Epoch 18 Batch 400 Loss 1.9153 Accuracy 0.6017\n",
            "Epoch 18 Batch 450 Loss 1.9196 Accuracy 0.6011\n",
            "Epoch 18 Batch 500 Loss 1.9207 Accuracy 0.6010\n",
            "Epoch 18 Batch 550 Loss 1.9230 Accuracy 0.6008\n",
            "Epoch 18 Batch 600 Loss 1.9243 Accuracy 0.6007\n",
            "Epoch 18 Batch 650 Loss 1.9258 Accuracy 0.6004\n",
            "Epoch 18 Batch 700 Loss 1.9287 Accuracy 0.6002\n",
            "Epoch 18 Batch 750 Loss 1.9310 Accuracy 0.5999\n",
            "Epoch 18 Batch 800 Loss 1.9330 Accuracy 0.5996\n",
            "Epoch 18 Loss 1.9355 Accuracy 0.5992\n",
            "Time taken for 1 epoch: 102.41 secs\n",
            "\n",
            "Epoch 19 Batch 0 Loss 1.8616 Accuracy 0.6149\n",
            "Epoch 19 Batch 50 Loss 1.8168 Accuracy 0.6178\n",
            "Epoch 19 Batch 100 Loss 1.8237 Accuracy 0.6164\n",
            "Epoch 19 Batch 150 Loss 1.8366 Accuracy 0.6141\n",
            "Epoch 19 Batch 200 Loss 1.8422 Accuracy 0.6130\n",
            "Epoch 19 Batch 250 Loss 1.8491 Accuracy 0.6119\n",
            "Epoch 19 Batch 300 Loss 1.8507 Accuracy 0.6117\n",
            "Epoch 19 Batch 350 Loss 1.8494 Accuracy 0.6122\n",
            "Epoch 19 Batch 400 Loss 1.8526 Accuracy 0.6117\n",
            "Epoch 19 Batch 450 Loss 1.8551 Accuracy 0.6113\n",
            "Epoch 19 Batch 500 Loss 1.8550 Accuracy 0.6115\n",
            "Epoch 19 Batch 550 Loss 1.8554 Accuracy 0.6118\n",
            "Epoch 19 Batch 600 Loss 1.8599 Accuracy 0.6112\n",
            "Epoch 19 Batch 650 Loss 1.8617 Accuracy 0.6111\n",
            "Epoch 19 Batch 700 Loss 1.8640 Accuracy 0.6107\n",
            "Epoch 19 Batch 750 Loss 1.8664 Accuracy 0.6104\n",
            "Epoch 19 Batch 800 Loss 1.8717 Accuracy 0.6096\n",
            "Epoch 19 Loss 1.8718 Accuracy 0.6096\n",
            "Time taken for 1 epoch: 103.36 secs\n",
            "\n",
            "Epoch 20 Batch 0 Loss 1.6035 Accuracy 0.6611\n",
            "Epoch 20 Batch 50 Loss 1.7561 Accuracy 0.6275\n",
            "Epoch 20 Batch 100 Loss 1.7756 Accuracy 0.6234\n",
            "Epoch 20 Batch 150 Loss 1.7803 Accuracy 0.6234\n",
            "Epoch 20 Batch 200 Loss 1.7781 Accuracy 0.6241\n",
            "Epoch 20 Batch 250 Loss 1.7819 Accuracy 0.6229\n",
            "Epoch 20 Batch 300 Loss 1.7855 Accuracy 0.6220\n",
            "Epoch 20 Batch 350 Loss 1.7897 Accuracy 0.6214\n",
            "Epoch 20 Batch 400 Loss 1.7952 Accuracy 0.6205\n",
            "Epoch 20 Batch 450 Loss 1.8016 Accuracy 0.6194\n",
            "Epoch 20 Batch 500 Loss 1.8031 Accuracy 0.6192\n",
            "Epoch 20 Batch 550 Loss 1.8067 Accuracy 0.6189\n",
            "Epoch 20 Batch 600 Loss 1.8093 Accuracy 0.6184\n",
            "Epoch 20 Batch 650 Loss 1.8112 Accuracy 0.6182\n",
            "Epoch 20 Batch 700 Loss 1.8148 Accuracy 0.6177\n",
            "Epoch 20 Batch 750 Loss 1.8164 Accuracy 0.6176\n",
            "Epoch 20 Batch 800 Loss 1.8195 Accuracy 0.6173\n",
            "Saving checkpoint for epoch 20 at ./checkpoints/train/ckpt-8\n",
            "Epoch 20 Loss 1.8205 Accuracy 0.6171\n",
            "Time taken for 1 epoch: 103.64 secs\n",
            "\n"
          ]
        }
      ],
      "source": [
        "for epoch in range(EPOCHS):\n",
        "  start = time.time()\n",
        "\n",
        "  train_loss.reset_state()\n",
        "  train_accuracy.reset_state()\n",
        "\n",
        "  # inp -> portuguese, tar -> english\n",
        "  for (batch, (inp, tar)) in enumerate(train_batches):\n",
        "    train_step(inp, tar)\n",
        "\n",
        "    if batch % 50 == 0:\n",
        "      print(f'Epoch {epoch + 1} Batch {batch} Loss {train_loss.result():.4f} Accuracy {train_accuracy.result():.4f}')\n",
        "\n",
        "  if (epoch + 1) % 5 == 0:\n",
        "    ckpt_save_path = ckpt_manager.save()\n",
        "    print(f'Saving checkpoint for epoch {epoch+1} at {ckpt_save_path}')\n",
        "\n",
        "  print(f'Epoch {epoch + 1} Loss {train_loss.result():.4f} Accuracy {train_accuracy.result():.4f}')\n",
        "\n",
        "  print(f'Time taken for 1 epoch: {time.time() - start:.2f} secs\\n')"
      ]
    },
    {
      "cell_type": "markdown",
      "metadata": {},
      "source": [
        "# Inferência"
      ]
    },
    {
      "cell_type": "code",
      "execution_count": 303,
      "metadata": {
        "id": "8RM5kpLvnCof"
      },
      "outputs": [],
      "source": [
        "class Translator(tf.Module):\n",
        "  def __init__(self, tokenizers, transformer):\n",
        "    self.tokenizers = tokenizers\n",
        "    self.transformer = transformer\n",
        "\n",
        "  def __call__(self, sentence, max_length=100):\n",
        "    # input sentence is portuguese, hence adding the start and end token\n",
        "    assert isinstance(sentence, tf.Tensor)\n",
        "    if len(sentence.shape) == 0:\n",
        "      sentence = sentence[tf.newaxis]\n",
        "\n",
        "    sentence = self.tokenizers.pt.tokenize(sentence).to_tensor()\n",
        "\n",
        "    encoder_input = sentence\n",
        "\n",
        "    # as the target is english, the first token to the transformer should be the\n",
        "    # english start token.\n",
        "    start_end = self.tokenizers.en.tokenize([''])[0]\n",
        "    start = start_end[0][tf.newaxis]\n",
        "    end = start_end[1][tf.newaxis]\n",
        "\n",
        "    # `tf.TensorArray` is required here (instead of a python list) so that the\n",
        "    # dynamic-loop can be traced by `tf.function`.\n",
        "    output_array = tf.TensorArray(dtype=tf.int64, size=0, dynamic_size=True)\n",
        "    output_array = output_array.write(0, start)\n",
        "\n",
        "    for i in tf.range(max_length):\n",
        "      output = tf.transpose(output_array.stack())\n",
        "      predictions, _ = self.transformer([encoder_input, output], training=False)\n",
        "\n",
        "      # select the last token from the seq_len dimension\n",
        "      predictions = predictions[:, -1:, :]  # (batch_size, 1, vocab_size)\n",
        "\n",
        "      predicted_id = tf.argmax(predictions, axis=-1)\n",
        "\n",
        "      # concatentate the predicted_id to the output which is given to the decoder\n",
        "      # as its input.\n",
        "      output_array = output_array.write(i+1, predicted_id[0])\n",
        "\n",
        "      if predicted_id == end:\n",
        "        break\n",
        "\n",
        "    output = tf.transpose(output_array.stack())\n",
        "    # output.shape (1, tokens)\n",
        "    text = tokenizers.en.detokenize(output)[0]  # shape: ()\n",
        "\n",
        "    tokens = tokenizers.en.lookup(output)[0]\n",
        "\n",
        "    # `tf.function` prevents us from using the attention_weights that were\n",
        "    # calculated on the last iteration of the loop. So recalculate them outside\n",
        "    # the loop.\n",
        "    _, attention_weights = self.transformer([encoder_input, output[:,:-1]], training=False)\n",
        "\n",
        "    return text, tokens, attention_weights"
      ]
    },
    {
      "cell_type": "code",
      "execution_count": 304,
      "metadata": {
        "id": "wbPNim8goyCn"
      },
      "outputs": [],
      "source": [
        "translator = Translator(tokenizers, transformer)"
      ]
    },
    {
      "cell_type": "code",
      "execution_count": 305,
      "metadata": {
        "id": "ARzdPEAEpO5F"
      },
      "outputs": [],
      "source": [
        "def print_translation(sentence, tokens, ground_truth):\n",
        "  print(f'{\"Input:\":15s}: {sentence}')\n",
        "  print(f'{\"Prediction\":15s}: {tokens.numpy().decode(\"utf-8\")}')\n",
        "  print(f'{\"Ground truth\":15s}: {ground_truth}')"
      ]
    },
    {
      "cell_type": "markdown",
      "metadata": {},
      "source": [
        "# Parcelas de atenção"
      ]
    },
    {
      "cell_type": "code",
      "execution_count": 306,
      "metadata": {
        "colab": {
          "base_uri": "https://localhost:8080/"
        },
        "id": "0b9Ke66BpQ1H",
        "outputId": "0968208d-dec9-4216-97c3-de6b55615e0a"
      },
      "outputs": [
        {
          "name": "stdout",
          "output_type": "stream",
          "text": [
            "Input:         : este é um problema que temos que resolver.\n",
            "Prediction     : this is a problem that we have to solve .\n",
            "Ground truth   : this is a problem we have to solve .\n"
          ]
        }
      ],
      "source": [
        "sentence = \"este é um problema que temos que resolver.\"\n",
        "ground_truth = \"this is a problem we have to solve .\"\n",
        "\n",
        "translated_text, translated_tokens, attention_weights = translator(\n",
        "    tf.constant(sentence))\n",
        "print_translation(sentence, translated_text, ground_truth)"
      ]
    },
    {
      "cell_type": "code",
      "execution_count": 307,
      "metadata": {
        "colab": {
          "base_uri": "https://localhost:8080/"
        },
        "id": "_-1xaGM5pS7P",
        "outputId": "4e359648-051a-4eb3-d3ab-c4ec446e0653"
      },
      "outputs": [
        {
          "name": "stdout",
          "output_type": "stream",
          "text": [
            "Input:         : os meus vizinhos ouviram sobre esta ideia.\n",
            "Prediction     : my neighbors heard about this idea .\n",
            "Ground truth   : and my neighboring homes heard about this idea .\n"
          ]
        }
      ],
      "source": [
        "sentence = \"os meus vizinhos ouviram sobre esta ideia.\"\n",
        "ground_truth = \"and my neighboring homes heard about this idea .\"\n",
        "\n",
        "translated_text, translated_tokens, attention_weights = translator(\n",
        "    tf.constant(sentence))\n",
        "print_translation(sentence, translated_text, ground_truth)"
      ]
    },
    {
      "cell_type": "code",
      "execution_count": 308,
      "metadata": {
        "colab": {
          "base_uri": "https://localhost:8080/"
        },
        "id": "YOWxby3vpqc5",
        "outputId": "566633d0-d764-4213-adeb-8949ce127e38"
      },
      "outputs": [
        {
          "name": "stdout",
          "output_type": "stream",
          "text": [
            "Input:         : vou então muito rapidamente partilhar convosco algumas histórias de algumas coisas mágicas que aconteceram.\n",
            "Prediction     : so i ' ll go very quickly to share with you some of the magic stories that happened to happen .\n",
            "Ground truth   : so i 'll just share with you some stories very quickly of some magical things that have happened .\n"
          ]
        }
      ],
      "source": [
        "sentence = \"vou então muito rapidamente partilhar convosco algumas histórias de algumas coisas mágicas que aconteceram.\"\n",
        "ground_truth = \"so i \\'ll just share with you some stories very quickly of some magical things that have happened .\"\n",
        "\n",
        "translated_text, translated_tokens, attention_weights = translator(\n",
        "    tf.constant(sentence))\n",
        "print_translation(sentence, translated_text, ground_truth)"
      ]
    },
    {
      "cell_type": "code",
      "execution_count": 309,
      "metadata": {
        "colab": {
          "base_uri": "https://localhost:8080/"
        },
        "id": "updnIo5s6gE_",
        "outputId": "bdb0e720-79a7-4b60-86d6-0d8dbdd0487c"
      },
      "outputs": [
        {
          "name": "stdout",
          "output_type": "stream",
          "text": [
            "Input:         : este é o primeiro livro que eu fiz.\n",
            "Prediction     : this is the first book i did .\n",
            "Ground truth   : this is the first book i've ever done.\n"
          ]
        }
      ],
      "source": [
        "sentence = \"este é o primeiro livro que eu fiz.\"\n",
        "ground_truth = \"this is the first book i've ever done.\"\n",
        "\n",
        "translated_text, translated_tokens, attention_weights = translator(\n",
        "    tf.constant(sentence))\n",
        "print_translation(sentence, translated_text, ground_truth)"
      ]
    },
    {
      "cell_type": "code",
      "execution_count": 310,
      "metadata": {
        "id": "nE-e0hjj6mWM"
      },
      "outputs": [],
      "source": [
        "def plot_attention_head(in_tokens, translated_tokens, attention):\n",
        "  # The plot is of the attention when a token was generated.\n",
        "  # The model didn't generate `<START>` in the output. Skip it.\n",
        "  translated_tokens = translated_tokens[1:]\n",
        "\n",
        "  ax = plt.gca()\n",
        "  ax.matshow(attention)\n",
        "  ax.set_xticks(range(len(in_tokens)))\n",
        "  ax.set_yticks(range(len(translated_tokens)))\n",
        "\n",
        "  labels = [label.decode('utf-8') for label in in_tokens.numpy()]\n",
        "  ax.set_xticklabels(\n",
        "      labels, rotation=90)\n",
        "\n",
        "  labels = [label.decode('utf-8') for label in translated_tokens.numpy()]\n",
        "  ax.set_yticklabels(labels)"
      ]
    },
    {
      "cell_type": "code",
      "execution_count": 311,
      "metadata": {
        "colab": {
          "base_uri": "https://localhost:8080/"
        },
        "id": "a0ien2Rx6o48",
        "outputId": "8994d3bc-a36f-4a7b-b790-9d768959b029"
      },
      "outputs": [
        {
          "data": {
            "text/plain": [
              "TensorShape([9, 11])"
            ]
          },
          "execution_count": 311,
          "metadata": {},
          "output_type": "execute_result"
        }
      ],
      "source": [
        "head = 0\n",
        "# shape: (batch=1, num_heads, seq_len_q, seq_len_k)\n",
        "attention_heads = tf.squeeze(\n",
        "  attention_weights['decoder_layer4_block2'], 0)\n",
        "attention = attention_heads[head]\n",
        "attention.shape"
      ]
    },
    {
      "cell_type": "code",
      "execution_count": 312,
      "metadata": {
        "colab": {
          "base_uri": "https://localhost:8080/"
        },
        "id": "5vCwat6Y6qoh",
        "outputId": "0eda3002-0de2-4c80-fecc-8993c9394959"
      },
      "outputs": [
        {
          "data": {
            "text/plain": [
              "<tf.Tensor: shape=(11,), dtype=string, numpy=\n",
              "array([b'[START]', b'este', b'e', b'o', b'primeiro', b'livro', b'que',\n",
              "       b'eu', b'fiz', b'.', b'[END]'], dtype=object)>"
            ]
          },
          "execution_count": 312,
          "metadata": {},
          "output_type": "execute_result"
        }
      ],
      "source": [
        "in_tokens = tf.convert_to_tensor([sentence])\n",
        "in_tokens = tokenizers.pt.tokenize(in_tokens).to_tensor()\n",
        "in_tokens = tokenizers.pt.lookup(in_tokens)[0]\n",
        "in_tokens"
      ]
    },
    {
      "cell_type": "code",
      "execution_count": 313,
      "metadata": {
        "colab": {
          "base_uri": "https://localhost:8080/"
        },
        "id": "Bjsy31KP6sYB",
        "outputId": "32007ef0-656e-4071-d9b9-ecb99b4c1de0"
      },
      "outputs": [
        {
          "data": {
            "text/plain": [
              "<tf.Tensor: shape=(10,), dtype=string, numpy=\n",
              "array([b'[START]', b'this', b'is', b'the', b'first', b'book', b'i',\n",
              "       b'did', b'.', b'[END]'], dtype=object)>"
            ]
          },
          "execution_count": 313,
          "metadata": {},
          "output_type": "execute_result"
        }
      ],
      "source": [
        "translated_tokens"
      ]
    },
    {
      "cell_type": "code",
      "execution_count": 314,
      "metadata": {
        "colab": {
          "base_uri": "https://localhost:8080/",
          "height": 479
        },
        "id": "kLaNtEf76uDK",
        "outputId": "3ebcbc82-b149-4af5-a757-2ee48ab9d0c0"
      },
      "outputs": [
        {
          "data": {
            "image/png": "[encoded data removed]",
            "text/plain": [
              "<Figure size 640x480 with 1 Axes>"
            ]
          },
          "metadata": {},
          "output_type": "display_data"
        }
      ],
      "source": [
        "plot_attention_head(in_tokens, translated_tokens, attention)"
      ]
    },
    {
      "cell_type": "code",
      "execution_count": 315,
      "metadata": {
        "id": "fI41duCR6vga"
      },
      "outputs": [],
      "source": [
        "def plot_attention_weights(sentence, translated_tokens, attention_heads):\n",
        "  in_tokens = tf.convert_to_tensor([sentence])\n",
        "  in_tokens = tokenizers.pt.tokenize(in_tokens).to_tensor()\n",
        "  in_tokens = tokenizers.pt.lookup(in_tokens)[0]\n",
        "  in_tokens\n",
        "\n",
        "  fig = plt.figure(figsize=(16, 8))\n",
        "\n",
        "  for h, head in enumerate(attention_heads):\n",
        "    ax = fig.add_subplot(2, 4, h+1)\n",
        "\n",
        "    plot_attention_head(in_tokens, translated_tokens, head)\n",
        "\n",
        "    ax.set_xlabel(f'Head {h+1}')\n",
        "\n",
        "  plt.tight_layout()\n",
        "  plt.show()"
      ]
    },
    {
      "cell_type": "code",
      "execution_count": 316,
      "metadata": {
        "colab": {
          "base_uri": "https://localhost:8080/",
          "height": 399
        },
        "id": "P-DLVzK_6yHe",
        "outputId": "fee39711-2c3a-42c7-868b-b98e4c8e264f"
      },
      "outputs": [
        {
          "data": {
            "image/png": "[encoded data removed]",
            "text/plain": [
              "<Figure size 1600x800 with 8 Axes>"
            ]
          },
          "metadata": {},
          "output_type": "display_data"
        }
      ],
      "source": [
        "plot_attention_weights(sentence, translated_tokens,\n",
        "                       attention_weights['decoder_layer4_block2'][0])"
      ]
    },
    {
      "cell_type": "code",
      "execution_count": 317,
      "metadata": {
        "colab": {
          "base_uri": "https://localhost:8080/",
          "height": 420
        },
        "id": "JONncyj76zRo",
        "outputId": "46d8e05b-e778-4c89-dd00-391191226462"
      },
      "outputs": [
        {
          "name": "stdout",
          "output_type": "stream",
          "text": [
            "Input:         : Eu li sobre triceratops na enciclopédia.\n",
            "Prediction     : i read about transaction and i raised .\n",
            "Ground truth   : I read about triceratops in the encyclopedia.\n"
          ]
        },
        {
          "data": {
            "image/png": "[encoded data removed]",
            "text/plain": [
              "<Figure size 1600x800 with 8 Axes>"
            ]
          },
          "metadata": {},
          "output_type": "display_data"
        }
      ],
      "source": [
        "sentence = \"Eu li sobre triceratops na enciclopédia.\"\n",
        "ground_truth = \"I read about triceratops in the encyclopedia.\"\n",
        "\n",
        "translated_text, translated_tokens, attention_weights = translator(\n",
        "    tf.constant(sentence))\n",
        "print_translation(sentence, translated_text, ground_truth)\n",
        "\n",
        "plot_attention_weights(sentence, translated_tokens,\n",
        "                       attention_weights['decoder_layer4_block2'][0])"
      ]
    },
    {
      "cell_type": "markdown",
      "metadata": {},
      "source": [
        "# Exportar"
      ]
    },
    {
      "cell_type": "code",
      "execution_count": 318,
      "metadata": {
        "id": "XpcvZgIK60f9"
      },
      "outputs": [],
      "source": [
        "class ExportTranslator(tf.Module):\n",
        "    def __init__(self, translator):\n",
        "        super().__init__()\n",
        "        self.translator = translator\n",
        "\n",
        "    @tf.function(input_signature=[tf.TensorSpec(shape=[], dtype=tf.string)])\n",
        "    def __call__(self, sentence):\n",
        "        # Aqui, fixamos max_length = 100 internamente\n",
        "        result, tokens, attention_weights = self.translator(sentence, 100)\n",
        "        return result\n"
      ]
    },
    {
      "cell_type": "code",
      "execution_count": 319,
      "metadata": {
        "id": "J7JF1ZN7xqi3"
      },
      "outputs": [],
      "source": [
        "translator = ExportTranslator(translator)"
      ]
    },
    {
      "cell_type": "code",
      "execution_count": 320,
      "metadata": {
        "colab": {
          "base_uri": "https://localhost:8080/"
        },
        "id": "28APNfLa645p",
        "outputId": "589f407a-1192-4605-e6b6-8105f9b28587"
      },
      "outputs": [
        {
          "data": {
            "text/plain": [
              "b'this is the first book i did .'"
            ]
          },
          "execution_count": 320,
          "metadata": {},
          "output_type": "execute_result"
        }
      ],
      "source": [
        "translator(\"este é o primeiro livro que eu fiz.\").numpy()\n"
      ]
    },
    {
      "cell_type": "code",
      "execution_count": 321,
      "metadata": {
        "id": "JwpUJEf4Wt4N"
      },
      "outputs": [],
      "source": [
        "tf.saved_model.save(translator, export_dir='translator')"
      ]
    },
    {
      "cell_type": "code",
      "execution_count": 322,
      "metadata": {
        "colab": {
          "base_uri": "https://localhost:8080/"
        },
        "id": "lcjabyDkcSCN",
        "outputId": "13c99fb5-f7b9-4038-9845-569d4c854ed6"
      },
      "outputs": [
        {
          "name": "stdout",
          "output_type": "stream",
          "text": [
            "['variables', 'fingerprint.pb', 'assets', 'saved_model.pb']\n"
          ]
        }
      ],
      "source": [
        "import os\n",
        "print(os.listdir(\"translator\"))\n"
      ]
    },
    {
      "cell_type": "code",
      "execution_count": 323,
      "metadata": {
        "id": "gUM0A-FIXztt"
      },
      "outputs": [],
      "source": [
        "reloaded = tf.saved_model.load('translator')"
      ]
    },
    {
      "cell_type": "code",
      "execution_count": 324,
      "metadata": {
        "colab": {
          "base_uri": "https://localhost:8080/"
        },
        "id": "_LU17xOPAVVk",
        "outputId": "be122368-ab1b-4031-e54e-b14f868194b5"
      },
      "outputs": [
        {
          "data": {
            "text/plain": [
              "b'this is the first book i did .'"
            ]
          },
          "execution_count": 324,
          "metadata": {},
          "output_type": "execute_result"
        }
      ],
      "source": [
        "reloaded(\"este é o primeiro livro que eu fiz.\").numpy()"
      ]
    },
    {
      "cell_type": "code",
      "execution_count": 324,
      "metadata": {
        "id": "JS9gD717VenP"
      },
      "outputs": [],
      "source": []
    }
  ],
  "metadata": {
    "accelerator": "GPU",
    "colab": {
      "gpuType": "T4",
      "provenance": []
    },
    "kernelspec": {
      "display_name": "Python 3",
      "name": "python3"
    },
    "language_info": {
      "name": "python"
    },
    "widgets": {
      "application/vnd.jupyter.widget-state+json": {
        "00db2c60a88f4ae882f101cd23d6a4df": {
          "model_module": "@jupyter-widgets/controls",
          "model_module_version": "1.5.0",
          "model_name": "DescriptionStyleModel",
          "state": {
            "_model_module": "@jupyter-widgets/controls",
            "_model_module_version": "1.5.0",
            "_model_name": "DescriptionStyleModel",
            "_view_count": null,
            "_view_module": "@jupyter-widgets/base",
            "_view_module_version": "1.2.0",
            "_view_name": "StyleView",
            "description_width": ""
          }
        },
        "012e90e1126d4e5999d2b811b4959290": {
          "model_module": "@jupyter-widgets/base",
          "model_module_version": "1.2.0",
          "model_name": "LayoutModel",
          "state": {
            "_model_module": "@jupyter-widgets/base",
            "_model_module_version": "1.2.0",
            "_model_name": "LayoutModel",
            "_view_count": null,
            "_view_module": "@jupyter-widgets/base",
            "_view_module_version": "1.2.0",
            "_view_name": "LayoutView",
            "align_content": null,
            "align_items": null,
            "align_self": null,
            "border": null,
            "bottom": null,
            "display": null,
            "flex": null,
            "flex_flow": null,
            "grid_area": null,
            "grid_auto_columns": null,
            "grid_auto_flow": null,
            "grid_auto_rows": null,
            "grid_column": null,
            "grid_gap": null,
            "grid_row": null,
            "grid_template_areas": null,
            "grid_template_columns": null,
            "grid_template_rows": null,
            "height": null,
            "justify_content": null,
            "justify_items": null,
            "left": null,
            "margin": null,
            "max_height": null,
            "max_width": null,
            "min_height": null,
            "min_width": null,
            "object_fit": null,
            "object_position": null,
            "order": null,
            "overflow": null,
            "overflow_x": null,
            "overflow_y": null,
            "padding": null,
            "right": null,
            "top": null,
            "visibility": null,
            "width": null
          }
        },
        "01daf951429e4518af2593280ca51f42": {
          "model_module": "@jupyter-widgets/base",
          "model_module_version": "1.2.0",
          "model_name": "LayoutModel",
          "state": {
            "_model_module": "@jupyter-widgets/base",
            "_model_module_version": "1.2.0",
            "_model_name": "LayoutModel",
            "_view_count": null,
            "_view_module": "@jupyter-widgets/base",
            "_view_module_version": "1.2.0",
            "_view_name": "LayoutView",
            "align_content": null,
            "align_items": null,
            "align_self": null,
            "border": null,
            "bottom": null,
            "display": null,
            "flex": null,
            "flex_flow": null,
            "grid_area": null,
            "grid_auto_columns": null,
            "grid_auto_flow": null,
            "grid_auto_rows": null,
            "grid_column": null,
            "grid_gap": null,
            "grid_row": null,
            "grid_template_areas": null,
            "grid_template_columns": null,
            "grid_template_rows": null,
            "height": null,
            "justify_content": null,
            "justify_items": null,
            "left": null,
            "margin": null,
            "max_height": null,
            "max_width": null,
            "min_height": null,
            "min_width": null,
            "object_fit": null,
            "object_position": null,
            "order": null,
            "overflow": null,
            "overflow_x": null,
            "overflow_y": null,
            "padding": null,
            "right": null,
            "top": null,
            "visibility": "hidden",
            "width": null
          }
        },
        "04ef0874d3714471872cfe1f4c24dd0e": {
          "model_module": "@jupyter-widgets/controls",
          "model_module_version": "1.5.0",
          "model_name": "DescriptionStyleModel",
          "state": {
            "_model_module": "@jupyter-widgets/controls",
            "_model_module_version": "1.5.0",
            "_model_name": "DescriptionStyleModel",
            "_view_count": null,
            "_view_module": "@jupyter-widgets/base",
            "_view_module_version": "1.2.0",
            "_view_name": "StyleView",
            "description_width": ""
          }
        },
        "076d93893cea427fbebcf71d678ea394": {
          "model_module": "@jupyter-widgets/controls",
          "model_module_version": "1.5.0",
          "model_name": "FloatProgressModel",
          "state": {
            "_dom_classes": [],
            "_model_module": "@jupyter-widgets/controls",
            "_model_module_version": "1.5.0",
            "_model_name": "FloatProgressModel",
            "_view_count": null,
            "_view_module": "@jupyter-widgets/controls",
            "_view_module_version": "1.5.0",
            "_view_name": "ProgressView",
            "bar_style": "success",
            "description": "",
            "description_tooltip": null,
            "layout": "IPY_MODEL_7ad4b9c30b2048d2ab15ac71b28fb330",
            "max": 1,
            "min": 0,
            "orientation": "horizontal",
            "style": "IPY_MODEL_b96c7c42782c46eb974c492982e21b32",
            "value": 1
          }
        },
        "07e4c2094deb4873abf4051fb4820eb9": {
          "model_module": "@jupyter-widgets/base",
          "model_module_version": "1.2.0",
          "model_name": "LayoutModel",
          "state": {
            "_model_module": "@jupyter-widgets/base",
            "_model_module_version": "1.2.0",
            "_model_name": "LayoutModel",
            "_view_count": null,
            "_view_module": "@jupyter-widgets/base",
            "_view_module_version": "1.2.0",
            "_view_name": "LayoutView",
            "align_content": null,
            "align_items": null,
            "align_self": null,
            "border": null,
            "bottom": null,
            "display": null,
            "flex": null,
            "flex_flow": null,
            "grid_area": null,
            "grid_auto_columns": null,
            "grid_auto_flow": null,
            "grid_auto_rows": null,
            "grid_column": null,
            "grid_gap": null,
            "grid_row": null,
            "grid_template_areas": null,
            "grid_template_columns": null,
            "grid_template_rows": null,
            "height": null,
            "justify_content": null,
            "justify_items": null,
            "left": null,
            "margin": null,
            "max_height": null,
            "max_width": null,
            "min_height": null,
            "min_width": null,
            "object_fit": null,
            "object_position": null,
            "order": null,
            "overflow": null,
            "overflow_x": null,
            "overflow_y": null,
            "padding": null,
            "right": null,
            "top": null,
            "visibility": null,
            "width": null
          }
        },
        "080f9b9039ae4ad787fba78e347c51ff": {
          "model_module": "@jupyter-widgets/base",
          "model_module_version": "1.2.0",
          "model_name": "LayoutModel",
          "state": {
            "_model_module": "@jupyter-widgets/base",
            "_model_module_version": "1.2.0",
            "_model_name": "LayoutModel",
            "_view_count": null,
            "_view_module": "@jupyter-widgets/base",
            "_view_module_version": "1.2.0",
            "_view_name": "LayoutView",
            "align_content": null,
            "align_items": null,
            "align_self": null,
            "border": null,
            "bottom": null,
            "display": null,
            "flex": null,
            "flex_flow": null,
            "grid_area": null,
            "grid_auto_columns": null,
            "grid_auto_flow": null,
            "grid_auto_rows": null,
            "grid_column": null,
            "grid_gap": null,
            "grid_row": null,
            "grid_template_areas": null,
            "grid_template_columns": null,
            "grid_template_rows": null,
            "height": null,
            "justify_content": null,
            "justify_items": null,
            "left": null,
            "margin": null,
            "max_height": null,
            "max_width": null,
            "min_height": null,
            "min_width": null,
            "object_fit": null,
            "object_position": null,
            "order": null,
            "overflow": null,
            "overflow_x": null,
            "overflow_y": null,
            "padding": null,
            "right": null,
            "top": null,
            "visibility": null,
            "width": null
          }
        },
        "0b7a21bb69ca4af494de30af11bcd60e": {
          "model_module": "@jupyter-widgets/base",
          "model_module_version": "1.2.0",
          "model_name": "LayoutModel",
          "state": {
            "_model_module": "@jupyter-widgets/base",
            "_model_module_version": "1.2.0",
            "_model_name": "LayoutModel",
            "_view_count": null,
            "_view_module": "@jupyter-widgets/base",
            "_view_module_version": "1.2.0",
            "_view_name": "LayoutView",
            "align_content": null,
            "align_items": null,
            "align_self": null,
            "border": null,
            "bottom": null,
            "display": null,
            "flex": null,
            "flex_flow": null,
            "grid_area": null,
            "grid_auto_columns": null,
            "grid_auto_flow": null,
            "grid_auto_rows": null,
            "grid_column": null,
            "grid_gap": null,
            "grid_row": null,
            "grid_template_areas": null,
            "grid_template_columns": null,
            "grid_template_rows": null,
            "height": null,
            "justify_content": null,
            "justify_items": null,
            "left": null,
            "margin": null,
            "max_height": null,
            "max_width": null,
            "min_height": null,
            "min_width": null,
            "object_fit": null,
            "object_position": null,
            "order": null,
            "overflow": null,
            "overflow_x": null,
            "overflow_y": null,
            "padding": null,
            "right": null,
            "top": null,
            "visibility": null,
            "width": null
          }
        },
        "0d3f123f4f6d4048b8207f515120cfb8": {
          "model_module": "@jupyter-widgets/base",
          "model_module_version": "1.2.0",
          "model_name": "LayoutModel",
          "state": {
            "_model_module": "@jupyter-widgets/base",
            "_model_module_version": "1.2.0",
            "_model_name": "LayoutModel",
            "_view_count": null,
            "_view_module": "@jupyter-widgets/base",
            "_view_module_version": "1.2.0",
            "_view_name": "LayoutView",
            "align_content": null,
            "align_items": null,
            "align_self": null,
            "border": null,
            "bottom": null,
            "display": null,
            "flex": null,
            "flex_flow": null,
            "grid_area": null,
            "grid_auto_columns": null,
            "grid_auto_flow": null,
            "grid_auto_rows": null,
            "grid_column": null,
            "grid_gap": null,
            "grid_row": null,
            "grid_template_areas": null,
            "grid_template_columns": null,
            "grid_template_rows": null,
            "height": null,
            "justify_content": null,
            "justify_items": null,
            "left": null,
            "margin": null,
            "max_height": null,
            "max_width": null,
            "min_height": null,
            "min_width": null,
            "object_fit": null,
            "object_position": null,
            "order": null,
            "overflow": null,
            "overflow_x": null,
            "overflow_y": null,
            "padding": null,
            "right": null,
            "top": null,
            "visibility": null,
            "width": null
          }
        },
        "11d206ad308e434394687dea61b36387": {
          "model_module": "@jupyter-widgets/controls",
          "model_module_version": "1.5.0",
          "model_name": "DescriptionStyleModel",
          "state": {
            "_model_module": "@jupyter-widgets/controls",
            "_model_module_version": "1.5.0",
            "_model_name": "DescriptionStyleModel",
            "_view_count": null,
            "_view_module": "@jupyter-widgets/base",
            "_view_module_version": "1.2.0",
            "_view_name": "StyleView",
            "description_width": ""
          }
        },
        "134000a2d6f646708c09ee437806ad41": {
          "model_module": "@jupyter-widgets/base",
          "model_module_version": "1.2.0",
          "model_name": "LayoutModel",
          "state": {
            "_model_module": "@jupyter-widgets/base",
            "_model_module_version": "1.2.0",
            "_model_name": "LayoutModel",
            "_view_count": null,
            "_view_module": "@jupyter-widgets/base",
            "_view_module_version": "1.2.0",
            "_view_name": "LayoutView",
            "align_content": null,
            "align_items": null,
            "align_self": null,
            "border": null,
            "bottom": null,
            "display": null,
            "flex": null,
            "flex_flow": null,
            "grid_area": null,
            "grid_auto_columns": null,
            "grid_auto_flow": null,
            "grid_auto_rows": null,
            "grid_column": null,
            "grid_gap": null,
            "grid_row": null,
            "grid_template_areas": null,
            "grid_template_columns": null,
            "grid_template_rows": null,
            "height": null,
            "justify_content": null,
            "justify_items": null,
            "left": null,
            "margin": null,
            "max_height": null,
            "max_width": null,
            "min_height": null,
            "min_width": null,
            "object_fit": null,
            "object_position": null,
            "order": null,
            "overflow": null,
            "overflow_x": null,
            "overflow_y": null,
            "padding": null,
            "right": null,
            "top": null,
            "visibility": "hidden",
            "width": null
          }
        },
        "13d1bf7c22e645c5be9ef81de4480d26": {
          "model_module": "@jupyter-widgets/controls",
          "model_module_version": "1.5.0",
          "model_name": "ProgressStyleModel",
          "state": {
            "_model_module": "@jupyter-widgets/controls",
            "_model_module_version": "1.5.0",
            "_model_name": "ProgressStyleModel",
            "_view_count": null,
            "_view_module": "@jupyter-widgets/base",
            "_view_module_version": "1.2.0",
            "_view_name": "StyleView",
            "bar_color": null,
            "description_width": ""
          }
        },
        "174bf2d85d5b47a29512691a90faeef6": {
          "model_module": "@jupyter-widgets/controls",
          "model_module_version": "1.5.0",
          "model_name": "FloatProgressModel",
          "state": {
            "_dom_classes": [],
            "_model_module": "@jupyter-widgets/controls",
            "_model_module_version": "1.5.0",
            "_model_name": "FloatProgressModel",
            "_view_count": null,
            "_view_module": "@jupyter-widgets/controls",
            "_view_module_version": "1.5.0",
            "_view_name": "ProgressView",
            "bar_style": "",
            "description": "",
            "description_tooltip": null,
            "layout": "IPY_MODEL_0b7a21bb69ca4af494de30af11bcd60e",
            "max": 1803,
            "min": 0,
            "orientation": "horizontal",
            "style": "IPY_MODEL_4321367b970d4b1f8f527fe5944214f4",
            "value": 1803
          }
        },
        "1a4945adfb5449b4a6f417b4b95eef15": {
          "model_module": "@jupyter-widgets/base",
          "model_module_version": "1.2.0",
          "model_name": "LayoutModel",
          "state": {
            "_model_module": "@jupyter-widgets/base",
            "_model_module_version": "1.2.0",
            "_model_name": "LayoutModel",
            "_view_count": null,
            "_view_module": "@jupyter-widgets/base",
            "_view_module_version": "1.2.0",
            "_view_name": "LayoutView",
            "align_content": null,
            "align_items": null,
            "align_self": null,
            "border": null,
            "bottom": null,
            "display": null,
            "flex": null,
            "flex_flow": null,
            "grid_area": null,
            "grid_auto_columns": null,
            "grid_auto_flow": null,
            "grid_auto_rows": null,
            "grid_column": null,
            "grid_gap": null,
            "grid_row": null,
            "grid_template_areas": null,
            "grid_template_columns": null,
            "grid_template_rows": null,
            "height": null,
            "justify_content": null,
            "justify_items": null,
            "left": null,
            "margin": null,
            "max_height": null,
            "max_width": null,
            "min_height": null,
            "min_width": null,
            "object_fit": null,
            "object_position": null,
            "order": null,
            "overflow": null,
            "overflow_x": null,
            "overflow_y": null,
            "padding": null,
            "right": null,
            "top": null,
            "visibility": "hidden",
            "width": null
          }
        },
        "1a69fe7af009437cb9a599db275a8357": {
          "model_module": "@jupyter-widgets/controls",
          "model_module_version": "1.5.0",
          "model_name": "HBoxModel",
          "state": {
            "_dom_classes": [],
            "_model_module": "@jupyter-widgets/controls",
            "_model_module_version": "1.5.0",
            "_model_name": "HBoxModel",
            "_view_count": null,
            "_view_module": "@jupyter-widgets/controls",
            "_view_module_version": "1.5.0",
            "_view_name": "HBoxView",
            "box_style": "",
            "children": [
              "IPY_MODEL_a9f7613d8dc9457889dc927ac3b90875",
              "IPY_MODEL_8b8cfd033db54235bd4eecffd8141d5f",
              "IPY_MODEL_931bd63bda314572b682724dcbae1a7a"
            ],
            "layout": "IPY_MODEL_d1b43a688a754a89a1125aa7725818c4"
          }
        },
        "1b2caead4ac74db6bc7995f8c6ae6354": {
          "model_module": "@jupyter-widgets/controls",
          "model_module_version": "1.5.0",
          "model_name": "DescriptionStyleModel",
          "state": {
            "_model_module": "@jupyter-widgets/controls",
            "_model_module_version": "1.5.0",
            "_model_name": "DescriptionStyleModel",
            "_view_count": null,
            "_view_module": "@jupyter-widgets/base",
            "_view_module_version": "1.2.0",
            "_view_name": "StyleView",
            "description_width": ""
          }
        },
        "1bbcdab4160d47639634ec514cd1fd34": {
          "model_module": "@jupyter-widgets/controls",
          "model_module_version": "1.5.0",
          "model_name": "HBoxModel",
          "state": {
            "_dom_classes": [],
            "_model_module": "@jupyter-widgets/controls",
            "_model_module_version": "1.5.0",
            "_model_name": "HBoxModel",
            "_view_count": null,
            "_view_module": "@jupyter-widgets/controls",
            "_view_module_version": "1.5.0",
            "_view_name": "HBoxView",
            "box_style": "",
            "children": [
              "IPY_MODEL_e57bf246869449f8963c61b028e398d6",
              "IPY_MODEL_5340171bbf794a659c242a243f3e39c4",
              "IPY_MODEL_cb2d255affdb4ee0b4109e7ce620a02c"
            ],
            "layout": "IPY_MODEL_1a4945adfb5449b4a6f417b4b95eef15"
          }
        },
        "1e17cda3563d471e8eb2376cb88190f9": {
          "model_module": "@jupyter-widgets/controls",
          "model_module_version": "1.5.0",
          "model_name": "HTMLModel",
          "state": {
            "_dom_classes": [],
            "_model_module": "@jupyter-widgets/controls",
            "_model_module_version": "1.5.0",
            "_model_name": "HTMLModel",
            "_view_count": null,
            "_view_module": "@jupyter-widgets/controls",
            "_view_module_version": "1.5.0",
            "_view_name": "HTMLView",
            "description": "",
            "description_tooltip": null,
            "layout": "IPY_MODEL_d33ab8833b7541f8ab86e44dfdf915a4",
            "placeholder": "​",
            "style": "IPY_MODEL_00db2c60a88f4ae882f101cd23d6a4df",
            "value": " 1/1 [00:18&lt;00:00, 10.99s/ url]"
          }
        },
        "1fbca50fbf61435fb5c296cdab095ae8": {
          "model_module": "@jupyter-widgets/base",
          "model_module_version": "1.2.0",
          "model_name": "LayoutModel",
          "state": {
            "_model_module": "@jupyter-widgets/base",
            "_model_module_version": "1.2.0",
            "_model_name": "LayoutModel",
            "_view_count": null,
            "_view_module": "@jupyter-widgets/base",
            "_view_module_version": "1.2.0",
            "_view_name": "LayoutView",
            "align_content": null,
            "align_items": null,
            "align_self": null,
            "border": null,
            "bottom": null,
            "display": null,
            "flex": null,
            "flex_flow": null,
            "grid_area": null,
            "grid_auto_columns": null,
            "grid_auto_flow": null,
            "grid_auto_rows": null,
            "grid_column": null,
            "grid_gap": null,
            "grid_row": null,
            "grid_template_areas": null,
            "grid_template_columns": null,
            "grid_template_rows": null,
            "height": null,
            "justify_content": null,
            "justify_items": null,
            "left": null,
            "margin": null,
            "max_height": null,
            "max_width": null,
            "min_height": null,
            "min_width": null,
            "object_fit": null,
            "object_position": null,
            "order": null,
            "overflow": null,
            "overflow_x": null,
            "overflow_y": null,
            "padding": null,
            "right": null,
            "top": null,
            "visibility": null,
            "width": null
          }
        },
        "20193216b2aa4f7fab13bad28bcf456e": {
          "model_module": "@jupyter-widgets/controls",
          "model_module_version": "1.5.0",
          "model_name": "HTMLModel",
          "state": {
            "_dom_classes": [],
            "_model_module": "@jupyter-widgets/controls",
            "_model_module_version": "1.5.0",
            "_model_name": "HTMLModel",
            "_view_count": null,
            "_view_module": "@jupyter-widgets/controls",
            "_view_module_version": "1.5.0",
            "_view_name": "HTMLView",
            "description": "",
            "description_tooltip": null,
            "layout": "IPY_MODEL_3272f4dca6394eee8a3a9cefeb7ae6a2",
            "placeholder": "​",
            "style": "IPY_MODEL_f690741afb9c49dfabb957a08624ef1f",
            "value": " 124/124 [00:17&lt;00:00, 14.96 MiB/s]"
          }
        },
        "23b90445de054f66bc949f8f99d021d1": {
          "model_module": "@jupyter-widgets/base",
          "model_module_version": "1.2.0",
          "model_name": "LayoutModel",
          "state": {
            "_model_module": "@jupyter-widgets/base",
            "_model_module_version": "1.2.0",
            "_model_name": "LayoutModel",
            "_view_count": null,
            "_view_module": "@jupyter-widgets/base",
            "_view_module_version": "1.2.0",
            "_view_name": "LayoutView",
            "align_content": null,
            "align_items": null,
            "align_self": null,
            "border": null,
            "bottom": null,
            "display": null,
            "flex": null,
            "flex_flow": null,
            "grid_area": null,
            "grid_auto_columns": null,
            "grid_auto_flow": null,
            "grid_auto_rows": null,
            "grid_column": null,
            "grid_gap": null,
            "grid_row": null,
            "grid_template_areas": null,
            "grid_template_columns": null,
            "grid_template_rows": null,
            "height": null,
            "justify_content": null,
            "justify_items": null,
            "left": null,
            "margin": null,
            "max_height": null,
            "max_width": null,
            "min_height": null,
            "min_width": null,
            "object_fit": null,
            "object_position": null,
            "order": null,
            "overflow": null,
            "overflow_x": null,
            "overflow_y": null,
            "padding": null,
            "right": null,
            "top": null,
            "visibility": null,
            "width": null
          }
        },
        "28bb0d479d3943508cea725bae1d9225": {
          "model_module": "@jupyter-widgets/base",
          "model_module_version": "1.2.0",
          "model_name": "LayoutModel",
          "state": {
            "_model_module": "@jupyter-widgets/base",
            "_model_module_version": "1.2.0",
            "_model_name": "LayoutModel",
            "_view_count": null,
            "_view_module": "@jupyter-widgets/base",
            "_view_module_version": "1.2.0",
            "_view_name": "LayoutView",
            "align_content": null,
            "align_items": null,
            "align_self": null,
            "border": null,
            "bottom": null,
            "display": null,
            "flex": null,
            "flex_flow": null,
            "grid_area": null,
            "grid_auto_columns": null,
            "grid_auto_flow": null,
            "grid_auto_rows": null,
            "grid_column": null,
            "grid_gap": null,
            "grid_row": null,
            "grid_template_areas": null,
            "grid_template_columns": null,
            "grid_template_rows": null,
            "height": null,
            "justify_content": null,
            "justify_items": null,
            "left": null,
            "margin": null,
            "max_height": null,
            "max_width": null,
            "min_height": null,
            "min_width": null,
            "object_fit": null,
            "object_position": null,
            "order": null,
            "overflow": null,
            "overflow_x": null,
            "overflow_y": null,
            "padding": null,
            "right": null,
            "top": null,
            "visibility": null,
            "width": null
          }
        },
        "29490db82624444091643e8c178df432": {
          "model_module": "@jupyter-widgets/controls",
          "model_module_version": "1.5.0",
          "model_name": "DescriptionStyleModel",
          "state": {
            "_model_module": "@jupyter-widgets/controls",
            "_model_module_version": "1.5.0",
            "_model_name": "DescriptionStyleModel",
            "_view_count": null,
            "_view_module": "@jupyter-widgets/base",
            "_view_module_version": "1.2.0",
            "_view_name": "StyleView",
            "description_width": ""
          }
        },
        "2ad3c9f5ecfb4eed99fe653956733c14": {
          "model_module": "@jupyter-widgets/controls",
          "model_module_version": "1.5.0",
          "model_name": "HTMLModel",
          "state": {
            "_dom_classes": [],
            "_model_module": "@jupyter-widgets/controls",
            "_model_module_version": "1.5.0",
            "_model_name": "HTMLModel",
            "_view_count": null,
            "_view_module": "@jupyter-widgets/controls",
            "_view_module_version": "1.5.0",
            "_view_name": "HTMLView",
            "description": "",
            "description_tooltip": null,
            "layout": "IPY_MODEL_e0b16abf4b204d74b33af84aea93ce60",
            "placeholder": "​",
            "style": "IPY_MODEL_7b51587879d8407581274fd7d2fb29b2",
            "value": " 0/51785 [00:00&lt;?, ? examples/s]"
          }
        },
        "2cae0dfe863144c0ac8593181dc1b0e8": {
          "model_module": "@jupyter-widgets/controls",
          "model_module_version": "1.5.0",
          "model_name": "DescriptionStyleModel",
          "state": {
            "_model_module": "@jupyter-widgets/controls",
            "_model_module_version": "1.5.0",
            "_model_name": "DescriptionStyleModel",
            "_view_count": null,
            "_view_module": "@jupyter-widgets/base",
            "_view_module_version": "1.2.0",
            "_view_name": "StyleView",
            "description_width": ""
          }
        },
        "3272f4dca6394eee8a3a9cefeb7ae6a2": {
          "model_module": "@jupyter-widgets/base",
          "model_module_version": "1.2.0",
          "model_name": "LayoutModel",
          "state": {
            "_model_module": "@jupyter-widgets/base",
            "_model_module_version": "1.2.0",
            "_model_name": "LayoutModel",
            "_view_count": null,
            "_view_module": "@jupyter-widgets/base",
            "_view_module_version": "1.2.0",
            "_view_name": "LayoutView",
            "align_content": null,
            "align_items": null,
            "align_self": null,
            "border": null,
            "bottom": null,
            "display": null,
            "flex": null,
            "flex_flow": null,
            "grid_area": null,
            "grid_auto_columns": null,
            "grid_auto_flow": null,
            "grid_auto_rows": null,
            "grid_column": null,
            "grid_gap": null,
            "grid_row": null,
            "grid_template_areas": null,
            "grid_template_columns": null,
            "grid_template_rows": null,
            "height": null,
            "justify_content": null,
            "justify_items": null,
            "left": null,
            "margin": null,
            "max_height": null,
            "max_width": null,
            "min_height": null,
            "min_width": null,
            "object_fit": null,
            "object_position": null,
            "order": null,
            "overflow": null,
            "overflow_x": null,
            "overflow_y": null,
            "padding": null,
            "right": null,
            "top": null,
            "visibility": null,
            "width": null
          }
        },
        "32b51ad9889d4524ab5e313f6c111ad2": {
          "model_module": "@jupyter-widgets/base",
          "model_module_version": "1.2.0",
          "model_name": "LayoutModel",
          "state": {
            "_model_module": "@jupyter-widgets/base",
            "_model_module_version": "1.2.0",
            "_model_name": "LayoutModel",
            "_view_count": null,
            "_view_module": "@jupyter-widgets/base",
            "_view_module_version": "1.2.0",
            "_view_name": "LayoutView",
            "align_content": null,
            "align_items": null,
            "align_self": null,
            "border": null,
            "bottom": null,
            "display": null,
            "flex": null,
            "flex_flow": null,
            "grid_area": null,
            "grid_auto_columns": null,
            "grid_auto_flow": null,
            "grid_auto_rows": null,
            "grid_column": null,
            "grid_gap": null,
            "grid_row": null,
            "grid_template_areas": null,
            "grid_template_columns": null,
            "grid_template_rows": null,
            "height": null,
            "justify_content": null,
            "justify_items": null,
            "left": null,
            "margin": null,
            "max_height": null,
            "max_width": null,
            "min_height": null,
            "min_width": null,
            "object_fit": null,
            "object_position": null,
            "order": null,
            "overflow": null,
            "overflow_x": null,
            "overflow_y": null,
            "padding": null,
            "right": null,
            "top": null,
            "visibility": null,
            "width": "20px"
          }
        },
        "34511f5d4b3746b3993f43f2a7876c43": {
          "model_module": "@jupyter-widgets/controls",
          "model_module_version": "1.5.0",
          "model_name": "ProgressStyleModel",
          "state": {
            "_model_module": "@jupyter-widgets/controls",
            "_model_module_version": "1.5.0",
            "_model_name": "ProgressStyleModel",
            "_view_count": null,
            "_view_module": "@jupyter-widgets/base",
            "_view_module_version": "1.2.0",
            "_view_name": "StyleView",
            "bar_color": null,
            "description_width": ""
          }
        },
        "38d3ce16cfc948f19df9bf517c49d995": {
          "model_module": "@jupyter-widgets/controls",
          "model_module_version": "1.5.0",
          "model_name": "ProgressStyleModel",
          "state": {
            "_model_module": "@jupyter-widgets/controls",
            "_model_module_version": "1.5.0",
            "_model_name": "ProgressStyleModel",
            "_view_count": null,
            "_view_module": "@jupyter-widgets/base",
            "_view_module_version": "1.2.0",
            "_view_name": "StyleView",
            "bar_color": null,
            "description_width": ""
          }
        },
        "3c4aa63ceae541db8f9bc5f6213a9849": {
          "model_module": "@jupyter-widgets/controls",
          "model_module_version": "1.5.0",
          "model_name": "FloatProgressModel",
          "state": {
            "_dom_classes": [],
            "_model_module": "@jupyter-widgets/controls",
            "_model_module_version": "1.5.0",
            "_model_name": "FloatProgressModel",
            "_view_count": null,
            "_view_module": "@jupyter-widgets/controls",
            "_view_module_version": "1.5.0",
            "_view_name": "ProgressView",
            "bar_style": "",
            "description": "",
            "description_tooltip": null,
            "layout": "IPY_MODEL_c936850e8a3a4010a45c193f3ffd515c",
            "max": 1193,
            "min": 0,
            "orientation": "horizontal",
            "style": "IPY_MODEL_fd584a166a9949a9ac4ebd09ea15cbbf",
            "value": 1193
          }
        },
        "3d3390db3068471ea3ca071b864f17ad": {
          "model_module": "@jupyter-widgets/base",
          "model_module_version": "1.2.0",
          "model_name": "LayoutModel",
          "state": {
            "_model_module": "@jupyter-widgets/base",
            "_model_module_version": "1.2.0",
            "_model_name": "LayoutModel",
            "_view_count": null,
            "_view_module": "@jupyter-widgets/base",
            "_view_module_version": "1.2.0",
            "_view_name": "LayoutView",
            "align_content": null,
            "align_items": null,
            "align_self": null,
            "border": null,
            "bottom": null,
            "display": null,
            "flex": null,
            "flex_flow": null,
            "grid_area": null,
            "grid_auto_columns": null,
            "grid_auto_flow": null,
            "grid_auto_rows": null,
            "grid_column": null,
            "grid_gap": null,
            "grid_row": null,
            "grid_template_areas": null,
            "grid_template_columns": null,
            "grid_template_rows": null,
            "height": null,
            "justify_content": null,
            "justify_items": null,
            "left": null,
            "margin": null,
            "max_height": null,
            "max_width": null,
            "min_height": null,
            "min_width": null,
            "object_fit": null,
            "object_position": null,
            "order": null,
            "overflow": null,
            "overflow_x": null,
            "overflow_y": null,
            "padding": null,
            "right": null,
            "top": null,
            "visibility": null,
            "width": null
          }
        },
        "3d78911aef494ff89e796a0b4c5dd74a": {
          "model_module": "@jupyter-widgets/base",
          "model_module_version": "1.2.0",
          "model_name": "LayoutModel",
          "state": {
            "_model_module": "@jupyter-widgets/base",
            "_model_module_version": "1.2.0",
            "_model_name": "LayoutModel",
            "_view_count": null,
            "_view_module": "@jupyter-widgets/base",
            "_view_module_version": "1.2.0",
            "_view_name": "LayoutView",
            "align_content": null,
            "align_items": null,
            "align_self": null,
            "border": null,
            "bottom": null,
            "display": null,
            "flex": null,
            "flex_flow": null,
            "grid_area": null,
            "grid_auto_columns": null,
            "grid_auto_flow": null,
            "grid_auto_rows": null,
            "grid_column": null,
            "grid_gap": null,
            "grid_row": null,
            "grid_template_areas": null,
            "grid_template_columns": null,
            "grid_template_rows": null,
            "height": null,
            "justify_content": null,
            "justify_items": null,
            "left": null,
            "margin": null,
            "max_height": null,
            "max_width": null,
            "min_height": null,
            "min_width": null,
            "object_fit": null,
            "object_position": null,
            "order": null,
            "overflow": null,
            "overflow_x": null,
            "overflow_y": null,
            "padding": null,
            "right": null,
            "top": null,
            "visibility": null,
            "width": null
          }
        },
        "40c5bf0a27e44e648c7cbb1175ecae86": {
          "model_module": "@jupyter-widgets/controls",
          "model_module_version": "1.5.0",
          "model_name": "FloatProgressModel",
          "state": {
            "_dom_classes": [],
            "_model_module": "@jupyter-widgets/controls",
            "_model_module_version": "1.5.0",
            "_model_name": "FloatProgressModel",
            "_view_count": null,
            "_view_module": "@jupyter-widgets/controls",
            "_view_module_version": "1.5.0",
            "_view_name": "ProgressView",
            "bar_style": "",
            "description": "",
            "description_tooltip": null,
            "layout": "IPY_MODEL_efa6ecb16d9e489490e52843bc507dc9",
            "max": 51785,
            "min": 0,
            "orientation": "horizontal",
            "style": "IPY_MODEL_cead8c4eb0874819931dc052a9290d5a",
            "value": 51785
          }
        },
        "4321367b970d4b1f8f527fe5944214f4": {
          "model_module": "@jupyter-widgets/controls",
          "model_module_version": "1.5.0",
          "model_name": "ProgressStyleModel",
          "state": {
            "_model_module": "@jupyter-widgets/controls",
            "_model_module_version": "1.5.0",
            "_model_name": "ProgressStyleModel",
            "_view_count": null,
            "_view_module": "@jupyter-widgets/base",
            "_view_module_version": "1.2.0",
            "_view_name": "StyleView",
            "bar_color": null,
            "description_width": ""
          }
        },
        "439dcf681d754074b0f4b32aa5195ad4": {
          "model_module": "@jupyter-widgets/base",
          "model_module_version": "1.2.0",
          "model_name": "LayoutModel",
          "state": {
            "_model_module": "@jupyter-widgets/base",
            "_model_module_version": "1.2.0",
            "_model_name": "LayoutModel",
            "_view_count": null,
            "_view_module": "@jupyter-widgets/base",
            "_view_module_version": "1.2.0",
            "_view_name": "LayoutView",
            "align_content": null,
            "align_items": null,
            "align_self": null,
            "border": null,
            "bottom": null,
            "display": null,
            "flex": null,
            "flex_flow": null,
            "grid_area": null,
            "grid_auto_columns": null,
            "grid_auto_flow": null,
            "grid_auto_rows": null,
            "grid_column": null,
            "grid_gap": null,
            "grid_row": null,
            "grid_template_areas": null,
            "grid_template_columns": null,
            "grid_template_rows": null,
            "height": null,
            "justify_content": null,
            "justify_items": null,
            "left": null,
            "margin": null,
            "max_height": null,
            "max_width": null,
            "min_height": null,
            "min_width": null,
            "object_fit": null,
            "object_position": null,
            "order": null,
            "overflow": null,
            "overflow_x": null,
            "overflow_y": null,
            "padding": null,
            "right": null,
            "top": null,
            "visibility": null,
            "width": null
          }
        },
        "45bd5cf677ae475a853bf46ec570da3a": {
          "model_module": "@jupyter-widgets/controls",
          "model_module_version": "1.5.0",
          "model_name": "HTMLModel",
          "state": {
            "_dom_classes": [],
            "_model_module": "@jupyter-widgets/controls",
            "_model_module_version": "1.5.0",
            "_model_name": "HTMLModel",
            "_view_count": null,
            "_view_module": "@jupyter-widgets/controls",
            "_view_module_version": "1.5.0",
            "_view_name": "HTMLView",
            "description": "",
            "description_tooltip": null,
            "layout": "IPY_MODEL_51b62bc2cc1646e39de9383ae06e1db1",
            "placeholder": "​",
            "style": "IPY_MODEL_b7ef0e3d663845368a906616db24b5ed",
            "value": "Dl Completed...: 100%"
          }
        },
        "47085e17888f4d4fbdcacd642eb3271f": {
          "model_module": "@jupyter-widgets/base",
          "model_module_version": "1.2.0",
          "model_name": "LayoutModel",
          "state": {
            "_model_module": "@jupyter-widgets/base",
            "_model_module_version": "1.2.0",
            "_model_name": "LayoutModel",
            "_view_count": null,
            "_view_module": "@jupyter-widgets/base",
            "_view_module_version": "1.2.0",
            "_view_name": "LayoutView",
            "align_content": null,
            "align_items": null,
            "align_self": null,
            "border": null,
            "bottom": null,
            "display": null,
            "flex": null,
            "flex_flow": null,
            "grid_area": null,
            "grid_auto_columns": null,
            "grid_auto_flow": null,
            "grid_auto_rows": null,
            "grid_column": null,
            "grid_gap": null,
            "grid_row": null,
            "grid_template_areas": null,
            "grid_template_columns": null,
            "grid_template_rows": null,
            "height": null,
            "justify_content": null,
            "justify_items": null,
            "left": null,
            "margin": null,
            "max_height": null,
            "max_width": null,
            "min_height": null,
            "min_width": null,
            "object_fit": null,
            "object_position": null,
            "order": null,
            "overflow": null,
            "overflow_x": null,
            "overflow_y": null,
            "padding": null,
            "right": null,
            "top": null,
            "visibility": null,
            "width": null
          }
        },
        "4cf4590bb7664030b241fcd8be39fc17": {
          "model_module": "@jupyter-widgets/controls",
          "model_module_version": "1.5.0",
          "model_name": "HTMLModel",
          "state": {
            "_dom_classes": [],
            "_model_module": "@jupyter-widgets/controls",
            "_model_module_version": "1.5.0",
            "_model_name": "HTMLModel",
            "_view_count": null,
            "_view_module": "@jupyter-widgets/controls",
            "_view_module_version": "1.5.0",
            "_view_name": "HTMLView",
            "description": "",
            "description_tooltip": null,
            "layout": "IPY_MODEL_d96dd0f82be14602981286a95c64ecb5",
            "placeholder": "​",
            "style": "IPY_MODEL_901470e5750b4882ad84be42c9ec20c7",
            "value": " 0/1803 [00:00&lt;?, ? examples/s]"
          }
        },
        "4d2f58d9b31843b7bd0c1d04b14edee8": {
          "model_module": "@jupyter-widgets/controls",
          "model_module_version": "1.5.0",
          "model_name": "HTMLModel",
          "state": {
            "_dom_classes": [],
            "_model_module": "@jupyter-widgets/controls",
            "_model_module_version": "1.5.0",
            "_model_name": "HTMLModel",
            "_view_count": null,
            "_view_module": "@jupyter-widgets/controls",
            "_view_module_version": "1.5.0",
            "_view_name": "HTMLView",
            "description": "",
            "description_tooltip": null,
            "layout": "IPY_MODEL_0d3f123f4f6d4048b8207f515120cfb8",
            "placeholder": "​",
            "style": "IPY_MODEL_8f929ac9c6af4fc691be623d4e05546b",
            "value": "Generating validation examples...:   0%"
          }
        },
        "4dc6317cb3e149dfb9ff57b256086cd9": {
          "model_module": "@jupyter-widgets/base",
          "model_module_version": "1.2.0",
          "model_name": "LayoutModel",
          "state": {
            "_model_module": "@jupyter-widgets/base",
            "_model_module_version": "1.2.0",
            "_model_name": "LayoutModel",
            "_view_count": null,
            "_view_module": "@jupyter-widgets/base",
            "_view_module_version": "1.2.0",
            "_view_name": "LayoutView",
            "align_content": null,
            "align_items": null,
            "align_self": null,
            "border": null,
            "bottom": null,
            "display": null,
            "flex": null,
            "flex_flow": null,
            "grid_area": null,
            "grid_auto_columns": null,
            "grid_auto_flow": null,
            "grid_auto_rows": null,
            "grid_column": null,
            "grid_gap": null,
            "grid_row": null,
            "grid_template_areas": null,
            "grid_template_columns": null,
            "grid_template_rows": null,
            "height": null,
            "justify_content": null,
            "justify_items": null,
            "left": null,
            "margin": null,
            "max_height": null,
            "max_width": null,
            "min_height": null,
            "min_width": null,
            "object_fit": null,
            "object_position": null,
            "order": null,
            "overflow": null,
            "overflow_x": null,
            "overflow_y": null,
            "padding": null,
            "right": null,
            "top": null,
            "visibility": null,
            "width": "20px"
          }
        },
        "51b62bc2cc1646e39de9383ae06e1db1": {
          "model_module": "@jupyter-widgets/base",
          "model_module_version": "1.2.0",
          "model_name": "LayoutModel",
          "state": {
            "_model_module": "@jupyter-widgets/base",
            "_model_module_version": "1.2.0",
            "_model_name": "LayoutModel",
            "_view_count": null,
            "_view_module": "@jupyter-widgets/base",
            "_view_module_version": "1.2.0",
            "_view_name": "LayoutView",
            "align_content": null,
            "align_items": null,
            "align_self": null,
            "border": null,
            "bottom": null,
            "display": null,
            "flex": null,
            "flex_flow": null,
            "grid_area": null,
            "grid_auto_columns": null,
            "grid_auto_flow": null,
            "grid_auto_rows": null,
            "grid_column": null,
            "grid_gap": null,
            "grid_row": null,
            "grid_template_areas": null,
            "grid_template_columns": null,
            "grid_template_rows": null,
            "height": null,
            "justify_content": null,
            "justify_items": null,
            "left": null,
            "margin": null,
            "max_height": null,
            "max_width": null,
            "min_height": null,
            "min_width": null,
            "object_fit": null,
            "object_position": null,
            "order": null,
            "overflow": null,
            "overflow_x": null,
            "overflow_y": null,
            "padding": null,
            "right": null,
            "top": null,
            "visibility": null,
            "width": null
          }
        },
        "5340171bbf794a659c242a243f3e39c4": {
          "model_module": "@jupyter-widgets/controls",
          "model_module_version": "1.5.0",
          "model_name": "FloatProgressModel",
          "state": {
            "_dom_classes": [],
            "_model_module": "@jupyter-widgets/controls",
            "_model_module_version": "1.5.0",
            "_model_name": "FloatProgressModel",
            "_view_count": null,
            "_view_module": "@jupyter-widgets/controls",
            "_view_module_version": "1.5.0",
            "_view_name": "ProgressView",
            "bar_style": "",
            "description": "",
            "description_tooltip": null,
            "layout": "IPY_MODEL_439dcf681d754074b0f4b32aa5195ad4",
            "max": 51785,
            "min": 0,
            "orientation": "horizontal",
            "style": "IPY_MODEL_68630303d1fb4d8eb8f34bbc0fcf9eac",
            "value": 51785
          }
        },
        "57664fe70ca44e9c9cabb4c9bbd4ae46": {
          "model_module": "@jupyter-widgets/base",
          "model_module_version": "1.2.0",
          "model_name": "LayoutModel",
          "state": {
            "_model_module": "@jupyter-widgets/base",
            "_model_module_version": "1.2.0",
            "_model_name": "LayoutModel",
            "_view_count": null,
            "_view_module": "@jupyter-widgets/base",
            "_view_module_version": "1.2.0",
            "_view_name": "LayoutView",
            "align_content": null,
            "align_items": null,
            "align_self": null,
            "border": null,
            "bottom": null,
            "display": null,
            "flex": null,
            "flex_flow": null,
            "grid_area": null,
            "grid_auto_columns": null,
            "grid_auto_flow": null,
            "grid_auto_rows": null,
            "grid_column": null,
            "grid_gap": null,
            "grid_row": null,
            "grid_template_areas": null,
            "grid_template_columns": null,
            "grid_template_rows": null,
            "height": null,
            "justify_content": null,
            "justify_items": null,
            "left": null,
            "margin": null,
            "max_height": null,
            "max_width": null,
            "min_height": null,
            "min_width": null,
            "object_fit": null,
            "object_position": null,
            "order": null,
            "overflow": null,
            "overflow_x": null,
            "overflow_y": null,
            "padding": null,
            "right": null,
            "top": null,
            "visibility": "hidden",
            "width": null
          }
        },
        "59564687794b4d60911fdfa3ca61aa6d": {
          "model_module": "@jupyter-widgets/base",
          "model_module_version": "1.2.0",
          "model_name": "LayoutModel",
          "state": {
            "_model_module": "@jupyter-widgets/base",
            "_model_module_version": "1.2.0",
            "_model_name": "LayoutModel",
            "_view_count": null,
            "_view_module": "@jupyter-widgets/base",
            "_view_module_version": "1.2.0",
            "_view_name": "LayoutView",
            "align_content": null,
            "align_items": null,
            "align_self": null,
            "border": null,
            "bottom": null,
            "display": null,
            "flex": null,
            "flex_flow": null,
            "grid_area": null,
            "grid_auto_columns": null,
            "grid_auto_flow": null,
            "grid_auto_rows": null,
            "grid_column": null,
            "grid_gap": null,
            "grid_row": null,
            "grid_template_areas": null,
            "grid_template_columns": null,
            "grid_template_rows": null,
            "height": null,
            "justify_content": null,
            "justify_items": null,
            "left": null,
            "margin": null,
            "max_height": null,
            "max_width": null,
            "min_height": null,
            "min_width": null,
            "object_fit": null,
            "object_position": null,
            "order": null,
            "overflow": null,
            "overflow_x": null,
            "overflow_y": null,
            "padding": null,
            "right": null,
            "top": null,
            "visibility": null,
            "width": null
          }
        },
        "61a35cc78a7b47739152af1141db5db9": {
          "model_module": "@jupyter-widgets/controls",
          "model_module_version": "1.5.0",
          "model_name": "HBoxModel",
          "state": {
            "_dom_classes": [],
            "_model_module": "@jupyter-widgets/controls",
            "_model_module_version": "1.5.0",
            "_model_name": "HBoxModel",
            "_view_count": null,
            "_view_module": "@jupyter-widgets/controls",
            "_view_module_version": "1.5.0",
            "_view_name": "HBoxView",
            "box_style": "",
            "children": [
              "IPY_MODEL_949a9f1495de4ed0aac21ebd8696e575",
              "IPY_MODEL_174bf2d85d5b47a29512691a90faeef6",
              "IPY_MODEL_4cf4590bb7664030b241fcd8be39fc17"
            ],
            "layout": "IPY_MODEL_687344a35c024a6496ebbabdf52f1cc2"
          }
        },
        "65abe5dcfad84d08b0efe460ebfce9a7": {
          "model_module": "@jupyter-widgets/controls",
          "model_module_version": "1.5.0",
          "model_name": "HBoxModel",
          "state": {
            "_dom_classes": [],
            "_model_module": "@jupyter-widgets/controls",
            "_model_module_version": "1.5.0",
            "_model_name": "HBoxModel",
            "_view_count": null,
            "_view_module": "@jupyter-widgets/controls",
            "_view_module_version": "1.5.0",
            "_view_name": "HBoxView",
            "box_style": "",
            "children": [
              "IPY_MODEL_bd9e888d4c024cafae275d0beca8a4ae",
              "IPY_MODEL_c012ed0b17884a5582dd4462f1e17c18",
              "IPY_MODEL_bbd459ffd9b646d99b2f4b94d6e965dc"
            ],
            "layout": "IPY_MODEL_b1ca7212a4294348898688812e9a8802"
          }
        },
        "672c65c817a64be0b2ff6f3103c9efa7": {
          "model_module": "@jupyter-widgets/base",
          "model_module_version": "1.2.0",
          "model_name": "LayoutModel",
          "state": {
            "_model_module": "@jupyter-widgets/base",
            "_model_module_version": "1.2.0",
            "_model_name": "LayoutModel",
            "_view_count": null,
            "_view_module": "@jupyter-widgets/base",
            "_view_module_version": "1.2.0",
            "_view_name": "LayoutView",
            "align_content": null,
            "align_items": null,
            "align_self": null,
            "border": null,
            "bottom": null,
            "display": null,
            "flex": null,
            "flex_flow": null,
            "grid_area": null,
            "grid_auto_columns": null,
            "grid_auto_flow": null,
            "grid_auto_rows": null,
            "grid_column": null,
            "grid_gap": null,
            "grid_row": null,
            "grid_template_areas": null,
            "grid_template_columns": null,
            "grid_template_rows": null,
            "height": null,
            "justify_content": null,
            "justify_items": null,
            "left": null,
            "margin": null,
            "max_height": null,
            "max_width": null,
            "min_height": null,
            "min_width": null,
            "object_fit": null,
            "object_position": null,
            "order": null,
            "overflow": null,
            "overflow_x": null,
            "overflow_y": null,
            "padding": null,
            "right": null,
            "top": null,
            "visibility": "hidden",
            "width": null
          }
        },
        "68630303d1fb4d8eb8f34bbc0fcf9eac": {
          "model_module": "@jupyter-widgets/controls",
          "model_module_version": "1.5.0",
          "model_name": "ProgressStyleModel",
          "state": {
            "_model_module": "@jupyter-widgets/controls",
            "_model_module_version": "1.5.0",
            "_model_name": "ProgressStyleModel",
            "_view_count": null,
            "_view_module": "@jupyter-widgets/base",
            "_view_module_version": "1.2.0",
            "_view_name": "StyleView",
            "bar_color": null,
            "description_width": ""
          }
        },
        "687344a35c024a6496ebbabdf52f1cc2": {
          "model_module": "@jupyter-widgets/base",
          "model_module_version": "1.2.0",
          "model_name": "LayoutModel",
          "state": {
            "_model_module": "@jupyter-widgets/base",
            "_model_module_version": "1.2.0",
            "_model_name": "LayoutModel",
            "_view_count": null,
            "_view_module": "@jupyter-widgets/base",
            "_view_module_version": "1.2.0",
            "_view_name": "LayoutView",
            "align_content": null,
            "align_items": null,
            "align_self": null,
            "border": null,
            "bottom": null,
            "display": null,
            "flex": null,
            "flex_flow": null,
            "grid_area": null,
            "grid_auto_columns": null,
            "grid_auto_flow": null,
            "grid_auto_rows": null,
            "grid_column": null,
            "grid_gap": null,
            "grid_row": null,
            "grid_template_areas": null,
            "grid_template_columns": null,
            "grid_template_rows": null,
            "height": null,
            "justify_content": null,
            "justify_items": null,
            "left": null,
            "margin": null,
            "max_height": null,
            "max_width": null,
            "min_height": null,
            "min_width": null,
            "object_fit": null,
            "object_position": null,
            "order": null,
            "overflow": null,
            "overflow_x": null,
            "overflow_y": null,
            "padding": null,
            "right": null,
            "top": null,
            "visibility": "hidden",
            "width": null
          }
        },
        "6adcb515b422422182a2f86422895033": {
          "model_module": "@jupyter-widgets/controls",
          "model_module_version": "1.5.0",
          "model_name": "FloatProgressModel",
          "state": {
            "_dom_classes": [],
            "_model_module": "@jupyter-widgets/controls",
            "_model_module_version": "1.5.0",
            "_model_name": "FloatProgressModel",
            "_view_count": null,
            "_view_module": "@jupyter-widgets/controls",
            "_view_module_version": "1.5.0",
            "_view_name": "ProgressView",
            "bar_style": "",
            "description": "",
            "description_tooltip": null,
            "layout": "IPY_MODEL_07e4c2094deb4873abf4051fb4820eb9",
            "max": 1193,
            "min": 0,
            "orientation": "horizontal",
            "style": "IPY_MODEL_34511f5d4b3746b3993f43f2a7876c43",
            "value": 1193
          }
        },
        "6df2b00cb769434a9cc17de8f47a2534": {
          "model_module": "@jupyter-widgets/base",
          "model_module_version": "1.2.0",
          "model_name": "LayoutModel",
          "state": {
            "_model_module": "@jupyter-widgets/base",
            "_model_module_version": "1.2.0",
            "_model_name": "LayoutModel",
            "_view_count": null,
            "_view_module": "@jupyter-widgets/base",
            "_view_module_version": "1.2.0",
            "_view_name": "LayoutView",
            "align_content": null,
            "align_items": null,
            "align_self": null,
            "border": null,
            "bottom": null,
            "display": null,
            "flex": null,
            "flex_flow": null,
            "grid_area": null,
            "grid_auto_columns": null,
            "grid_auto_flow": null,
            "grid_auto_rows": null,
            "grid_column": null,
            "grid_gap": null,
            "grid_row": null,
            "grid_template_areas": null,
            "grid_template_columns": null,
            "grid_template_rows": null,
            "height": null,
            "justify_content": null,
            "justify_items": null,
            "left": null,
            "margin": null,
            "max_height": null,
            "max_width": null,
            "min_height": null,
            "min_width": null,
            "object_fit": null,
            "object_position": null,
            "order": null,
            "overflow": null,
            "overflow_x": null,
            "overflow_y": null,
            "padding": null,
            "right": null,
            "top": null,
            "visibility": null,
            "width": null
          }
        },
        "7218404e7fe440e8a6355d14314a347a": {
          "model_module": "@jupyter-widgets/base",
          "model_module_version": "1.2.0",
          "model_name": "LayoutModel",
          "state": {
            "_model_module": "@jupyter-widgets/base",
            "_model_module_version": "1.2.0",
            "_model_name": "LayoutModel",
            "_view_count": null,
            "_view_module": "@jupyter-widgets/base",
            "_view_module_version": "1.2.0",
            "_view_name": "LayoutView",
            "align_content": null,
            "align_items": null,
            "align_self": null,
            "border": null,
            "bottom": null,
            "display": null,
            "flex": null,
            "flex_flow": null,
            "grid_area": null,
            "grid_auto_columns": null,
            "grid_auto_flow": null,
            "grid_auto_rows": null,
            "grid_column": null,
            "grid_gap": null,
            "grid_row": null,
            "grid_template_areas": null,
            "grid_template_columns": null,
            "grid_template_rows": null,
            "height": null,
            "justify_content": null,
            "justify_items": null,
            "left": null,
            "margin": null,
            "max_height": null,
            "max_width": null,
            "min_height": null,
            "min_width": null,
            "object_fit": null,
            "object_position": null,
            "order": null,
            "overflow": null,
            "overflow_x": null,
            "overflow_y": null,
            "padding": null,
            "right": null,
            "top": null,
            "visibility": null,
            "width": null
          }
        },
        "77eb2fe97bb1460fa00c43c0621fb9ad": {
          "model_module": "@jupyter-widgets/controls",
          "model_module_version": "1.5.0",
          "model_name": "HTMLModel",
          "state": {
            "_dom_classes": [],
            "_model_module": "@jupyter-widgets/controls",
            "_model_module_version": "1.5.0",
            "_model_name": "HTMLModel",
            "_view_count": null,
            "_view_module": "@jupyter-widgets/controls",
            "_view_module_version": "1.5.0",
            "_view_name": "HTMLView",
            "description": "",
            "description_tooltip": null,
            "layout": "IPY_MODEL_012e90e1126d4e5999d2b811b4959290",
            "placeholder": "​",
            "style": "IPY_MODEL_aa253861a8d040978fe782bf999dc7ed",
            "value": " 0/1193 [00:00&lt;?, ? examples/s]"
          }
        },
        "78c23bea4f09445f85b41383059ea64b": {
          "model_module": "@jupyter-widgets/controls",
          "model_module_version": "1.5.0",
          "model_name": "HTMLModel",
          "state": {
            "_dom_classes": [],
            "_model_module": "@jupyter-widgets/controls",
            "_model_module_version": "1.5.0",
            "_model_name": "HTMLModel",
            "_view_count": null,
            "_view_module": "@jupyter-widgets/controls",
            "_view_module_version": "1.5.0",
            "_view_name": "HTMLView",
            "description": "",
            "description_tooltip": null,
            "layout": "IPY_MODEL_ad478a3092114859828cdb81f47ee33a",
            "placeholder": "​",
            "style": "IPY_MODEL_e83e5b78fb274ec1b7f66eace494edfb",
            "value": "Shuffling /root/tensorflow_datasets/ted_hrlr_translate/pt_to_en/incomplete.FNTK02_1.0.0/ted_hrlr_translate-train.tfrecord*...:   0%"
          }
        },
        "7ad4b9c30b2048d2ab15ac71b28fb330": {
          "model_module": "@jupyter-widgets/base",
          "model_module_version": "1.2.0",
          "model_name": "LayoutModel",
          "state": {
            "_model_module": "@jupyter-widgets/base",
            "_model_module_version": "1.2.0",
            "_model_name": "LayoutModel",
            "_view_count": null,
            "_view_module": "@jupyter-widgets/base",
            "_view_module_version": "1.2.0",
            "_view_name": "LayoutView",
            "align_content": null,
            "align_items": null,
            "align_self": null,
            "border": null,
            "bottom": null,
            "display": null,
            "flex": null,
            "flex_flow": null,
            "grid_area": null,
            "grid_auto_columns": null,
            "grid_auto_flow": null,
            "grid_auto_rows": null,
            "grid_column": null,
            "grid_gap": null,
            "grid_row": null,
            "grid_template_areas": null,
            "grid_template_columns": null,
            "grid_template_rows": null,
            "height": null,
            "justify_content": null,
            "justify_items": null,
            "left": null,
            "margin": null,
            "max_height": null,
            "max_width": null,
            "min_height": null,
            "min_width": null,
            "object_fit": null,
            "object_position": null,
            "order": null,
            "overflow": null,
            "overflow_x": null,
            "overflow_y": null,
            "padding": null,
            "right": null,
            "top": null,
            "visibility": null,
            "width": "20px"
          }
        },
        "7b51587879d8407581274fd7d2fb29b2": {
          "model_module": "@jupyter-widgets/controls",
          "model_module_version": "1.5.0",
          "model_name": "DescriptionStyleModel",
          "state": {
            "_model_module": "@jupyter-widgets/controls",
            "_model_module_version": "1.5.0",
            "_model_name": "DescriptionStyleModel",
            "_view_count": null,
            "_view_module": "@jupyter-widgets/base",
            "_view_module_version": "1.2.0",
            "_view_name": "StyleView",
            "description_width": ""
          }
        },
        "874bc0e4991e4122bc62ebf5ffa05fa5": {
          "model_module": "@jupyter-widgets/controls",
          "model_module_version": "1.5.0",
          "model_name": "ProgressStyleModel",
          "state": {
            "_model_module": "@jupyter-widgets/controls",
            "_model_module_version": "1.5.0",
            "_model_name": "ProgressStyleModel",
            "_view_count": null,
            "_view_module": "@jupyter-widgets/base",
            "_view_module_version": "1.2.0",
            "_view_name": "StyleView",
            "bar_color": null,
            "description_width": ""
          }
        },
        "8abb5bfa9b0742539a4879ab29059c69": {
          "model_module": "@jupyter-widgets/controls",
          "model_module_version": "1.5.0",
          "model_name": "HBoxModel",
          "state": {
            "_dom_classes": [],
            "_model_module": "@jupyter-widgets/controls",
            "_model_module_version": "1.5.0",
            "_model_name": "HBoxModel",
            "_view_count": null,
            "_view_module": "@jupyter-widgets/controls",
            "_view_module_version": "1.5.0",
            "_view_name": "HBoxView",
            "box_style": "",
            "children": [
              "IPY_MODEL_45bd5cf677ae475a853bf46ec570da3a",
              "IPY_MODEL_dfbd5118a3c542df905ef65ef8c7166e",
              "IPY_MODEL_1e17cda3563d471e8eb2376cb88190f9"
            ],
            "layout": "IPY_MODEL_aebb366544e64977a72b8e2da8350619"
          }
        },
        "8b8cfd033db54235bd4eecffd8141d5f": {
          "model_module": "@jupyter-widgets/controls",
          "model_module_version": "1.5.0",
          "model_name": "FloatProgressModel",
          "state": {
            "_dom_classes": [],
            "_model_module": "@jupyter-widgets/controls",
            "_model_module_version": "1.5.0",
            "_model_name": "FloatProgressModel",
            "_view_count": null,
            "_view_module": "@jupyter-widgets/controls",
            "_view_module_version": "1.5.0",
            "_view_name": "ProgressView",
            "bar_style": "",
            "description": "",
            "description_tooltip": null,
            "layout": "IPY_MODEL_3d3390db3068471ea3ca071b864f17ad",
            "max": 3,
            "min": 0,
            "orientation": "horizontal",
            "style": "IPY_MODEL_fc1a9a5e54a24d329aa303cad521fe7e",
            "value": 3
          }
        },
        "8f929ac9c6af4fc691be623d4e05546b": {
          "model_module": "@jupyter-widgets/controls",
          "model_module_version": "1.5.0",
          "model_name": "DescriptionStyleModel",
          "state": {
            "_model_module": "@jupyter-widgets/controls",
            "_model_module_version": "1.5.0",
            "_model_name": "DescriptionStyleModel",
            "_view_count": null,
            "_view_module": "@jupyter-widgets/base",
            "_view_module_version": "1.2.0",
            "_view_name": "StyleView",
            "description_width": ""
          }
        },
        "901470e5750b4882ad84be42c9ec20c7": {
          "model_module": "@jupyter-widgets/controls",
          "model_module_version": "1.5.0",
          "model_name": "DescriptionStyleModel",
          "state": {
            "_model_module": "@jupyter-widgets/controls",
            "_model_module_version": "1.5.0",
            "_model_name": "DescriptionStyleModel",
            "_view_count": null,
            "_view_module": "@jupyter-widgets/base",
            "_view_module_version": "1.2.0",
            "_view_name": "StyleView",
            "description_width": ""
          }
        },
        "931bd63bda314572b682724dcbae1a7a": {
          "model_module": "@jupyter-widgets/controls",
          "model_module_version": "1.5.0",
          "model_name": "HTMLModel",
          "state": {
            "_dom_classes": [],
            "_model_module": "@jupyter-widgets/controls",
            "_model_module_version": "1.5.0",
            "_model_name": "HTMLModel",
            "_view_count": null,
            "_view_module": "@jupyter-widgets/controls",
            "_view_module_version": "1.5.0",
            "_view_name": "HTMLView",
            "description": "",
            "description_tooltip": null,
            "layout": "IPY_MODEL_d3bff6b16f394ca987bc749e6879713c",
            "placeholder": "​",
            "style": "IPY_MODEL_ed6d29924c6446d9b88f1de63775c436",
            "value": " 3/3 [00:08&lt;00:00,  1.95s/ splits]"
          }
        },
        "940e6da336104bccbd6d69bdc4b8768f": {
          "model_module": "@jupyter-widgets/controls",
          "model_module_version": "1.5.0",
          "model_name": "HBoxModel",
          "state": {
            "_dom_classes": [],
            "_model_module": "@jupyter-widgets/controls",
            "_model_module_version": "1.5.0",
            "_model_name": "HBoxModel",
            "_view_count": null,
            "_view_module": "@jupyter-widgets/controls",
            "_view_module_version": "1.5.0",
            "_view_name": "HBoxView",
            "box_style": "",
            "children": [
              "IPY_MODEL_d33a5232aa0e49ac8eff6a3a1c4efddb",
              "IPY_MODEL_076d93893cea427fbebcf71d678ea394",
              "IPY_MODEL_20193216b2aa4f7fab13bad28bcf456e"
            ],
            "layout": "IPY_MODEL_1fbca50fbf61435fb5c296cdab095ae8"
          }
        },
        "9458859970144fb4bc942f9bc7fc7e9b": {
          "model_module": "@jupyter-widgets/base",
          "model_module_version": "1.2.0",
          "model_name": "LayoutModel",
          "state": {
            "_model_module": "@jupyter-widgets/base",
            "_model_module_version": "1.2.0",
            "_model_name": "LayoutModel",
            "_view_count": null,
            "_view_module": "@jupyter-widgets/base",
            "_view_module_version": "1.2.0",
            "_view_name": "LayoutView",
            "align_content": null,
            "align_items": null,
            "align_self": null,
            "border": null,
            "bottom": null,
            "display": null,
            "flex": null,
            "flex_flow": null,
            "grid_area": null,
            "grid_auto_columns": null,
            "grid_auto_flow": null,
            "grid_auto_rows": null,
            "grid_column": null,
            "grid_gap": null,
            "grid_row": null,
            "grid_template_areas": null,
            "grid_template_columns": null,
            "grid_template_rows": null,
            "height": null,
            "justify_content": null,
            "justify_items": null,
            "left": null,
            "margin": null,
            "max_height": null,
            "max_width": null,
            "min_height": null,
            "min_width": null,
            "object_fit": null,
            "object_position": null,
            "order": null,
            "overflow": null,
            "overflow_x": null,
            "overflow_y": null,
            "padding": null,
            "right": null,
            "top": null,
            "visibility": null,
            "width": null
          }
        },
        "949a9f1495de4ed0aac21ebd8696e575": {
          "model_module": "@jupyter-widgets/controls",
          "model_module_version": "1.5.0",
          "model_name": "HTMLModel",
          "state": {
            "_dom_classes": [],
            "_model_module": "@jupyter-widgets/controls",
            "_model_module_version": "1.5.0",
            "_model_name": "HTMLModel",
            "_view_count": null,
            "_view_module": "@jupyter-widgets/controls",
            "_view_module_version": "1.5.0",
            "_view_name": "HTMLView",
            "description": "",
            "description_tooltip": null,
            "layout": "IPY_MODEL_59564687794b4d60911fdfa3ca61aa6d",
            "placeholder": "​",
            "style": "IPY_MODEL_c3d921a298554c57a51feb8947d9ccbd",
            "value": "Generating test examples...:   0%"
          }
        },
        "952979221f614e9387d0a8efc7d2dbb2": {
          "model_module": "@jupyter-widgets/controls",
          "model_module_version": "1.5.0",
          "model_name": "HBoxModel",
          "state": {
            "_dom_classes": [],
            "_model_module": "@jupyter-widgets/controls",
            "_model_module_version": "1.5.0",
            "_model_name": "HBoxModel",
            "_view_count": null,
            "_view_module": "@jupyter-widgets/controls",
            "_view_module_version": "1.5.0",
            "_view_name": "HBoxView",
            "box_style": "",
            "children": [
              "IPY_MODEL_4d2f58d9b31843b7bd0c1d04b14edee8",
              "IPY_MODEL_3c4aa63ceae541db8f9bc5f6213a9849",
              "IPY_MODEL_77eb2fe97bb1460fa00c43c0621fb9ad"
            ],
            "layout": "IPY_MODEL_134000a2d6f646708c09ee437806ad41"
          }
        },
        "9660248a72fa4ad9a309b0d2bdeb84b7": {
          "model_module": "@jupyter-widgets/controls",
          "model_module_version": "1.5.0",
          "model_name": "HBoxModel",
          "state": {
            "_dom_classes": [],
            "_model_module": "@jupyter-widgets/controls",
            "_model_module_version": "1.5.0",
            "_model_name": "HBoxModel",
            "_view_count": null,
            "_view_module": "@jupyter-widgets/controls",
            "_view_module_version": "1.5.0",
            "_view_name": "HBoxView",
            "box_style": "",
            "children": [
              "IPY_MODEL_eeae886cdb7c4fb6bcba6d97baf2555d",
              "IPY_MODEL_a9b4705f2e2c4322a1a7d63d65689cab",
              "IPY_MODEL_a7767dbbd2424d68908488ae7154aff9"
            ],
            "layout": "IPY_MODEL_672c65c817a64be0b2ff6f3103c9efa7"
          }
        },
        "9a2e40f93a14456ebf641074bc34e8a0": {
          "model_module": "@jupyter-widgets/controls",
          "model_module_version": "1.5.0",
          "model_name": "HBoxModel",
          "state": {
            "_dom_classes": [],
            "_model_module": "@jupyter-widgets/controls",
            "_model_module_version": "1.5.0",
            "_model_name": "HBoxModel",
            "_view_count": null,
            "_view_module": "@jupyter-widgets/controls",
            "_view_module_version": "1.5.0",
            "_view_name": "HBoxView",
            "box_style": "",
            "children": [
              "IPY_MODEL_78c23bea4f09445f85b41383059ea64b",
              "IPY_MODEL_40c5bf0a27e44e648c7cbb1175ecae86",
              "IPY_MODEL_2ad3c9f5ecfb4eed99fe653956733c14"
            ],
            "layout": "IPY_MODEL_01daf951429e4518af2593280ca51f42"
          }
        },
        "a1cd7d1ead424ae0ab40e2399b82b555": {
          "model_module": "@jupyter-widgets/controls",
          "model_module_version": "1.5.0",
          "model_name": "DescriptionStyleModel",
          "state": {
            "_model_module": "@jupyter-widgets/controls",
            "_model_module_version": "1.5.0",
            "_model_name": "DescriptionStyleModel",
            "_view_count": null,
            "_view_module": "@jupyter-widgets/base",
            "_view_module_version": "1.2.0",
            "_view_name": "StyleView",
            "description_width": ""
          }
        },
        "a46a6ea909874c6d93c34c809dd258db": {
          "model_module": "@jupyter-widgets/controls",
          "model_module_version": "1.5.0",
          "model_name": "DescriptionStyleModel",
          "state": {
            "_model_module": "@jupyter-widgets/controls",
            "_model_module_version": "1.5.0",
            "_model_name": "DescriptionStyleModel",
            "_view_count": null,
            "_view_module": "@jupyter-widgets/base",
            "_view_module_version": "1.2.0",
            "_view_name": "StyleView",
            "description_width": ""
          }
        },
        "a7767dbbd2424d68908488ae7154aff9": {
          "model_module": "@jupyter-widgets/controls",
          "model_module_version": "1.5.0",
          "model_name": "HTMLModel",
          "state": {
            "_dom_classes": [],
            "_model_module": "@jupyter-widgets/controls",
            "_model_module_version": "1.5.0",
            "_model_name": "HTMLModel",
            "_view_count": null,
            "_view_module": "@jupyter-widgets/controls",
            "_view_module_version": "1.5.0",
            "_view_name": "HTMLView",
            "description": "",
            "description_tooltip": null,
            "layout": "IPY_MODEL_080f9b9039ae4ad787fba78e347c51ff",
            "placeholder": "​",
            "style": "IPY_MODEL_c21beeeb1da1409d8aeb0b9601011b3b",
            "value": " 0/1803 [00:00&lt;?, ? examples/s]"
          }
        },
        "a9b4705f2e2c4322a1a7d63d65689cab": {
          "model_module": "@jupyter-widgets/controls",
          "model_module_version": "1.5.0",
          "model_name": "FloatProgressModel",
          "state": {
            "_dom_classes": [],
            "_model_module": "@jupyter-widgets/controls",
            "_model_module_version": "1.5.0",
            "_model_name": "FloatProgressModel",
            "_view_count": null,
            "_view_module": "@jupyter-widgets/controls",
            "_view_module_version": "1.5.0",
            "_view_name": "ProgressView",
            "bar_style": "",
            "description": "",
            "description_tooltip": null,
            "layout": "IPY_MODEL_7218404e7fe440e8a6355d14314a347a",
            "max": 1803,
            "min": 0,
            "orientation": "horizontal",
            "style": "IPY_MODEL_13d1bf7c22e645c5be9ef81de4480d26",
            "value": 1803
          }
        },
        "a9f7613d8dc9457889dc927ac3b90875": {
          "model_module": "@jupyter-widgets/controls",
          "model_module_version": "1.5.0",
          "model_name": "HTMLModel",
          "state": {
            "_dom_classes": [],
            "_model_module": "@jupyter-widgets/controls",
            "_model_module_version": "1.5.0",
            "_model_name": "HTMLModel",
            "_view_count": null,
            "_view_module": "@jupyter-widgets/controls",
            "_view_module_version": "1.5.0",
            "_view_name": "HTMLView",
            "description": "",
            "description_tooltip": null,
            "layout": "IPY_MODEL_3d78911aef494ff89e796a0b4c5dd74a",
            "placeholder": "​",
            "style": "IPY_MODEL_11d206ad308e434394687dea61b36387",
            "value": "Generating splits...: 100%"
          }
        },
        "aa253861a8d040978fe782bf999dc7ed": {
          "model_module": "@jupyter-widgets/controls",
          "model_module_version": "1.5.0",
          "model_name": "DescriptionStyleModel",
          "state": {
            "_model_module": "@jupyter-widgets/controls",
            "_model_module_version": "1.5.0",
            "_model_name": "DescriptionStyleModel",
            "_view_count": null,
            "_view_module": "@jupyter-widgets/base",
            "_view_module_version": "1.2.0",
            "_view_name": "StyleView",
            "description_width": ""
          }
        },
        "abea93357e0945d5a32a800343f3d5ee": {
          "model_module": "@jupyter-widgets/controls",
          "model_module_version": "1.5.0",
          "model_name": "DescriptionStyleModel",
          "state": {
            "_model_module": "@jupyter-widgets/controls",
            "_model_module_version": "1.5.0",
            "_model_name": "DescriptionStyleModel",
            "_view_count": null,
            "_view_module": "@jupyter-widgets/base",
            "_view_module_version": "1.2.0",
            "_view_name": "StyleView",
            "description_width": ""
          }
        },
        "ad478a3092114859828cdb81f47ee33a": {
          "model_module": "@jupyter-widgets/base",
          "model_module_version": "1.2.0",
          "model_name": "LayoutModel",
          "state": {
            "_model_module": "@jupyter-widgets/base",
            "_model_module_version": "1.2.0",
            "_model_name": "LayoutModel",
            "_view_count": null,
            "_view_module": "@jupyter-widgets/base",
            "_view_module_version": "1.2.0",
            "_view_name": "LayoutView",
            "align_content": null,
            "align_items": null,
            "align_self": null,
            "border": null,
            "bottom": null,
            "display": null,
            "flex": null,
            "flex_flow": null,
            "grid_area": null,
            "grid_auto_columns": null,
            "grid_auto_flow": null,
            "grid_auto_rows": null,
            "grid_column": null,
            "grid_gap": null,
            "grid_row": null,
            "grid_template_areas": null,
            "grid_template_columns": null,
            "grid_template_rows": null,
            "height": null,
            "justify_content": null,
            "justify_items": null,
            "left": null,
            "margin": null,
            "max_height": null,
            "max_width": null,
            "min_height": null,
            "min_width": null,
            "object_fit": null,
            "object_position": null,
            "order": null,
            "overflow": null,
            "overflow_x": null,
            "overflow_y": null,
            "padding": null,
            "right": null,
            "top": null,
            "visibility": null,
            "width": null
          }
        },
        "aebb366544e64977a72b8e2da8350619": {
          "model_module": "@jupyter-widgets/base",
          "model_module_version": "1.2.0",
          "model_name": "LayoutModel",
          "state": {
            "_model_module": "@jupyter-widgets/base",
            "_model_module_version": "1.2.0",
            "_model_name": "LayoutModel",
            "_view_count": null,
            "_view_module": "@jupyter-widgets/base",
            "_view_module_version": "1.2.0",
            "_view_name": "LayoutView",
            "align_content": null,
            "align_items": null,
            "align_self": null,
            "border": null,
            "bottom": null,
            "display": null,
            "flex": null,
            "flex_flow": null,
            "grid_area": null,
            "grid_auto_columns": null,
            "grid_auto_flow": null,
            "grid_auto_rows": null,
            "grid_column": null,
            "grid_gap": null,
            "grid_row": null,
            "grid_template_areas": null,
            "grid_template_columns": null,
            "grid_template_rows": null,
            "height": null,
            "justify_content": null,
            "justify_items": null,
            "left": null,
            "margin": null,
            "max_height": null,
            "max_width": null,
            "min_height": null,
            "min_width": null,
            "object_fit": null,
            "object_position": null,
            "order": null,
            "overflow": null,
            "overflow_x": null,
            "overflow_y": null,
            "padding": null,
            "right": null,
            "top": null,
            "visibility": null,
            "width": null
          }
        },
        "b1ca7212a4294348898688812e9a8802": {
          "model_module": "@jupyter-widgets/base",
          "model_module_version": "1.2.0",
          "model_name": "LayoutModel",
          "state": {
            "_model_module": "@jupyter-widgets/base",
            "_model_module_version": "1.2.0",
            "_model_name": "LayoutModel",
            "_view_count": null,
            "_view_module": "@jupyter-widgets/base",
            "_view_module_version": "1.2.0",
            "_view_name": "LayoutView",
            "align_content": null,
            "align_items": null,
            "align_self": null,
            "border": null,
            "bottom": null,
            "display": null,
            "flex": null,
            "flex_flow": null,
            "grid_area": null,
            "grid_auto_columns": null,
            "grid_auto_flow": null,
            "grid_auto_rows": null,
            "grid_column": null,
            "grid_gap": null,
            "grid_row": null,
            "grid_template_areas": null,
            "grid_template_columns": null,
            "grid_template_rows": null,
            "height": null,
            "justify_content": null,
            "justify_items": null,
            "left": null,
            "margin": null,
            "max_height": null,
            "max_width": null,
            "min_height": null,
            "min_width": null,
            "object_fit": null,
            "object_position": null,
            "order": null,
            "overflow": null,
            "overflow_x": null,
            "overflow_y": null,
            "padding": null,
            "right": null,
            "top": null,
            "visibility": null,
            "width": null
          }
        },
        "b4187526c4094889a7858e7b9d92a5d5": {
          "model_module": "@jupyter-widgets/controls",
          "model_module_version": "1.5.0",
          "model_name": "DescriptionStyleModel",
          "state": {
            "_model_module": "@jupyter-widgets/controls",
            "_model_module_version": "1.5.0",
            "_model_name": "DescriptionStyleModel",
            "_view_count": null,
            "_view_module": "@jupyter-widgets/base",
            "_view_module_version": "1.2.0",
            "_view_name": "StyleView",
            "description_width": ""
          }
        },
        "b62f15ffaf4249b0b77e431dc30fbb90": {
          "model_module": "@jupyter-widgets/controls",
          "model_module_version": "1.5.0",
          "model_name": "HBoxModel",
          "state": {
            "_dom_classes": [],
            "_model_module": "@jupyter-widgets/controls",
            "_model_module_version": "1.5.0",
            "_model_name": "HBoxModel",
            "_view_count": null,
            "_view_module": "@jupyter-widgets/controls",
            "_view_module_version": "1.5.0",
            "_view_name": "HBoxView",
            "box_style": "",
            "children": [
              "IPY_MODEL_b7b8760fbbbe490c9429bbd381fa162d",
              "IPY_MODEL_6adcb515b422422182a2f86422895033",
              "IPY_MODEL_dc0a491f9fe849f18f258a12aff3d8a2"
            ],
            "layout": "IPY_MODEL_57664fe70ca44e9c9cabb4c9bbd4ae46"
          }
        },
        "b7b8760fbbbe490c9429bbd381fa162d": {
          "model_module": "@jupyter-widgets/controls",
          "model_module_version": "1.5.0",
          "model_name": "HTMLModel",
          "state": {
            "_dom_classes": [],
            "_model_module": "@jupyter-widgets/controls",
            "_model_module_version": "1.5.0",
            "_model_name": "HTMLModel",
            "_view_count": null,
            "_view_module": "@jupyter-widgets/controls",
            "_view_module_version": "1.5.0",
            "_view_name": "HTMLView",
            "description": "",
            "description_tooltip": null,
            "layout": "IPY_MODEL_47085e17888f4d4fbdcacd642eb3271f",
            "placeholder": "​",
            "style": "IPY_MODEL_a1cd7d1ead424ae0ab40e2399b82b555",
            "value": "Shuffling /root/tensorflow_datasets/ted_hrlr_translate/pt_to_en/incomplete.FNTK02_1.0.0/ted_hrlr_translate-validation.tfrecord*...:   0%"
          }
        },
        "b7ef0e3d663845368a906616db24b5ed": {
          "model_module": "@jupyter-widgets/controls",
          "model_module_version": "1.5.0",
          "model_name": "DescriptionStyleModel",
          "state": {
            "_model_module": "@jupyter-widgets/controls",
            "_model_module_version": "1.5.0",
            "_model_name": "DescriptionStyleModel",
            "_view_count": null,
            "_view_module": "@jupyter-widgets/base",
            "_view_module_version": "1.2.0",
            "_view_name": "StyleView",
            "description_width": ""
          }
        },
        "b96c7c42782c46eb974c492982e21b32": {
          "model_module": "@jupyter-widgets/controls",
          "model_module_version": "1.5.0",
          "model_name": "ProgressStyleModel",
          "state": {
            "_model_module": "@jupyter-widgets/controls",
            "_model_module_version": "1.5.0",
            "_model_name": "ProgressStyleModel",
            "_view_count": null,
            "_view_module": "@jupyter-widgets/base",
            "_view_module_version": "1.2.0",
            "_view_name": "StyleView",
            "bar_color": null,
            "description_width": ""
          }
        },
        "bbd459ffd9b646d99b2f4b94d6e965dc": {
          "model_module": "@jupyter-widgets/controls",
          "model_module_version": "1.5.0",
          "model_name": "HTMLModel",
          "state": {
            "_dom_classes": [],
            "_model_module": "@jupyter-widgets/controls",
            "_model_module_version": "1.5.0",
            "_model_name": "HTMLModel",
            "_view_count": null,
            "_view_module": "@jupyter-widgets/controls",
            "_view_module_version": "1.5.0",
            "_view_name": "HTMLView",
            "description": "",
            "description_tooltip": null,
            "layout": "IPY_MODEL_f4c703beef7749efa01aecb264df503f",
            "placeholder": "​",
            "style": "IPY_MODEL_b4187526c4094889a7858e7b9d92a5d5",
            "value": " 112/112 [00:17&lt;00:00, 17.63s/ file]"
          }
        },
        "bd9e888d4c024cafae275d0beca8a4ae": {
          "model_module": "@jupyter-widgets/controls",
          "model_module_version": "1.5.0",
          "model_name": "HTMLModel",
          "state": {
            "_dom_classes": [],
            "_model_module": "@jupyter-widgets/controls",
            "_model_module_version": "1.5.0",
            "_model_name": "HTMLModel",
            "_view_count": null,
            "_view_module": "@jupyter-widgets/controls",
            "_view_module_version": "1.5.0",
            "_view_name": "HTMLView",
            "description": "",
            "description_tooltip": null,
            "layout": "IPY_MODEL_28bb0d479d3943508cea725bae1d9225",
            "placeholder": "​",
            "style": "IPY_MODEL_abea93357e0945d5a32a800343f3d5ee",
            "value": "Extraction completed...: 100%"
          }
        },
        "c012ed0b17884a5582dd4462f1e17c18": {
          "model_module": "@jupyter-widgets/controls",
          "model_module_version": "1.5.0",
          "model_name": "FloatProgressModel",
          "state": {
            "_dom_classes": [],
            "_model_module": "@jupyter-widgets/controls",
            "_model_module_version": "1.5.0",
            "_model_name": "FloatProgressModel",
            "_view_count": null,
            "_view_module": "@jupyter-widgets/controls",
            "_view_module_version": "1.5.0",
            "_view_name": "ProgressView",
            "bar_style": "success",
            "description": "",
            "description_tooltip": null,
            "layout": "IPY_MODEL_4dc6317cb3e149dfb9ff57b256086cd9",
            "max": 1,
            "min": 0,
            "orientation": "horizontal",
            "style": "IPY_MODEL_874bc0e4991e4122bc62ebf5ffa05fa5",
            "value": 1
          }
        },
        "c21beeeb1da1409d8aeb0b9601011b3b": {
          "model_module": "@jupyter-widgets/controls",
          "model_module_version": "1.5.0",
          "model_name": "DescriptionStyleModel",
          "state": {
            "_model_module": "@jupyter-widgets/controls",
            "_model_module_version": "1.5.0",
            "_model_name": "DescriptionStyleModel",
            "_view_count": null,
            "_view_module": "@jupyter-widgets/base",
            "_view_module_version": "1.2.0",
            "_view_name": "StyleView",
            "description_width": ""
          }
        },
        "c3d921a298554c57a51feb8947d9ccbd": {
          "model_module": "@jupyter-widgets/controls",
          "model_module_version": "1.5.0",
          "model_name": "DescriptionStyleModel",
          "state": {
            "_model_module": "@jupyter-widgets/controls",
            "_model_module_version": "1.5.0",
            "_model_name": "DescriptionStyleModel",
            "_view_count": null,
            "_view_module": "@jupyter-widgets/base",
            "_view_module_version": "1.2.0",
            "_view_name": "StyleView",
            "description_width": ""
          }
        },
        "c936850e8a3a4010a45c193f3ffd515c": {
          "model_module": "@jupyter-widgets/base",
          "model_module_version": "1.2.0",
          "model_name": "LayoutModel",
          "state": {
            "_model_module": "@jupyter-widgets/base",
            "_model_module_version": "1.2.0",
            "_model_name": "LayoutModel",
            "_view_count": null,
            "_view_module": "@jupyter-widgets/base",
            "_view_module_version": "1.2.0",
            "_view_name": "LayoutView",
            "align_content": null,
            "align_items": null,
            "align_self": null,
            "border": null,
            "bottom": null,
            "display": null,
            "flex": null,
            "flex_flow": null,
            "grid_area": null,
            "grid_auto_columns": null,
            "grid_auto_flow": null,
            "grid_auto_rows": null,
            "grid_column": null,
            "grid_gap": null,
            "grid_row": null,
            "grid_template_areas": null,
            "grid_template_columns": null,
            "grid_template_rows": null,
            "height": null,
            "justify_content": null,
            "justify_items": null,
            "left": null,
            "margin": null,
            "max_height": null,
            "max_width": null,
            "min_height": null,
            "min_width": null,
            "object_fit": null,
            "object_position": null,
            "order": null,
            "overflow": null,
            "overflow_x": null,
            "overflow_y": null,
            "padding": null,
            "right": null,
            "top": null,
            "visibility": null,
            "width": null
          }
        },
        "cb2d255affdb4ee0b4109e7ce620a02c": {
          "model_module": "@jupyter-widgets/controls",
          "model_module_version": "1.5.0",
          "model_name": "HTMLModel",
          "state": {
            "_dom_classes": [],
            "_model_module": "@jupyter-widgets/controls",
            "_model_module_version": "1.5.0",
            "_model_name": "HTMLModel",
            "_view_count": null,
            "_view_module": "@jupyter-widgets/controls",
            "_view_module_version": "1.5.0",
            "_view_name": "HTMLView",
            "description": "",
            "description_tooltip": null,
            "layout": "IPY_MODEL_23b90445de054f66bc949f8f99d021d1",
            "placeholder": "​",
            "style": "IPY_MODEL_1b2caead4ac74db6bc7995f8c6ae6354",
            "value": " 45742/51785 [00:06&lt;00:00, 9014.25 examples/s]"
          }
        },
        "cead8c4eb0874819931dc052a9290d5a": {
          "model_module": "@jupyter-widgets/controls",
          "model_module_version": "1.5.0",
          "model_name": "ProgressStyleModel",
          "state": {
            "_model_module": "@jupyter-widgets/controls",
            "_model_module_version": "1.5.0",
            "_model_name": "ProgressStyleModel",
            "_view_count": null,
            "_view_module": "@jupyter-widgets/base",
            "_view_module_version": "1.2.0",
            "_view_name": "StyleView",
            "bar_color": null,
            "description_width": ""
          }
        },
        "d1b43a688a754a89a1125aa7725818c4": {
          "model_module": "@jupyter-widgets/base",
          "model_module_version": "1.2.0",
          "model_name": "LayoutModel",
          "state": {
            "_model_module": "@jupyter-widgets/base",
            "_model_module_version": "1.2.0",
            "_model_name": "LayoutModel",
            "_view_count": null,
            "_view_module": "@jupyter-widgets/base",
            "_view_module_version": "1.2.0",
            "_view_name": "LayoutView",
            "align_content": null,
            "align_items": null,
            "align_self": null,
            "border": null,
            "bottom": null,
            "display": null,
            "flex": null,
            "flex_flow": null,
            "grid_area": null,
            "grid_auto_columns": null,
            "grid_auto_flow": null,
            "grid_auto_rows": null,
            "grid_column": null,
            "grid_gap": null,
            "grid_row": null,
            "grid_template_areas": null,
            "grid_template_columns": null,
            "grid_template_rows": null,
            "height": null,
            "justify_content": null,
            "justify_items": null,
            "left": null,
            "margin": null,
            "max_height": null,
            "max_width": null,
            "min_height": null,
            "min_width": null,
            "object_fit": null,
            "object_position": null,
            "order": null,
            "overflow": null,
            "overflow_x": null,
            "overflow_y": null,
            "padding": null,
            "right": null,
            "top": null,
            "visibility": "hidden",
            "width": null
          }
        },
        "d33a5232aa0e49ac8eff6a3a1c4efddb": {
          "model_module": "@jupyter-widgets/controls",
          "model_module_version": "1.5.0",
          "model_name": "HTMLModel",
          "state": {
            "_dom_classes": [],
            "_model_module": "@jupyter-widgets/controls",
            "_model_module_version": "1.5.0",
            "_model_name": "HTMLModel",
            "_view_count": null,
            "_view_module": "@jupyter-widgets/controls",
            "_view_module_version": "1.5.0",
            "_view_name": "HTMLView",
            "description": "",
            "description_tooltip": null,
            "layout": "IPY_MODEL_6df2b00cb769434a9cc17de8f47a2534",
            "placeholder": "​",
            "style": "IPY_MODEL_29490db82624444091643e8c178df432",
            "value": "Dl Size...: 100%"
          }
        },
        "d33ab8833b7541f8ab86e44dfdf915a4": {
          "model_module": "@jupyter-widgets/base",
          "model_module_version": "1.2.0",
          "model_name": "LayoutModel",
          "state": {
            "_model_module": "@jupyter-widgets/base",
            "_model_module_version": "1.2.0",
            "_model_name": "LayoutModel",
            "_view_count": null,
            "_view_module": "@jupyter-widgets/base",
            "_view_module_version": "1.2.0",
            "_view_name": "LayoutView",
            "align_content": null,
            "align_items": null,
            "align_self": null,
            "border": null,
            "bottom": null,
            "display": null,
            "flex": null,
            "flex_flow": null,
            "grid_area": null,
            "grid_auto_columns": null,
            "grid_auto_flow": null,
            "grid_auto_rows": null,
            "grid_column": null,
            "grid_gap": null,
            "grid_row": null,
            "grid_template_areas": null,
            "grid_template_columns": null,
            "grid_template_rows": null,
            "height": null,
            "justify_content": null,
            "justify_items": null,
            "left": null,
            "margin": null,
            "max_height": null,
            "max_width": null,
            "min_height": null,
            "min_width": null,
            "object_fit": null,
            "object_position": null,
            "order": null,
            "overflow": null,
            "overflow_x": null,
            "overflow_y": null,
            "padding": null,
            "right": null,
            "top": null,
            "visibility": null,
            "width": null
          }
        },
        "d3bff6b16f394ca987bc749e6879713c": {
          "model_module": "@jupyter-widgets/base",
          "model_module_version": "1.2.0",
          "model_name": "LayoutModel",
          "state": {
            "_model_module": "@jupyter-widgets/base",
            "_model_module_version": "1.2.0",
            "_model_name": "LayoutModel",
            "_view_count": null,
            "_view_module": "@jupyter-widgets/base",
            "_view_module_version": "1.2.0",
            "_view_name": "LayoutView",
            "align_content": null,
            "align_items": null,
            "align_self": null,
            "border": null,
            "bottom": null,
            "display": null,
            "flex": null,
            "flex_flow": null,
            "grid_area": null,
            "grid_auto_columns": null,
            "grid_auto_flow": null,
            "grid_auto_rows": null,
            "grid_column": null,
            "grid_gap": null,
            "grid_row": null,
            "grid_template_areas": null,
            "grid_template_columns": null,
            "grid_template_rows": null,
            "height": null,
            "justify_content": null,
            "justify_items": null,
            "left": null,
            "margin": null,
            "max_height": null,
            "max_width": null,
            "min_height": null,
            "min_width": null,
            "object_fit": null,
            "object_position": null,
            "order": null,
            "overflow": null,
            "overflow_x": null,
            "overflow_y": null,
            "padding": null,
            "right": null,
            "top": null,
            "visibility": null,
            "width": null
          }
        },
        "d96dd0f82be14602981286a95c64ecb5": {
          "model_module": "@jupyter-widgets/base",
          "model_module_version": "1.2.0",
          "model_name": "LayoutModel",
          "state": {
            "_model_module": "@jupyter-widgets/base",
            "_model_module_version": "1.2.0",
            "_model_name": "LayoutModel",
            "_view_count": null,
            "_view_module": "@jupyter-widgets/base",
            "_view_module_version": "1.2.0",
            "_view_name": "LayoutView",
            "align_content": null,
            "align_items": null,
            "align_self": null,
            "border": null,
            "bottom": null,
            "display": null,
            "flex": null,
            "flex_flow": null,
            "grid_area": null,
            "grid_auto_columns": null,
            "grid_auto_flow": null,
            "grid_auto_rows": null,
            "grid_column": null,
            "grid_gap": null,
            "grid_row": null,
            "grid_template_areas": null,
            "grid_template_columns": null,
            "grid_template_rows": null,
            "height": null,
            "justify_content": null,
            "justify_items": null,
            "left": null,
            "margin": null,
            "max_height": null,
            "max_width": null,
            "min_height": null,
            "min_width": null,
            "object_fit": null,
            "object_position": null,
            "order": null,
            "overflow": null,
            "overflow_x": null,
            "overflow_y": null,
            "padding": null,
            "right": null,
            "top": null,
            "visibility": null,
            "width": null
          }
        },
        "dc0a491f9fe849f18f258a12aff3d8a2": {
          "model_module": "@jupyter-widgets/controls",
          "model_module_version": "1.5.0",
          "model_name": "HTMLModel",
          "state": {
            "_dom_classes": [],
            "_model_module": "@jupyter-widgets/controls",
            "_model_module_version": "1.5.0",
            "_model_name": "HTMLModel",
            "_view_count": null,
            "_view_module": "@jupyter-widgets/controls",
            "_view_module_version": "1.5.0",
            "_view_name": "HTMLView",
            "description": "",
            "description_tooltip": null,
            "layout": "IPY_MODEL_9458859970144fb4bc942f9bc7fc7e9b",
            "placeholder": "​",
            "style": "IPY_MODEL_a46a6ea909874c6d93c34c809dd258db",
            "value": " 0/1193 [00:00&lt;?, ? examples/s]"
          }
        },
        "dc3a13130300480c862b450ba1612019": {
          "model_module": "@jupyter-widgets/base",
          "model_module_version": "1.2.0",
          "model_name": "LayoutModel",
          "state": {
            "_model_module": "@jupyter-widgets/base",
            "_model_module_version": "1.2.0",
            "_model_name": "LayoutModel",
            "_view_count": null,
            "_view_module": "@jupyter-widgets/base",
            "_view_module_version": "1.2.0",
            "_view_name": "LayoutView",
            "align_content": null,
            "align_items": null,
            "align_self": null,
            "border": null,
            "bottom": null,
            "display": null,
            "flex": null,
            "flex_flow": null,
            "grid_area": null,
            "grid_auto_columns": null,
            "grid_auto_flow": null,
            "grid_auto_rows": null,
            "grid_column": null,
            "grid_gap": null,
            "grid_row": null,
            "grid_template_areas": null,
            "grid_template_columns": null,
            "grid_template_rows": null,
            "height": null,
            "justify_content": null,
            "justify_items": null,
            "left": null,
            "margin": null,
            "max_height": null,
            "max_width": null,
            "min_height": null,
            "min_width": null,
            "object_fit": null,
            "object_position": null,
            "order": null,
            "overflow": null,
            "overflow_x": null,
            "overflow_y": null,
            "padding": null,
            "right": null,
            "top": null,
            "visibility": null,
            "width": null
          }
        },
        "dfbd5118a3c542df905ef65ef8c7166e": {
          "model_module": "@jupyter-widgets/controls",
          "model_module_version": "1.5.0",
          "model_name": "FloatProgressModel",
          "state": {
            "_dom_classes": [],
            "_model_module": "@jupyter-widgets/controls",
            "_model_module_version": "1.5.0",
            "_model_name": "FloatProgressModel",
            "_view_count": null,
            "_view_module": "@jupyter-widgets/controls",
            "_view_module_version": "1.5.0",
            "_view_name": "ProgressView",
            "bar_style": "success",
            "description": "",
            "description_tooltip": null,
            "layout": "IPY_MODEL_32b51ad9889d4524ab5e313f6c111ad2",
            "max": 1,
            "min": 0,
            "orientation": "horizontal",
            "style": "IPY_MODEL_38d3ce16cfc948f19df9bf517c49d995",
            "value": 1
          }
        },
        "e0b16abf4b204d74b33af84aea93ce60": {
          "model_module": "@jupyter-widgets/base",
          "model_module_version": "1.2.0",
          "model_name": "LayoutModel",
          "state": {
            "_model_module": "@jupyter-widgets/base",
            "_model_module_version": "1.2.0",
            "_model_name": "LayoutModel",
            "_view_count": null,
            "_view_module": "@jupyter-widgets/base",
            "_view_module_version": "1.2.0",
            "_view_name": "LayoutView",
            "align_content": null,
            "align_items": null,
            "align_self": null,
            "border": null,
            "bottom": null,
            "display": null,
            "flex": null,
            "flex_flow": null,
            "grid_area": null,
            "grid_auto_columns": null,
            "grid_auto_flow": null,
            "grid_auto_rows": null,
            "grid_column": null,
            "grid_gap": null,
            "grid_row": null,
            "grid_template_areas": null,
            "grid_template_columns": null,
            "grid_template_rows": null,
            "height": null,
            "justify_content": null,
            "justify_items": null,
            "left": null,
            "margin": null,
            "max_height": null,
            "max_width": null,
            "min_height": null,
            "min_width": null,
            "object_fit": null,
            "object_position": null,
            "order": null,
            "overflow": null,
            "overflow_x": null,
            "overflow_y": null,
            "padding": null,
            "right": null,
            "top": null,
            "visibility": null,
            "width": null
          }
        },
        "e57bf246869449f8963c61b028e398d6": {
          "model_module": "@jupyter-widgets/controls",
          "model_module_version": "1.5.0",
          "model_name": "HTMLModel",
          "state": {
            "_dom_classes": [],
            "_model_module": "@jupyter-widgets/controls",
            "_model_module_version": "1.5.0",
            "_model_name": "HTMLModel",
            "_view_count": null,
            "_view_module": "@jupyter-widgets/controls",
            "_view_module_version": "1.5.0",
            "_view_name": "HTMLView",
            "description": "",
            "description_tooltip": null,
            "layout": "IPY_MODEL_f12893444f19418d808f19472ae07aaa",
            "placeholder": "​",
            "style": "IPY_MODEL_04ef0874d3714471872cfe1f4c24dd0e",
            "value": "Generating train examples...:  88%"
          }
        },
        "e83e5b78fb274ec1b7f66eace494edfb": {
          "model_module": "@jupyter-widgets/controls",
          "model_module_version": "1.5.0",
          "model_name": "DescriptionStyleModel",
          "state": {
            "_model_module": "@jupyter-widgets/controls",
            "_model_module_version": "1.5.0",
            "_model_name": "DescriptionStyleModel",
            "_view_count": null,
            "_view_module": "@jupyter-widgets/base",
            "_view_module_version": "1.2.0",
            "_view_name": "StyleView",
            "description_width": ""
          }
        },
        "ed6d29924c6446d9b88f1de63775c436": {
          "model_module": "@jupyter-widgets/controls",
          "model_module_version": "1.5.0",
          "model_name": "DescriptionStyleModel",
          "state": {
            "_model_module": "@jupyter-widgets/controls",
            "_model_module_version": "1.5.0",
            "_model_name": "DescriptionStyleModel",
            "_view_count": null,
            "_view_module": "@jupyter-widgets/base",
            "_view_module_version": "1.2.0",
            "_view_name": "StyleView",
            "description_width": ""
          }
        },
        "eeae886cdb7c4fb6bcba6d97baf2555d": {
          "model_module": "@jupyter-widgets/controls",
          "model_module_version": "1.5.0",
          "model_name": "HTMLModel",
          "state": {
            "_dom_classes": [],
            "_model_module": "@jupyter-widgets/controls",
            "_model_module_version": "1.5.0",
            "_model_name": "HTMLModel",
            "_view_count": null,
            "_view_module": "@jupyter-widgets/controls",
            "_view_module_version": "1.5.0",
            "_view_name": "HTMLView",
            "description": "",
            "description_tooltip": null,
            "layout": "IPY_MODEL_dc3a13130300480c862b450ba1612019",
            "placeholder": "​",
            "style": "IPY_MODEL_2cae0dfe863144c0ac8593181dc1b0e8",
            "value": "Shuffling /root/tensorflow_datasets/ted_hrlr_translate/pt_to_en/incomplete.FNTK02_1.0.0/ted_hrlr_translate-test.tfrecord*...:   0%"
          }
        },
        "efa6ecb16d9e489490e52843bc507dc9": {
          "model_module": "@jupyter-widgets/base",
          "model_module_version": "1.2.0",
          "model_name": "LayoutModel",
          "state": {
            "_model_module": "@jupyter-widgets/base",
            "_model_module_version": "1.2.0",
            "_model_name": "LayoutModel",
            "_view_count": null,
            "_view_module": "@jupyter-widgets/base",
            "_view_module_version": "1.2.0",
            "_view_name": "LayoutView",
            "align_content": null,
            "align_items": null,
            "align_self": null,
            "border": null,
            "bottom": null,
            "display": null,
            "flex": null,
            "flex_flow": null,
            "grid_area": null,
            "grid_auto_columns": null,
            "grid_auto_flow": null,
            "grid_auto_rows": null,
            "grid_column": null,
            "grid_gap": null,
            "grid_row": null,
            "grid_template_areas": null,
            "grid_template_columns": null,
            "grid_template_rows": null,
            "height": null,
            "justify_content": null,
            "justify_items": null,
            "left": null,
            "margin": null,
            "max_height": null,
            "max_width": null,
            "min_height": null,
            "min_width": null,
            "object_fit": null,
            "object_position": null,
            "order": null,
            "overflow": null,
            "overflow_x": null,
            "overflow_y": null,
            "padding": null,
            "right": null,
            "top": null,
            "visibility": null,
            "width": null
          }
        },
        "f12893444f19418d808f19472ae07aaa": {
          "model_module": "@jupyter-widgets/base",
          "model_module_version": "1.2.0",
          "model_name": "LayoutModel",
          "state": {
            "_model_module": "@jupyter-widgets/base",
            "_model_module_version": "1.2.0",
            "_model_name": "LayoutModel",
            "_view_count": null,
            "_view_module": "@jupyter-widgets/base",
            "_view_module_version": "1.2.0",
            "_view_name": "LayoutView",
            "align_content": null,
            "align_items": null,
            "align_self": null,
            "border": null,
            "bottom": null,
            "display": null,
            "flex": null,
            "flex_flow": null,
            "grid_area": null,
            "grid_auto_columns": null,
            "grid_auto_flow": null,
            "grid_auto_rows": null,
            "grid_column": null,
            "grid_gap": null,
            "grid_row": null,
            "grid_template_areas": null,
            "grid_template_columns": null,
            "grid_template_rows": null,
            "height": null,
            "justify_content": null,
            "justify_items": null,
            "left": null,
            "margin": null,
            "max_height": null,
            "max_width": null,
            "min_height": null,
            "min_width": null,
            "object_fit": null,
            "object_position": null,
            "order": null,
            "overflow": null,
            "overflow_x": null,
            "overflow_y": null,
            "padding": null,
            "right": null,
            "top": null,
            "visibility": null,
            "width": null
          }
        },
        "f4c703beef7749efa01aecb264df503f": {
          "model_module": "@jupyter-widgets/base",
          "model_module_version": "1.2.0",
          "model_name": "LayoutModel",
          "state": {
            "_model_module": "@jupyter-widgets/base",
            "_model_module_version": "1.2.0",
            "_model_name": "LayoutModel",
            "_view_count": null,
            "_view_module": "@jupyter-widgets/base",
            "_view_module_version": "1.2.0",
            "_view_name": "LayoutView",
            "align_content": null,
            "align_items": null,
            "align_self": null,
            "border": null,
            "bottom": null,
            "display": null,
            "flex": null,
            "flex_flow": null,
            "grid_area": null,
            "grid_auto_columns": null,
            "grid_auto_flow": null,
            "grid_auto_rows": null,
            "grid_column": null,
            "grid_gap": null,
            "grid_row": null,
            "grid_template_areas": null,
            "grid_template_columns": null,
            "grid_template_rows": null,
            "height": null,
            "justify_content": null,
            "justify_items": null,
            "left": null,
            "margin": null,
            "max_height": null,
            "max_width": null,
            "min_height": null,
            "min_width": null,
            "object_fit": null,
            "object_position": null,
            "order": null,
            "overflow": null,
            "overflow_x": null,
            "overflow_y": null,
            "padding": null,
            "right": null,
            "top": null,
            "visibility": null,
            "width": null
          }
        },
        "f690741afb9c49dfabb957a08624ef1f": {
          "model_module": "@jupyter-widgets/controls",
          "model_module_version": "1.5.0",
          "model_name": "DescriptionStyleModel",
          "state": {
            "_model_module": "@jupyter-widgets/controls",
            "_model_module_version": "1.5.0",
            "_model_name": "DescriptionStyleModel",
            "_view_count": null,
            "_view_module": "@jupyter-widgets/base",
            "_view_module_version": "1.2.0",
            "_view_name": "StyleView",
            "description_width": ""
          }
        },
        "fc1a9a5e54a24d329aa303cad521fe7e": {
          "model_module": "@jupyter-widgets/controls",
          "model_module_version": "1.5.0",
          "model_name": "ProgressStyleModel",
          "state": {
            "_model_module": "@jupyter-widgets/controls",
            "_model_module_version": "1.5.0",
            "_model_name": "ProgressStyleModel",
            "_view_count": null,
            "_view_module": "@jupyter-widgets/base",
            "_view_module_version": "1.2.0",
            "_view_name": "StyleView",
            "bar_color": null,
            "description_width": ""
          }
        },
        "fd584a166a9949a9ac4ebd09ea15cbbf": {
          "model_module": "@jupyter-widgets/controls",
          "model_module_version": "1.5.0",
          "model_name": "ProgressStyleModel",
          "state": {
            "_model_module": "@jupyter-widgets/controls",
            "_model_module_version": "1.5.0",
            "_model_name": "ProgressStyleModel",
            "_view_count": null,
            "_view_module": "@jupyter-widgets/base",
            "_view_module_version": "1.2.0",
            "_view_name": "StyleView",
            "bar_color": null,
            "description_width": ""
          }
        }
      }
    }
  },
  "nbformat": 4,
  "nbformat_minor": 0
}
